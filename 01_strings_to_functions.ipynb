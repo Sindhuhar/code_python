{
  "nbformat": 4,
  "nbformat_minor": 0,
  "metadata": {
    "colab": {
      "provenance": [],
      "gpuType": "T4",
      "authorship_tag": "ABX9TyPFkbdwa6rijURrGneQ9FpT",
      "include_colab_link": true
    },
    "kernelspec": {
      "name": "python3",
      "display_name": "Python 3"
    },
    "language_info": {
      "name": "python"
    }
  },
  "cells": [
    {
      "cell_type": "markdown",
      "metadata": {
        "id": "view-in-github",
        "colab_type": "text"
      },
      "source": [
        "<a href=\"https://colab.research.google.com/github/Sindhuhar/code_python/blob/main/01_strings_to_functions.ipynb\" target=\"_parent\"><img src=\"https://colab.research.google.com/assets/colab-badge.svg\" alt=\"Open In Colab\"/></a>"
      ]
    },
    {
      "cell_type": "markdown",
      "source": [
        "#Strings in Python"
      ],
      "metadata": {
        "id": "nPwiET2JqNjP"
      }
    },
    {
      "cell_type": "markdown",
      "source": [
        "###How to Create a String\n",
        "Strings are usually created in one of three ways. You can use single, double or triple quotes. Let’s take a look!"
      ],
      "metadata": {
        "id": "9TkW7L3SqZtS"
      }
    },
    {
      "cell_type": "code",
      "source": [
        "my_string = \"Welcome to python\"\n",
        "another_string = 'The bright red fox jumped the fence.'\n",
        "a_long_string = '''this is a multi-line string. It covers more than one line'''\n",
        "triple_string = \"\"\"Here's another way to embed \"quotes\" in a string\"\"\"\n",
        "\n",
        "print(my_string)\n",
        "print(another_string)\n",
        "print(a_long_string)\n",
        "print(triple_string)"
      ],
      "metadata": {
        "colab": {
          "base_uri": "https://localhost:8080/"
        },
        "id": "XO9JJtxaqdpi",
        "outputId": "dc93d576-96a1-4db2-8be6-b60f4c1903f8"
      },
      "execution_count": 1,
      "outputs": [
        {
          "output_type": "stream",
          "name": "stdout",
          "text": [
            "Welcome to python\n",
            "The bright red fox jumped the fence.\n",
            "this is a multi-line string. It covers more than one line\n",
            "Here's another way to embed \"quotes\" in a string\n"
          ]
        }
      ]
    },
    {
      "cell_type": "markdown",
      "source": [
        "The code above demonstrates how you could put single quotes or double quotes into a string. There’s actually one other way to create a string and that is by using the str method. Here’s how it works:"
      ],
      "metadata": {
        "id": "TaMAHDbFryBE"
      }
    },
    {
      "cell_type": "code",
      "source": [
        "my_number = 123\n",
        "my_string = str(my_number)\n",
        "\n",
        "print(my_number)\n",
        "print(my_string)"
      ],
      "metadata": {
        "colab": {
          "base_uri": "https://localhost:8080/"
        },
        "id": "99VIDSgMrzDo",
        "outputId": "0f521e76-30e2-47c1-a17f-2d8becc18f8f"
      },
      "execution_count": 2,
      "outputs": [
        {
          "output_type": "stream",
          "name": "stdout",
          "text": [
            "123\n",
            "123\n"
          ]
        }
      ]
    },
    {
      "cell_type": "markdown",
      "source": [
        "It should be noted that a string is one of Python immutable types. What this means is that you cannot change a string’s content after creation. Let’s try to change one to see what happens:"
      ],
      "metadata": {
        "id": "-c7MdlVpsrGb"
      }
    },
    {
      "cell_type": "code",
      "source": [
        "# my_string = \"abc\"\n",
        "# my_string[0] = \"d\"\n",
        "# if we uncomment the above code will get the following error.\n",
        "# TypeError: 'str' object does not support item assignment"
      ],
      "metadata": {
        "id": "yuxty9vDsqZ5"
      },
      "execution_count": null,
      "outputs": []
    },
    {
      "cell_type": "code",
      "source": [
        "#  that by assigning a new string to the same variable that you’ve changed the string.\n",
        "\n",
        "my_string = \"abc\"\n",
        "print(id(my_string))\n",
        "\n",
        "my_string = \"def\"\n",
        "print(id(my_string))\n",
        "\n",
        "my_string = my_string + \"ghi\"\n",
        "print(id(my_string))\n",
        "\n",
        "# By checking the id of the object, we can determine that any time we assign a new value to the variable, its identity changes."
      ],
      "metadata": {
        "colab": {
          "base_uri": "https://localhost:8080/"
        },
        "id": "JyEfzJVBtDww",
        "outputId": "1146ab9c-65cf-4932-9662-447a58f234fa"
      },
      "execution_count": 3,
      "outputs": [
        {
          "output_type": "stream",
          "name": "stdout",
          "text": [
            "9843040\n",
            "133517260339056\n",
            "133516096201136\n"
          ]
        }
      ]
    },
    {
      "cell_type": "markdown",
      "source": [
        "Concatenation is a big word that means to combine or add two things together. In this case, we want to know how to add two strings together. As you might suspect, this operation is very easy in Python:"
      ],
      "metadata": {
        "id": "DGCTh-5qtbv7"
      }
    },
    {
      "cell_type": "code",
      "source": [
        "string_one = \"My dog ate \"\n",
        "string_two = \"my homework!\"\n",
        "string_three = string_one + string_two\n",
        "\n",
        "print(string_one)\n",
        "print(string_two)\n",
        "print(string_three)"
      ],
      "metadata": {
        "colab": {
          "base_uri": "https://localhost:8080/"
        },
        "id": "Y2fWa57ztczx",
        "outputId": "f0fe392f-efe9-4459-cd79-945b9537d411"
      },
      "execution_count": 4,
      "outputs": [
        {
          "output_type": "stream",
          "name": "stdout",
          "text": [
            "My dog ate \n",
            "my homework!\n",
            "My dog ate my homework!\n"
          ]
        }
      ]
    },
    {
      "cell_type": "code",
      "source": [
        "my_string = \"This is a string!\""
      ],
      "metadata": {
        "id": "V8hM0KkNtvzf"
      },
      "execution_count": 5,
      "outputs": []
    },
    {
      "cell_type": "markdown",
      "source": [
        "Now you want to cause this string to be entirely in uppercase. To do that, all you need to do is call its upper() method, like this:"
      ],
      "metadata": {
        "id": "gDh4g9cSt2fw"
      }
    },
    {
      "cell_type": "code",
      "source": [
        "my_string = \"This is a string!\"\n",
        "print(my_string.upper())\n",
        "\n",
        "# Or more concisely\n",
        "print(\"This is a string!\".upper())"
      ],
      "metadata": {
        "colab": {
          "base_uri": "https://localhost:8080/"
        },
        "id": "xxk_Yznwt1rg",
        "outputId": "3ce390d6-f353-4a6a-8648-103c1f5e8c7f"
      },
      "execution_count": 6,
      "outputs": [
        {
          "output_type": "stream",
          "name": "stdout",
          "text": [
            "THIS IS A STRING!\n",
            "THIS IS A STRING!\n"
          ]
        }
      ]
    },
    {
      "cell_type": "markdown",
      "source": [
        "There are many other string methods. For example, if you wanted everything to be lowercase, you would use the lower() method. If you wanted to remove all the leading and trailing white space, you would use strip(). To get a list of all the string methods, you can use Python’s built-in function dir. Let’s look at this in action"
      ],
      "metadata": {
        "id": "w-o1vgwFumag"
      }
    },
    {
      "cell_type": "code",
      "source": [
        "my_string = \"This is a string!\"\n",
        "print(dir(my_string))"
      ],
      "metadata": {
        "colab": {
          "base_uri": "https://localhost:8080/"
        },
        "id": "46pry7hbumHw",
        "outputId": "d0ab8ef7-585b-45ec-cc79-c69797ffa02e"
      },
      "execution_count": 7,
      "outputs": [
        {
          "output_type": "stream",
          "name": "stdout",
          "text": [
            "['__add__', '__class__', '__contains__', '__delattr__', '__dir__', '__doc__', '__eq__', '__format__', '__ge__', '__getattribute__', '__getitem__', '__getnewargs__', '__getstate__', '__gt__', '__hash__', '__init__', '__init_subclass__', '__iter__', '__le__', '__len__', '__lt__', '__mod__', '__mul__', '__ne__', '__new__', '__reduce__', '__reduce_ex__', '__repr__', '__rmod__', '__rmul__', '__setattr__', '__sizeof__', '__str__', '__subclasshook__', 'capitalize', 'casefold', 'center', 'count', 'encode', 'endswith', 'expandtabs', 'find', 'format', 'format_map', 'index', 'isalnum', 'isalpha', 'isascii', 'isdecimal', 'isdigit', 'isidentifier', 'islower', 'isnumeric', 'isprintable', 'isspace', 'istitle', 'isupper', 'join', 'ljust', 'lower', 'lstrip', 'maketrans', 'partition', 'removeprefix', 'removesuffix', 'replace', 'rfind', 'rindex', 'rjust', 'rpartition', 'rsplit', 'rstrip', 'split', 'splitlines', 'startswith', 'strip', 'swapcase', 'title', 'translate', 'upper', 'zfill']\n"
          ]
        }
      ]
    },
    {
      "cell_type": "markdown",
      "source": [
        "If you’d like to know what one of them does, just ask for help. For example, say you want to learn what capitalize is for. To find out, you would type"
      ],
      "metadata": {
        "id": "NYLlFlfeu1Gn"
      }
    },
    {
      "cell_type": "code",
      "source": [
        "my_string = \"This is a string!\"\n",
        "print(help(my_string.capitalize))"
      ],
      "metadata": {
        "colab": {
          "base_uri": "https://localhost:8080/"
        },
        "id": "-tJXcCVru1uy",
        "outputId": "a939a6c2-6fdd-4caf-adaa-095300daba3e"
      },
      "execution_count": 8,
      "outputs": [
        {
          "output_type": "stream",
          "name": "stdout",
          "text": [
            "Help on built-in function capitalize:\n",
            "\n",
            "capitalize() method of builtins.str instance\n",
            "    Return a capitalized version of the string.\n",
            "    \n",
            "    More specifically, make the first character have upper case and the rest lower\n",
            "    case.\n",
            "\n",
            "None\n"
          ]
        }
      ]
    },
    {
      "cell_type": "code",
      "source": [
        "my_string = \"This is a string!\"\n",
        "print(type(my_string)) # <class 'str'>"
      ],
      "metadata": {
        "colab": {
          "base_uri": "https://localhost:8080/"
        },
        "id": "zszIh8U6vP-5",
        "outputId": "a2582704-2b70-42ef-83c3-b713011fc7b3"
      },
      "execution_count": 9,
      "outputs": [
        {
          "output_type": "stream",
          "name": "stdout",
          "text": [
            "<class 'str'>\n"
          ]
        }
      ]
    },
    {
      "cell_type": "markdown",
      "source": [
        "###String Slicing"
      ],
      "metadata": {
        "id": "OA5CkNMRvWJE"
      }
    },
    {
      "cell_type": "code",
      "source": [
        "my_string = \"I like Python!\""
      ],
      "metadata": {
        "id": "wvmKp-X8vfhH"
      },
      "execution_count": 10,
      "outputs": []
    },
    {
      "cell_type": "markdown",
      "source": [
        "Each character in a string can be accessed using slicing. For example, if I want to grab just the first character, I could do this:"
      ],
      "metadata": {
        "id": "rtb8T_3uvguz"
      }
    },
    {
      "cell_type": "code",
      "source": [
        "my_string = \"I like Python!\"\n",
        "print(my_string[0:1])"
      ],
      "metadata": {
        "colab": {
          "base_uri": "https://localhost:8080/"
        },
        "id": "hgZfbPKHvjt9",
        "outputId": "7575c151-cf98-4871-caca-586e626d426e"
      },
      "execution_count": 11,
      "outputs": [
        {
          "output_type": "stream",
          "name": "stdout",
          "text": [
            "I\n"
          ]
        }
      ]
    },
    {
      "cell_type": "code",
      "source": [
        "my_string = \"I like Python!\"\n",
        "\n",
        "print(my_string[:1])   # 'I'\n",
        "print(my_string[0:12]) # 'I like Pytho'\n",
        "print(my_string[0:13]) # 'I like Python'\n",
        "print(my_string[0:14]) # 'I like Python!'\n",
        "print(my_string[0:-5]) # 'I like Py'\n",
        "print(my_string[:])    # 'I like Python!'\n",
        "print(my_string[2:])"
      ],
      "metadata": {
        "colab": {
          "base_uri": "https://localhost:8080/"
        },
        "id": "EjcGdtasyWYL",
        "outputId": "03a75cea-0a97-42f0-9c6e-0a301249ed50"
      },
      "execution_count": 12,
      "outputs": [
        {
          "output_type": "stream",
          "name": "stdout",
          "text": [
            "I\n",
            "I like Pytho\n",
            "I like Python\n",
            "I like Python!\n",
            "I like Py\n",
            "I like Python!\n",
            "like Python!\n"
          ]
        }
      ]
    },
    {
      "cell_type": "code",
      "source": [
        "# we can also access individual characters in a string via indexing. Here is an example:\n",
        "\n",
        "my_string = \"I like Python!\"\n",
        "print(my_string[0])\n",
        "print(my_string[2])\n",
        "print(my_string[7])\n",
        "#print(my_string[100]) # IndexError: string index out of range"
      ],
      "metadata": {
        "colab": {
          "base_uri": "https://localhost:8080/"
        },
        "id": "ufs8Kb9FykIg",
        "outputId": "a6e9b4ce-cdd4-4c1d-ca18-8b5d5e67be73"
      },
      "execution_count": 14,
      "outputs": [
        {
          "output_type": "stream",
          "name": "stdout",
          "text": [
            "I\n",
            "l\n",
            "P\n"
          ]
        }
      ]
    },
    {
      "cell_type": "markdown",
      "source": [
        "String Formatting"
      ],
      "metadata": {
        "id": "ocot6kkpzdhl"
      }
    },
    {
      "cell_type": "code",
      "source": [
        "name = \"Python\"\n",
        "print(f\"I like {name} Programming\")"
      ],
      "metadata": {
        "colab": {
          "base_uri": "https://localhost:8080/"
        },
        "id": "XJYIqgJOy6Xb",
        "outputId": "e1a7449c-416c-4b52-a04d-b48eab0820ae"
      },
      "execution_count": 16,
      "outputs": [
        {
          "output_type": "stream",
          "name": "stdout",
          "text": [
            "I like Python Programming\n"
          ]
        }
      ]
    },
    {
      "cell_type": "markdown",
      "source": [
        "##Lists"
      ],
      "metadata": {
        "id": "Q6ODMKOOzheb"
      }
    },
    {
      "cell_type": "markdown",
      "source": [
        "###Creating a list"
      ],
      "metadata": {
        "id": "iIt-yo0Cz2RS"
      }
    },
    {
      "cell_type": "markdown",
      "source": [
        "A Python list is similar to an array in other languages. In Python, an empty list can be created in the following ways."
      ],
      "metadata": {
        "id": "hu16yelkz5Mh"
      }
    },
    {
      "cell_type": "code",
      "source": [
        "my_list = []\n",
        "my_list = list()"
      ],
      "metadata": {
        "id": "SQbit-qNz8-A"
      },
      "execution_count": 17,
      "outputs": []
    },
    {
      "cell_type": "markdown",
      "source": [
        "s you can see, you can create the list using square brackets or by using the Python built-in, list. A list contains a list of elements, such as strings, integers, objects or a mixture of types. Let’s take a look at some examples:"
      ],
      "metadata": {
        "id": "wF_nnH0S0H_f"
      }
    },
    {
      "cell_type": "code",
      "source": [
        "my_list = [1, 2, 3]\n",
        "my_list2 = [\"a\", \"b\", \"c\"]\n",
        "my_list3 = [\"a\", 1, \"Python\", 5]"
      ],
      "metadata": {
        "id": "WuSflzVj0HqU"
      },
      "execution_count": 18,
      "outputs": []
    },
    {
      "cell_type": "markdown",
      "source": [
        "The first list has 3 integers, the second has 3 strings and the third has a mixture. You can also create lists of lists like this:"
      ],
      "metadata": {
        "id": "-yrxfJRz0O0M"
      }
    },
    {
      "cell_type": "code",
      "source": [
        "my_list = [1, 2, 3]\n",
        "my_list2 = [\"a\", \"b\", \"c\"]\n",
        "\n",
        "my_nested_list = [my_list, my_list2]\n",
        "print(my_nested_list)"
      ],
      "metadata": {
        "colab": {
          "base_uri": "https://localhost:8080/"
        },
        "id": "IkoqLueH0Rh1",
        "outputId": "bcb395f7-cece-4bc5-e506-4e2e689d7797"
      },
      "execution_count": 20,
      "outputs": [
        {
          "output_type": "stream",
          "name": "stdout",
          "text": [
            "[[1, 2, 3], ['a', 'b', 'c']]\n"
          ]
        }
      ]
    },
    {
      "cell_type": "code",
      "source": [
        "#  combine two lists together\n",
        "\n",
        "combo_list = []\n",
        "one_list = [4, 5]\n",
        "combo_list.extend(one_list)\n",
        "print(combo_list)"
      ],
      "metadata": {
        "colab": {
          "base_uri": "https://localhost:8080/"
        },
        "id": "zTCZ7zSp0edN",
        "outputId": "fe7a115f-1e73-4371-d57e-fbc87fe4ef9c"
      },
      "execution_count": 22,
      "outputs": [
        {
          "output_type": "stream",
          "name": "stdout",
          "text": [
            "[4, 5]\n"
          ]
        }
      ]
    },
    {
      "cell_type": "markdown",
      "source": [
        "A slightly easier way is to just add two lists together"
      ],
      "metadata": {
        "id": "L8WAUkac0RAs"
      }
    },
    {
      "cell_type": "code",
      "source": [
        "my_list = [1, 2, 3]\n",
        "my_list2 = [\"a\", \"b\", \"c\"]\n",
        "\n",
        "combo_list = my_list + my_list2\n",
        "print(combo_list)"
      ],
      "metadata": {
        "colab": {
          "base_uri": "https://localhost:8080/"
        },
        "id": "fCNTKd210vS3",
        "outputId": "85257884-3376-4f2d-dacc-68d5ca8c5e0a"
      },
      "execution_count": 23,
      "outputs": [
        {
          "output_type": "stream",
          "name": "stdout",
          "text": [
            "[1, 2, 3, 'a', 'b', 'c']\n"
          ]
        }
      ]
    },
    {
      "cell_type": "code",
      "source": [
        "# sort a list\n",
        "alpha_list = [34, 23, 67, 100, 88, 2]\n",
        "alpha_list.sort()\n",
        "print(alpha_list)"
      ],
      "metadata": {
        "colab": {
          "base_uri": "https://localhost:8080/"
        },
        "id": "bg4u7vMr0-nL",
        "outputId": "52faa645-3f01-4eab-dab7-0b9d1b0e55ae"
      },
      "execution_count": 24,
      "outputs": [
        {
          "output_type": "stream",
          "name": "stdout",
          "text": [
            "[2, 23, 34, 67, 88, 100]\n"
          ]
        }
      ]
    },
    {
      "cell_type": "code",
      "source": [
        "# you can slice a list\n",
        "\n",
        "alpha_list = [34, 23, 67, 100, 88, 2]\n",
        "alpha_list.sort()\n",
        "print(alpha_list[0:3])"
      ],
      "metadata": {
        "colab": {
          "base_uri": "https://localhost:8080/"
        },
        "id": "FvNkEjK91d8L",
        "outputId": "713839c5-8a41-45c7-c6b5-83a3c72ed44e"
      },
      "execution_count": 25,
      "outputs": [
        {
          "output_type": "stream",
          "name": "stdout",
          "text": [
            "[2, 23, 34]\n"
          ]
        }
      ]
    },
    {
      "cell_type": "markdown",
      "source": [
        "##Tuples"
      ],
      "metadata": {
        "id": "FJCnksRd1sqj"
      }
    },
    {
      "cell_type": "markdown",
      "source": [
        "A tuple is similar to a list, but you create them with parentheses instead of square brackets. You can also use the tuple built-in. The main difference is that a tuple is immutable while the list is mutable"
      ],
      "metadata": {
        "id": "81K_fnlZ1xHl"
      }
    },
    {
      "cell_type": "code",
      "source": [
        "my_tuple = (1, 2, 3, 4, 5)\n",
        "print(my_tuple[0:3])\n",
        "\n",
        "# using the tuple keyword\n",
        "another_tuple = tuple()\n",
        "\n",
        "abc = tuple([1, 2, 3])\n",
        "print(abc)"
      ],
      "metadata": {
        "colab": {
          "base_uri": "https://localhost:8080/"
        },
        "id": "Rkwkbpx62Dly",
        "outputId": "bf66cc92-5e04-43d1-d171-a521270d4e5d"
      },
      "execution_count": 27,
      "outputs": [
        {
          "output_type": "stream",
          "name": "stdout",
          "text": [
            "(1, 2, 3)\n",
            "(1, 2, 3)\n"
          ]
        }
      ]
    },
    {
      "cell_type": "markdown",
      "source": [
        "We can change or cast an item from one data type to another. In this case, we cast a list into a tuple. If you want to turn the abc tuple back into a list,"
      ],
      "metadata": {
        "id": "4o6cxAzR2DNS"
      }
    },
    {
      "cell_type": "code",
      "source": [
        "abc = tuple([1, 2, 3])\n",
        "abc_list = list(abc)\n",
        "print(abc_list)"
      ],
      "metadata": {
        "colab": {
          "base_uri": "https://localhost:8080/"
        },
        "id": "fxTjfkO621Vl",
        "outputId": "0b64b2c2-07cd-42e8-edd7-c44ae47640d4"
      },
      "execution_count": 28,
      "outputs": [
        {
          "output_type": "stream",
          "name": "stdout",
          "text": [
            "[1, 2, 3]\n"
          ]
        }
      ]
    },
    {
      "cell_type": "markdown",
      "source": [
        "###Dictionaries"
      ],
      "metadata": {
        "id": "4XwY7aNd3CIv"
      }
    },
    {
      "cell_type": "markdown",
      "source": [
        "They are indexed with keys, which can be any immutable type. For example, a string or number can be a key. You need to be aware that a dictionary is an unordered set of key:value pairs and the keys must be unique. You can get a list of keys by calling a dictionary instance’s keys method."
      ],
      "metadata": {
        "id": "D5CHAzSg3TlL"
      }
    },
    {
      "cell_type": "code",
      "source": [
        "# create a dictionary\n",
        "\n",
        "my_dict = {}\n",
        "anothe_dict = dict()\n",
        "my_other_dict = {\"one\" : 1, \"two\" : 2, \"three\" : 3}\n",
        "\n",
        "print(my_other_dict)"
      ],
      "metadata": {
        "colab": {
          "base_uri": "https://localhost:8080/"
        },
        "id": "kdaFHrKs3Ukt",
        "outputId": "390a5e5b-e5e0-4718-b58b-42de65bd13ed"
      },
      "execution_count": 29,
      "outputs": [
        {
          "output_type": "stream",
          "name": "stdout",
          "text": [
            "{'one': 1, 'two': 2, 'three': 3}\n"
          ]
        }
      ]
    },
    {
      "cell_type": "code",
      "source": [
        "# access a value in a dictionary.\n",
        "\n",
        "my_other_dict = {\"one\":1, \"two\":2, \"three\":3}\n",
        "print(my_other_dict[\"one\"]) # 1\n",
        "\n",
        "my_dict = {\"name\":\"Mike\", \"address\":\"123 Happy Way\"}\n",
        "print(my_dict[\"name\"])"
      ],
      "metadata": {
        "colab": {
          "base_uri": "https://localhost:8080/"
        },
        "id": "QVXOzRH54HWF",
        "outputId": "8941716d-9a7a-40ff-adb9-29185da67334"
      },
      "execution_count": 30,
      "outputs": [
        {
          "output_type": "stream",
          "name": "stdout",
          "text": [
            "1\n",
            "Mike\n"
          ]
        }
      ]
    },
    {
      "cell_type": "code",
      "source": [
        "# if a key is in a dictionary or not:\n",
        "\n",
        "my_dict = {\"name\":\"Mike\", \"address\":\"123 Happy Way\"}\n",
        "print(\"name\" in my_dict)\n",
        "print (\"state\" in my_dict)"
      ],
      "metadata": {
        "colab": {
          "base_uri": "https://localhost:8080/"
        },
        "id": "yZ2INH9z4UqB",
        "outputId": "b6110bf3-c543-4356-d5da-40b59902a667"
      },
      "execution_count": 31,
      "outputs": [
        {
          "output_type": "stream",
          "name": "stdout",
          "text": [
            "True\n",
            "False\n"
          ]
        }
      ]
    },
    {
      "cell_type": "markdown",
      "source": [
        "if the key is in the dictionary, Python returns a Boolean True. Otherwise it returns a Boolean False."
      ],
      "metadata": {
        "id": "OMJwjaNr4k2p"
      }
    },
    {
      "cell_type": "markdown",
      "source": [
        "If you need to get a listing of all the keys in a dictionary, then you do this:"
      ],
      "metadata": {
        "id": "8M02kwHD4oI6"
      }
    },
    {
      "cell_type": "code",
      "source": [
        "my_dict = {\"name\":\"Mike\", \"address\":\"123 Happy Way\"}\n",
        "print(my_dict.keys())"
      ],
      "metadata": {
        "colab": {
          "base_uri": "https://localhost:8080/"
        },
        "id": "PIR20fk84qaM",
        "outputId": "4643829f-6690-4352-f17b-8b26a78ca820"
      },
      "execution_count": 32,
      "outputs": [
        {
          "output_type": "stream",
          "name": "stdout",
          "text": [
            "dict_keys(['name', 'address'])\n"
          ]
        }
      ]
    },
    {
      "cell_type": "markdown",
      "source": [
        "##conditional statements"
      ],
      "metadata": {
        "id": "QqYh-z0E5BWC"
      }
    },
    {
      "cell_type": "markdown",
      "source": [
        "###The if statement"
      ],
      "metadata": {
        "id": "acWqcbpf5JsC"
      }
    },
    {
      "cell_type": "code",
      "source": [
        "if 2 > 1:\n",
        "    print(\"This is a True statement!\")"
      ],
      "metadata": {
        "colab": {
          "base_uri": "https://localhost:8080/"
        },
        "id": "Tvj0Sp7D5LoK",
        "outputId": "0181698d-704c-4693-903b-b804bb543504"
      },
      "execution_count": 33,
      "outputs": [
        {
          "output_type": "stream",
          "name": "stdout",
          "text": [
            "This is a True statement!\n"
          ]
        }
      ]
    },
    {
      "cell_type": "markdown",
      "source": [
        "This conditional tests the “truthfulness” of the following statement: 2 > 1. Since this statement evaluates to True, it will cause the last line in the example to print to the screen or standard out (stdout)."
      ],
      "metadata": {
        "id": "Jq_gjcqs5ZDV"
      }
    },
    {
      "cell_type": "code",
      "source": [
        "# another example\n",
        "\n",
        "var1 = 1\n",
        "var2 = 3\n",
        "if var1 > var2:\n",
        "    print(\"This is also True\")"
      ],
      "metadata": {
        "id": "S_q8Sw4k5oRT"
      },
      "execution_count": 34,
      "outputs": []
    },
    {
      "cell_type": "markdown",
      "source": [
        "In this one, we compare two variables that translate to the question: Is 1 > 3? Obviously one is not greater than three, so it doesn’t print anything. But what is we wanted it to print something? That’s where the else statement comes in. Let’s modify the conditional to add that piece:"
      ],
      "metadata": {
        "id": "Ssk5ru5o51uV"
      }
    },
    {
      "cell_type": "code",
      "source": [
        "var1 = 1\n",
        "var2 = 3\n",
        "\n",
        "if var1 > var2:\n",
        "    print(\"This is also True\")\n",
        "else:\n",
        "    print(\"That was False!\")"
      ],
      "metadata": {
        "colab": {
          "base_uri": "https://localhost:8080/"
        },
        "id": "jB7afq7B54Vo",
        "outputId": "14f40a76-2417-43de-e900-18926e53fb0b"
      },
      "execution_count": 35,
      "outputs": [
        {
          "output_type": "stream",
          "name": "stdout",
          "text": [
            "That was False!\n"
          ]
        }
      ]
    },
    {
      "cell_type": "markdown",
      "source": [
        "###Boolean Operations"
      ],
      "metadata": {
        "id": "Nhxm4Arc6KS8"
      }
    },
    {
      "cell_type": "markdown",
      "source": [
        "\n",
        "\n",
        "*   or means that if any conditional that is “ored” together is True, then the following statement runs\n",
        "*   and means that all statements must be True for the following statement to run\n",
        "*   not means that if the conditional evaluates to False, it is True\n",
        "\n",
        "\n",
        "\n",
        "\n",
        "\n",
        "\n",
        "  \n",
        "\n"
      ],
      "metadata": {
        "id": "3cEecXuE6SiK"
      }
    },
    {
      "cell_type": "code",
      "source": [
        "x = 10\n",
        "y = 20\n",
        "\n",
        "if x < 10 or y > 15:\n",
        "    print(\"This statement was True!\")"
      ],
      "metadata": {
        "colab": {
          "base_uri": "https://localhost:8080/"
        },
        "id": "qjYRr6mo6L-I",
        "outputId": "979555b3-a34f-42c0-dd19-734825fca16b"
      },
      "execution_count": 36,
      "outputs": [
        {
          "output_type": "stream",
          "name": "stdout",
          "text": [
            "This statement was True!\n"
          ]
        }
      ]
    },
    {
      "cell_type": "code",
      "source": [
        "# Let’s take a look at how and works\n",
        "\n",
        "x = 10\n",
        "y = 10\n",
        "if x == 10 and y == 15:\n",
        "    print(\"This statement was True\")\n",
        "else:\n",
        "    print(\"The statement was False!\")"
      ],
      "metadata": {
        "colab": {
          "base_uri": "https://localhost:8080/"
        },
        "id": "sGdbOhBk6z7d",
        "outputId": "64ee3539-ee2b-4e40-fcb2-2f5eb055b0fb"
      },
      "execution_count": 37,
      "outputs": [
        {
          "output_type": "stream",
          "name": "stdout",
          "text": [
            "The statement was False!\n"
          ]
        }
      ]
    },
    {
      "cell_type": "code",
      "source": [
        "# the not operation\n",
        "\n",
        "my_list = [1, 2, 3, 4]\n",
        "x = 10\n",
        "if x not in my_list:\n",
        "    print(\"'x' is not in the list, so this is True!\")"
      ],
      "metadata": {
        "colab": {
          "base_uri": "https://localhost:8080/"
        },
        "id": "y4by7DiF7D6A",
        "outputId": "c88e4863-e4f7-4b1e-d5fd-247b348bf614"
      },
      "execution_count": 38,
      "outputs": [
        {
          "output_type": "stream",
          "name": "stdout",
          "text": [
            "'x' is not in the list, so this is True!\n"
          ]
        }
      ]
    },
    {
      "cell_type": "code",
      "source": [
        "# Another way to test for not is by using the exclamation point, like this:\n",
        "\n",
        "x = 10\n",
        "if x != 11:\n",
        "    print(\"x is not equal to 11!\")"
      ],
      "metadata": {
        "colab": {
          "base_uri": "https://localhost:8080/"
        },
        "id": "Bxl6j9AW7SYs",
        "outputId": "82b2c552-0a2c-4ba8-f196-78f586ae7a39"
      },
      "execution_count": 39,
      "outputs": [
        {
          "output_type": "stream",
          "name": "stdout",
          "text": [
            "x is not equal to 11!\n"
          ]
        }
      ]
    },
    {
      "cell_type": "markdown",
      "source": [
        "If you want to, you can combine the not operation with the other two to create more complex conditional statements. Here is a simple example:"
      ],
      "metadata": {
        "id": "3hRr0MCr7dfI"
      }
    },
    {
      "cell_type": "code",
      "source": [
        "my_list = [1, 2, 3, 4]\n",
        "x = 10\n",
        "z = 11\n",
        "if x not in my_list and z != 10:\n",
        "    print(\"This is True!\")"
      ],
      "metadata": {
        "colab": {
          "base_uri": "https://localhost:8080/"
        },
        "id": "3DtNzVS67d-B",
        "outputId": "57b86ea0-e79f-42dc-e732-ccd0c88f2616"
      },
      "execution_count": 1,
      "outputs": [
        {
          "output_type": "stream",
          "name": "stdout",
          "text": [
            "This is True!\n"
          ]
        }
      ]
    },
    {
      "cell_type": "markdown",
      "source": [
        "##Introduction to Loops"
      ],
      "metadata": {
        "id": "Pw0l1F2o8X8b"
      }
    },
    {
      "cell_type": "markdown",
      "source": [
        "\n",
        "\n",
        "*   the for loop and\n",
        "*   the while loop\n",
        "\n"
      ],
      "metadata": {
        "id": "YkU2dTFd8Ztm"
      }
    },
    {
      "cell_type": "markdown",
      "source": [
        "###The for loop"
      ],
      "metadata": {
        "id": "l7ynYusd-D_E"
      }
    },
    {
      "cell_type": "code",
      "source": [
        "# Let’s use Python’s builtin range function. The range function will create a list that is n in length.\n",
        "\n",
        "print(range(5))"
      ],
      "metadata": {
        "colab": {
          "base_uri": "https://localhost:8080/"
        },
        "id": "BEM1PWzG8rJi",
        "outputId": "7874d2a2-0570-4ee7-fdec-a8e0aa906542"
      },
      "execution_count": 2,
      "outputs": [
        {
          "output_type": "stream",
          "name": "stdout",
          "text": [
            "range(0, 5)\n"
          ]
        }
      ]
    },
    {
      "cell_type": "markdown",
      "source": [
        "As you can see, the range function above took an integer and returned a range object. The range function also accepts a beginning value, an end value and a step value. Here are two more examples:"
      ],
      "metadata": {
        "id": "5qTyRWrt80Vt"
      }
    },
    {
      "cell_type": "code",
      "source": [
        "print(range(5,10))\n",
        "print(list(range(1, 10, 2)))"
      ],
      "metadata": {
        "colab": {
          "base_uri": "https://localhost:8080/"
        },
        "id": "lPXBA49a81BR",
        "outputId": "dd70f9b2-394d-47e5-ae2e-75643e0272f7"
      },
      "execution_count": 3,
      "outputs": [
        {
          "output_type": "stream",
          "name": "stdout",
          "text": [
            "range(5, 10)\n",
            "[1, 3, 5, 7, 9]\n"
          ]
        }
      ]
    },
    {
      "cell_type": "markdown",
      "source": [
        "The first example demonstrates that you can pass a beginning and end value and the range function will return the numbers from the beginning value up to but not including the end value. So in the case of 5-10, we get 5-9. The second example shows how to use the list function to cause the range function to return every second element between 1 and 10. So it starts with one, skips two, etc. Now you’re probably wondering what this has to do with loops. Well one easy way to show how a loop works is if we use the range function! Take a look:"
      ],
      "metadata": {
        "id": "67qMf1fs9Led"
      }
    },
    {
      "cell_type": "code",
      "source": [
        "for number in range(5):\n",
        "    print(number)"
      ],
      "metadata": {
        "colab": {
          "base_uri": "https://localhost:8080/"
        },
        "id": "jsIP2ghj9Mc7",
        "outputId": "2e976056-2f49-4286-a751-d2a304d62ae3"
      },
      "execution_count": 4,
      "outputs": [
        {
          "output_type": "stream",
          "name": "stdout",
          "text": [
            "0\n",
            "1\n",
            "2\n",
            "3\n",
            "4\n"
          ]
        }
      ]
    },
    {
      "cell_type": "code",
      "source": [
        "for number in [0, 1, 2, 3, 4]:\n",
        "    print(number)"
      ],
      "metadata": {
        "colab": {
          "base_uri": "https://localhost:8080/"
        },
        "id": "-CEKiy999Tgy",
        "outputId": "721abe7c-2d07-462e-a11d-0dd4cf0be0f3"
      },
      "execution_count": 5,
      "outputs": [
        {
          "output_type": "stream",
          "name": "stdout",
          "text": [
            "0\n",
            "1\n",
            "2\n",
            "3\n",
            "4\n"
          ]
        }
      ]
    },
    {
      "cell_type": "markdown",
      "source": [
        "The range function just makes it a little bit smaller. The for loop can loop over any kind of Python iterator. We’ve already seen how it can iterate over a list. Let’s see if it can also iterate over a dictionary."
      ],
      "metadata": {
        "id": "GcuOZHH39a3X"
      }
    },
    {
      "cell_type": "code",
      "source": [
        "a_dict = {\"one\":1, \"two\":2, \"three\":3}\n",
        "for key in a_dict:\n",
        "       print(key)"
      ],
      "metadata": {
        "colab": {
          "base_uri": "https://localhost:8080/"
        },
        "id": "mpUfYfQu9bvY",
        "outputId": "604d09e7-a67e-46f3-8633-961a3201be54"
      },
      "execution_count": 7,
      "outputs": [
        {
          "output_type": "stream",
          "name": "stdout",
          "text": [
            "one\n",
            "two\n",
            "three\n"
          ]
        }
      ]
    },
    {
      "cell_type": "markdown",
      "source": [
        "When you use a for loop with a dictionary, you’ll see that it automatically loops over the keys. We didn’t have to say for key in a_dict.keys()"
      ],
      "metadata": {
        "id": "_pzzJhOB9odx"
      }
    },
    {
      "cell_type": "markdown",
      "source": [
        "Now we’re ready to make things a little bit more interesting. We are going to loop over a range, but we want to print out only the even numbers. To do this, we want to use a conditional statement instead of using the range’s step parameter. Here’s one way you could do this:"
      ],
      "metadata": {
        "id": "EsQZ6aa093pv"
      }
    },
    {
      "cell_type": "code",
      "source": [
        "for number in range(10):\n",
        "    if number % 2 == 0:\n",
        "        print(number)"
      ],
      "metadata": {
        "colab": {
          "base_uri": "https://localhost:8080/"
        },
        "id": "pBZ_ibrT96a-",
        "outputId": "bafa1d3d-31cc-4f45-de68-f3eeed2115a3"
      },
      "execution_count": 8,
      "outputs": [
        {
          "output_type": "stream",
          "name": "stdout",
          "text": [
            "0\n",
            "2\n",
            "4\n",
            "6\n",
            "8\n"
          ]
        }
      ]
    },
    {
      "cell_type": "markdown",
      "source": [
        "###The while Loop"
      ],
      "metadata": {
        "id": "QnLOYvMx-A1u"
      }
    },
    {
      "cell_type": "markdown",
      "source": [
        "The while loop is also used to repeat sections of code, but instead of looping n number of times, it will only loop until a specific condition is met. Let’s look at a very simple example:"
      ],
      "metadata": {
        "id": "02zw8SRk-KYo"
      }
    },
    {
      "cell_type": "code",
      "source": [
        "i = 0\n",
        "while i < 10:\n",
        "    print(i)\n",
        "    i = i + 1"
      ],
      "metadata": {
        "colab": {
          "base_uri": "https://localhost:8080/"
        },
        "id": "YjsrpB5h-N-j",
        "outputId": "d499166d-1dbe-4cb6-c5f0-f20f24d4f34e"
      },
      "execution_count": 9,
      "outputs": [
        {
          "output_type": "stream",
          "name": "stdout",
          "text": [
            "0\n",
            "1\n",
            "2\n",
            "3\n",
            "4\n",
            "5\n",
            "6\n",
            "7\n",
            "8\n",
            "9\n"
          ]
        }
      ]
    },
    {
      "cell_type": "markdown",
      "source": [
        " If you remove the piece where we increment i’s value, then you’ll end up with an infinite loop. This is usually a bad thing. Infinite loops are to be avoided and are known as logic errors.\n",
        "\n",
        "\n",
        "\n",
        "\n",
        "\n",
        "\n",
        "\n",
        "\n",
        "\n",
        "\n",
        " There is another way to break out of a loop. It is by using the break builtin. Let’s see how that works:"
      ],
      "metadata": {
        "id": "KiGuApGg-biS"
      }
    },
    {
      "cell_type": "code",
      "source": [
        "i = 0\n",
        "while i < 10:\n",
        "    print(i)\n",
        "    if i == 5:\n",
        "        break\n",
        "    i += 1"
      ],
      "metadata": {
        "colab": {
          "base_uri": "https://localhost:8080/"
        },
        "id": "faktCt8V-j9j",
        "outputId": "f3f1c54a-0d89-4b24-be07-9d2c060aa126"
      },
      "execution_count": 10,
      "outputs": [
        {
          "output_type": "stream",
          "name": "stdout",
          "text": [
            "0\n",
            "1\n",
            "2\n",
            "3\n",
            "4\n",
            "5\n"
          ]
        }
      ]
    },
    {
      "cell_type": "markdown",
      "source": [
        "The break builtin is known as a flow control tool. There is another one called continue that is used to basically skip an iteration or continue with the next iteration. Here’s one way to use it:"
      ],
      "metadata": {
        "id": "k-r7ko6m-zo6"
      }
    },
    {
      "cell_type": "code",
      "source": [
        "i = 0\n",
        "\n",
        "while i < 10:\n",
        "    if i == 3:\n",
        "        i += 1\n",
        "        continue\n",
        "\n",
        "    print(i)\n",
        "\n",
        "    if i == 5:\n",
        "        break\n",
        "    i += 1"
      ],
      "metadata": {
        "colab": {
          "base_uri": "https://localhost:8080/"
        },
        "id": "n6oOeYGj-1yJ",
        "outputId": "9852c8f4-37ea-49c1-c726-1c562532a932"
      },
      "execution_count": 11,
      "outputs": [
        {
          "output_type": "stream",
          "name": "stdout",
          "text": [
            "0\n",
            "1\n",
            "2\n",
            "4\n",
            "5\n"
          ]
        }
      ]
    },
    {
      "cell_type": "markdown",
      "source": [
        "The else statement in loops only executes if the loop completes successfully. The primary use of the else statement is for searching for items:"
      ],
      "metadata": {
        "id": "3XCwl-bp_E_2"
      }
    },
    {
      "cell_type": "code",
      "source": [
        "my_list = [1, 2, 3, 4, 5]\n",
        "\n",
        "for i in my_list:\n",
        "    if i == 3:\n",
        "        print(\"Item found!\")\n",
        "        break\n",
        "    print(i)\n",
        "else:\n",
        "    print(\"Item not found!\")"
      ],
      "metadata": {
        "colab": {
          "base_uri": "https://localhost:8080/"
        },
        "id": "-EC9kLL2_ImY",
        "outputId": "e869b91a-63e9-4e51-ee7a-769566716325"
      },
      "execution_count": 12,
      "outputs": [
        {
          "output_type": "stream",
          "name": "stdout",
          "text": [
            "1\n",
            "2\n",
            "Item found!\n"
          ]
        }
      ]
    },
    {
      "cell_type": "markdown",
      "source": [
        "##Python Comprehensions"
      ],
      "metadata": {
        "id": "HDiZ3t_y_bHV"
      }
    },
    {
      "cell_type": "markdown",
      "source": [
        "###List comprehensions"
      ],
      "metadata": {
        "id": "RHl-nk6X_ddj"
      }
    },
    {
      "cell_type": "markdown",
      "source": [
        "A list comprehension is basically a one line for loop that produces a Python list data structure. Here’s a simple example:"
      ],
      "metadata": {
        "id": "s1a6RFsS_rgJ"
      }
    },
    {
      "cell_type": "code",
      "source": [
        "x = [i for i in range(5)]\n",
        "print(x)"
      ],
      "metadata": {
        "colab": {
          "base_uri": "https://localhost:8080/"
        },
        "id": "4At-tg2R_uT5",
        "outputId": "7834de16-8957-4f59-c70c-a04212de4400"
      },
      "execution_count": 13,
      "outputs": [
        {
          "output_type": "stream",
          "name": "stdout",
          "text": [
            "[0, 1, 2, 3, 4]\n"
          ]
        }
      ]
    },
    {
      "cell_type": "code",
      "source": [
        "x = ['1', '2', '3', '4', '5']\n",
        "y = [int(i) for i in x]\n",
        "print(y)"
      ],
      "metadata": {
        "colab": {
          "base_uri": "https://localhost:8080/"
        },
        "id": "Uqc8q5e_ACUg",
        "outputId": "6830b7ae-73d2-4293-f97f-d92c4138d95a"
      },
      "execution_count": 14,
      "outputs": [
        {
          "output_type": "stream",
          "name": "stdout",
          "text": [
            "[1, 2, 3, 4, 5]\n"
          ]
        }
      ]
    },
    {
      "cell_type": "markdown",
      "source": [
        " I have also had to loop over a list of strings and call a string method, such as strip on them because they had all kinds of leading or ending white space"
      ],
      "metadata": {
        "id": "xdIknbEMAN5W"
      }
    },
    {
      "cell_type": "code",
      "source": [
        "myStringList = [\n",
        "  '    Hello how are you?',\n",
        "  'I\\'m good    ',\n",
        "  '    I\\'m good too   ']\n",
        "myStrings = [s.strip() for s in myStringList]\n",
        "print(myStrings)"
      ],
      "metadata": {
        "colab": {
          "base_uri": "https://localhost:8080/"
        },
        "id": "Uep9RKGsAQ-P",
        "outputId": "37e45fdd-a479-4913-fb10-2edfa6cc31f8"
      },
      "execution_count": 15,
      "outputs": [
        {
          "output_type": "stream",
          "name": "stdout",
          "text": [
            "['Hello how are you?', \"I'm good\", \"I'm good too\"]\n"
          ]
        }
      ]
    },
    {
      "cell_type": "markdown",
      "source": [
        "There are also occasions where one needs to create a nested list comprehension. One reason to do that is to flatten multiple lists into one. This example comes from the Python documentation:"
      ],
      "metadata": {
        "id": "dB16mfcpAbAu"
      }
    },
    {
      "cell_type": "code",
      "source": [
        "vec = [[1,2,3], [4,5,6], [7,8,9]]\n",
        "flatVec = [num for elem in vec for num in elem]\n",
        "print(flatVec)"
      ],
      "metadata": {
        "colab": {
          "base_uri": "https://localhost:8080/"
        },
        "id": "ScXlICz9Afg1",
        "outputId": "8f50cad0-1f9f-41cb-e97e-f5124dccb725"
      },
      "execution_count": 16,
      "outputs": [
        {
          "output_type": "stream",
          "name": "stdout",
          "text": [
            "[1, 2, 3, 4, 5, 6, 7, 8, 9]\n"
          ]
        }
      ]
    },
    {
      "cell_type": "markdown",
      "source": [
        "###Dictionary comprehensions"
      ],
      "metadata": {
        "id": "ISb-btpQAlzW"
      }
    },
    {
      "cell_type": "code",
      "source": [
        "print( {i: str(i) for i in range(5)} )"
      ],
      "metadata": {
        "colab": {
          "base_uri": "https://localhost:8080/"
        },
        "id": "hRCZ-S69AsVW",
        "outputId": "14e443a9-9a73-4c58-8768-c4c7d3918527"
      },
      "execution_count": 17,
      "outputs": [
        {
          "output_type": "stream",
          "name": "stdout",
          "text": [
            "{0: '0', 1: '1', 2: '2', 3: '3', 4: '4'}\n"
          ]
        }
      ]
    },
    {
      "cell_type": "markdown",
      "source": [
        "This is a pretty straightforward comprehension. Basically it is creating an integer key and string value for each item in the range. Now you may be wondering how you could use a dictionary comprehension in real life"
      ],
      "metadata": {
        "id": "gt1pHE7TA2eL"
      }
    },
    {
      "cell_type": "code",
      "source": [
        "my_dict = {1:\"dog\", 2:\"cat\", 3:\"hamster\"}\n",
        "print( {value:key for key, value in my_dict.items()} )"
      ],
      "metadata": {
        "colab": {
          "base_uri": "https://localhost:8080/"
        },
        "id": "9mnaTC3vA4Bt",
        "outputId": "1d2ec090-0b3e-4b4e-fa72-51e483b8a300"
      },
      "execution_count": 18,
      "outputs": [
        {
          "output_type": "stream",
          "name": "stdout",
          "text": [
            "{'dog': 1, 'cat': 2, 'hamster': 3}\n"
          ]
        }
      ]
    },
    {
      "cell_type": "markdown",
      "source": [
        "This will only work if the dictionary values are of a non-mutable type, such as a string. Otherwise you will end up causing an exception to be raised.\n",
        "\n",
        "A dictionary comprehension can also be useful for creating a table out of class variables and their values."
      ],
      "metadata": {
        "id": "ZwF-NMyBBBPF"
      }
    },
    {
      "cell_type": "markdown",
      "source": [
        "###Set Comprehensions"
      ],
      "metadata": {
        "id": "kfLcJthjBFjl"
      }
    },
    {
      "cell_type": "markdown",
      "source": [
        "Set comprehensions are created in much the same way as dictionary comprehensions. Now a Python set is much like a mathematical set in that it doesn’t have any repeated elements. You can create a normal set like this"
      ],
      "metadata": {
        "id": "o6DvwGLyBLkj"
      }
    },
    {
      "cell_type": "code",
      "source": [
        "my_list = [1, 2, 2, 3, 4, 5, 5, 7, 8]\n",
        "my_set = set(my_list)\n",
        "print(my_set)"
      ],
      "metadata": {
        "colab": {
          "base_uri": "https://localhost:8080/"
        },
        "id": "7ZGbSAzjBOXw",
        "outputId": "fe4d8650-845f-45e6-d031-a38cc4733233"
      },
      "execution_count": 19,
      "outputs": [
        {
          "output_type": "stream",
          "name": "stdout",
          "text": [
            "{1, 2, 3, 4, 5, 7, 8}\n"
          ]
        }
      ]
    },
    {
      "cell_type": "markdown",
      "source": [
        "As you can see from the example above, the call to set has removed the duplicates from the list. Now let’s rewrite this code to use a set comprehension:"
      ],
      "metadata": {
        "id": "5hC2s4c6BUf4"
      }
    },
    {
      "cell_type": "code",
      "source": [
        "my_list = [1, 2, 2, 3, 4, 5, 5, 7, 8]\n",
        "my_set = {x for x in my_list}\n",
        "print(my_set)"
      ],
      "metadata": {
        "colab": {
          "base_uri": "https://localhost:8080/"
        },
        "id": "PWbwCp-IBXl3",
        "outputId": "6d145523-f20f-4127-f35b-21b6127e2164"
      },
      "execution_count": 20,
      "outputs": [
        {
          "output_type": "stream",
          "name": "stdout",
          "text": [
            "{1, 2, 3, 4, 5, 7, 8}\n"
          ]
        }
      ]
    },
    {
      "cell_type": "markdown",
      "source": [
        "##Introduction to Exception Handling"
      ],
      "metadata": {
        "id": "hsLAlbJGr1Oh"
      }
    },
    {
      "cell_type": "markdown",
      "source": [
        "What do you do when something bad happens in your program? Let’s say you try to open a file, but you typed in the wrong path or you ask the user for information and they type in some garbage. You don’t want your program to crash, so you implement exception handling."
      ],
      "metadata": {
        "id": "64VUjB4Qr7u4"
      }
    },
    {
      "cell_type": "markdown",
      "source": [
        "\n",
        "*   Exception (this is what almost all the others are built off of)\n",
        "*   AttributeError - Raised when an attribute reference or assignment fails.\n",
        "\n",
        "*   IOError - Raised when an I/O operation (such as a print statement, the built-in open() function or a method of a file object) fails for an I/O-related reason, e.g., “file not found” or “disk full”.\n",
        "*   ImportError - Raised when an import statement fails to find the module definition or when a from … import fails to find a name that is to be imported.\n",
        "\n",
        "*   IndexError - Raised when a sequence subscript is out of range.\n",
        "*   KeyError - Raised when a mapping (dictionary) key is not found in the set of existing keys.\n",
        "\n",
        "*   KeyboardInterrupt - Raised when the user hits the interrupt key (normally Control-C or Delete).\n",
        "*   NameError - Raised when a local or global name is not found.\n",
        "\n",
        "*   OSError - Raised when a function returns a system-related error.\n",
        "*   SyntaxError - Raised when the parser encounters a syntax error.\n",
        "\n",
        "*   TypeError - Raised when an operation or function is applied to an object of inappropriate type. The associated value is a string giving details about the type mismatch.\n",
        "*   ValueError - Raised when a built-in operation or function receives an argument that has the right type but an inappropriate value, and the situation is not described by a more precise exception such as IndexError.\n",
        "\n",
        "*   ZeroDivisionError - Raised when the second argument of a division or modulo operation is zero.\n",
        "\n",
        "\n",
        "\n",
        "\n",
        "\n",
        "\n",
        "\n",
        "\n",
        "\n",
        "\n",
        "\n",
        "\n",
        "\n",
        "\n",
        "\n",
        "\n"
      ],
      "metadata": {
        "id": "RLPXyhP3sDgz"
      }
    },
    {
      "cell_type": "markdown",
      "source": [
        "If you think back to elementary math class, you will recall that you cannot divide by zero. In Python, this operation will cause an error, as you can see in the first half of the example. To catch the error, we wrap the operation with a try/except statement."
      ],
      "metadata": {
        "id": "QFxfEjdEuHL-"
      }
    },
    {
      "cell_type": "code",
      "source": [
        "try:\n",
        "    1 / 0\n",
        "except ZeroDivisionError:\n",
        "    print(\"You cannot divide by zero!\")"
      ],
      "metadata": {
        "colab": {
          "base_uri": "https://localhost:8080/"
        },
        "id": "4jUZCvh8uIrO",
        "outputId": "4fa86736-8abe-4889-c5e3-ad5081a43890"
      },
      "execution_count": 1,
      "outputs": [
        {
          "output_type": "stream",
          "name": "stdout",
          "text": [
            "You cannot divide by zero!\n"
          ]
        }
      ]
    },
    {
      "cell_type": "code",
      "source": [
        "# Here’s another way to catch the error:\n",
        "\n",
        "try:\n",
        "    1 / 0\n",
        "except:\n",
        "    print(\"You cannot divide by zero!\")"
      ],
      "metadata": {
        "colab": {
          "base_uri": "https://localhost:8080/"
        },
        "id": "rm8xdtdeubXb",
        "outputId": "f5e0f51a-f2a0-4ba3-bb51-4649b755bf76"
      },
      "execution_count": 2,
      "outputs": [
        {
          "output_type": "stream",
          "name": "stdout",
          "text": [
            "You cannot divide by zero!\n"
          ]
        }
      ]
    },
    {
      "cell_type": "markdown",
      "source": [
        "This is not recommended! In Python, this is known as a bare except, which means it will catch any and all exceptions. The reason this is not recommended is that you don’t know which exception you are catching. When you have something like except ZeroDivisionError, you are obviously trying to catch a division by zero error. In the code above, you cannot tell what you are trying to catch.\n",
        "\n",
        "Let’s take a look at a couple of other examples."
      ],
      "metadata": {
        "id": "F3YgaHmvuuJD"
      }
    },
    {
      "cell_type": "code",
      "source": [
        "my_dict = {\"a\":1, \"b\":2, \"c\":3}\n",
        "try:\n",
        "    value = my_dict[\"d\"]\n",
        "except KeyError:\n",
        "    print(\"That key does not exist!\")\n",
        "\n",
        "my_list = [1, 2, 3, 4, 5]\n",
        "try:\n",
        "    my_list[6]\n",
        "except IndexError:\n",
        "    print(\"That index is not in the list!\")"
      ],
      "metadata": {
        "colab": {
          "base_uri": "https://localhost:8080/"
        },
        "id": "GS0qFIX4uvOr",
        "outputId": "81220bfa-4879-45fd-9f6b-669a633b9b6f"
      },
      "execution_count": 3,
      "outputs": [
        {
          "output_type": "stream",
          "name": "stdout",
          "text": [
            "That key does not exist!\n",
            "That index is not in the list!\n"
          ]
        }
      ]
    },
    {
      "cell_type": "markdown",
      "source": [
        "You can also catch multiple exceptions with a single statement. There are a couple of different ways to do this. Let’s take a look:"
      ],
      "metadata": {
        "id": "KY1AkzNVvAtW"
      }
    },
    {
      "cell_type": "code",
      "source": [
        "my_dict = {\"a\":1, \"b\":2, \"c\":3}\n",
        "try:\n",
        "    value = my_dict[\"d\"]\n",
        "except IndexError:\n",
        "    print(\"This index does not exist!\")\n",
        "except KeyError:\n",
        "    print(\"This key is not in the dictionary!\")\n",
        "except:\n",
        "    print(\"Some other error occurred!\")"
      ],
      "metadata": {
        "id": "CCXu1JK4vclx"
      },
      "execution_count": null,
      "outputs": []
    },
    {
      "cell_type": "markdown",
      "source": [
        "Here’s another way to catch multiple exceptions:"
      ],
      "metadata": {
        "id": "cz0Uv9zXvqJN"
      }
    },
    {
      "cell_type": "code",
      "source": [
        "my_dict = {\"a\":1, \"b\":2, \"c\":3}\n",
        "\n",
        "try:\n",
        "    value = my_dict[\"d\"]\n",
        "except (IndexError, KeyError):\n",
        "    print(\"An IndexError or KeyError occurred!\")"
      ],
      "metadata": {
        "colab": {
          "base_uri": "https://localhost:8080/"
        },
        "id": "vqvqkkacvqy5",
        "outputId": "385dd758-b974-460b-d08d-4fe70637b093"
      },
      "execution_count": 4,
      "outputs": [
        {
          "output_type": "stream",
          "name": "stdout",
          "text": [
            "An IndexError or KeyError occurred!\n"
          ]
        }
      ]
    },
    {
      "cell_type": "markdown",
      "source": [
        "##The finally Statement"
      ],
      "metadata": {
        "id": "SffZlLlIv-j9"
      }
    },
    {
      "cell_type": "code",
      "source": [
        "my_dict = {\"a\":1, \"b\":2, \"c\":3}\n",
        "\n",
        "try:\n",
        "    value = my_dict[\"d\"]\n",
        "except KeyError:\n",
        "    print(\"A KeyError occurred!\")\n",
        "finally:\n",
        "    print(\"The finally statement has executed!\")"
      ],
      "metadata": {
        "colab": {
          "base_uri": "https://localhost:8080/"
        },
        "id": "jr_iJl-8wB4Q",
        "outputId": "b0a10f99-4543-42b0-8855-3ba9140b3e57"
      },
      "execution_count": 5,
      "outputs": [
        {
          "output_type": "stream",
          "name": "stdout",
          "text": [
            "A KeyError occurred!\n",
            "The finally statement has executed!\n"
          ]
        }
      ]
    },
    {
      "cell_type": "markdown",
      "source": [
        "##try, except, or else!"
      ],
      "metadata": {
        "id": "-KQFFykCwBed"
      }
    },
    {
      "cell_type": "code",
      "source": [
        "my_dict = {\"a\":1, \"b\":2, \"c\":3}\n",
        "\n",
        "try:\n",
        "    value = my_dict[\"a\"]\n",
        "except KeyError:\n",
        "    print(\"A KeyError occurred!\")\n",
        "else:\n",
        "    print(\"No error occurred!\")"
      ],
      "metadata": {
        "colab": {
          "base_uri": "https://localhost:8080/"
        },
        "id": "T6IZhUP1wNvC",
        "outputId": "3af34a27-01b8-4393-8cdd-ea90d2e2daf8"
      },
      "execution_count": 6,
      "outputs": [
        {
          "output_type": "stream",
          "name": "stdout",
          "text": [
            "No error occurred!\n"
          ]
        }
      ]
    },
    {
      "cell_type": "code",
      "source": [
        "my_dict = {\"a\":1, \"b\":2, \"c\":3}\n",
        "\n",
        "try:\n",
        "    value = my_dict[\"a\"]\n",
        "except KeyError:\n",
        "    print(\"A KeyError occurred!\")\n",
        "else:\n",
        "    print(\"No error occurred!\")\n",
        "finally:\n",
        "    print(\"The finally statement ran!\")"
      ],
      "metadata": {
        "colab": {
          "base_uri": "https://localhost:8080/"
        },
        "id": "dVa1MpsJwcoK",
        "outputId": "fab58e71-d567-4ac0-f20d-f7ecfdfdc0b3"
      },
      "execution_count": 7,
      "outputs": [
        {
          "output_type": "stream",
          "name": "stdout",
          "text": [
            "No error occurred!\n",
            "The finally statement ran!\n"
          ]
        }
      ]
    },
    {
      "cell_type": "markdown",
      "source": [
        "##Introduction to File Handling"
      ],
      "metadata": {
        "id": "etQBNuPCwoUA"
      }
    },
    {
      "cell_type": "markdown",
      "source": [
        "###How to Read a File"
      ],
      "metadata": {
        "id": "HpBnE-w4xlEO"
      }
    },
    {
      "cell_type": "markdown",
      "source": [
        "Python has a builtin function called open that we can use to open a file for reading. For our examples in this course, we will use a text file name “test.txt” with the following contents (don’t worry, we’ve already worked with Educative to have these files uploaded to your execution directory):"
      ],
      "metadata": {
        "id": "PpX9Us46xzO9"
      }
    },
    {
      "cell_type": "code",
      "source": [
        "handle = open(\"test.txt\")\n",
        "handle = open(r\"py101book/data/test.txt\", \"r\")"
      ],
      "metadata": {
        "id": "kZhMojtsy-_S"
      },
      "execution_count": null,
      "outputs": []
    },
    {
      "cell_type": "markdown",
      "source": [
        "The first example will open a file named test.txt in read-only mode. This is the default mode of the open function. Note that we didn’t pass a fully qualified path to the file that we wanted to open in the first example. Python will automatically look in the folder that the script is running in for test.txt. If it doesn’t find it, then you will receive an IOError."
      ],
      "metadata": {
        "id": "Z_xL5cZLzQbp"
      }
    },
    {
      "cell_type": "markdown",
      "source": [
        "The second example does show a fully qualified path to the file. The above code would run fine on linux machines but what if you want to give a windows style paths. This is how it’s done"
      ],
      "metadata": {
        "id": "-1NOsvl8zj7V"
      }
    },
    {
      "cell_type": "code",
      "source": [
        "handle = open(r\"py101book\\data\\test.txt\", \"r\")"
      ],
      "metadata": {
        "id": "KRd55T5xzmUW"
      },
      "execution_count": null,
      "outputs": []
    },
    {
      "cell_type": "markdown",
      "source": [
        "Put the following lines into a Python script and save it in the same location as your test.txt file:"
      ],
      "metadata": {
        "id": "EqesMS6i0DMn"
      }
    },
    {
      "cell_type": "code",
      "source": [
        "handle = open(\"test.txt\", \"r\")\n",
        "data = handle.read()\n",
        "print(data)\n",
        "handle.close()"
      ],
      "metadata": {
        "colab": {
          "base_uri": "https://localhost:8080/"
        },
        "id": "9fgjCfnc0GbQ",
        "outputId": "ea18a688-007a-4664-cd93-12cb0bcb789d"
      },
      "execution_count": 12,
      "outputs": [
        {
          "output_type": "stream",
          "name": "stdout",
          "text": [
            "This is a test!\n"
          ]
        }
      ]
    },
    {
      "cell_type": "markdown",
      "source": [
        "Let’s spend some time looking at different ways to read files.\n",
        "\n"
      ],
      "metadata": {
        "id": "ooJaFx010doR"
      }
    },
    {
      "cell_type": "code",
      "source": [
        "handle = open(\"test.txt\", \"r\")\n",
        "data = handle.readline() # read just one line\n",
        "print(data)\n",
        "handle.close()"
      ],
      "metadata": {
        "colab": {
          "base_uri": "https://localhost:8080/"
        },
        "id": "wcEMWnQa0gGd",
        "outputId": "a5a810e8-448f-44ac-af80-63f487618a2a"
      },
      "execution_count": 13,
      "outputs": [
        {
          "output_type": "stream",
          "name": "stdout",
          "text": [
            "This is a test!\n"
          ]
        }
      ]
    },
    {
      "cell_type": "markdown",
      "source": [
        "If you run this example, it will only read the first line of your text file and print it out. That’s not too useful, so let’s try the file handle’s readlines() method:"
      ],
      "metadata": {
        "id": "2MQigwlE01CA"
      }
    },
    {
      "cell_type": "code",
      "source": [
        "handle = open(\"test.txt\", \"r\")\n",
        "data = handle.readlines() # read ALL the lines!\n",
        "print(data)\n",
        "handle.close()"
      ],
      "metadata": {
        "colab": {
          "base_uri": "https://localhost:8080/"
        },
        "id": "_pVFhpS504KL",
        "outputId": "b153b0ef-4adc-404d-d634-742fa0edccdc"
      },
      "execution_count": 14,
      "outputs": [
        {
          "output_type": "stream",
          "name": "stdout",
          "text": [
            "['This is a test!']\n"
          ]
        }
      ]
    },
    {
      "cell_type": "markdown",
      "source": [
        "###How To Read Files Piece by Piece"
      ],
      "metadata": {
        "id": "F9sl52OK1D7t"
      }
    },
    {
      "cell_type": "markdown",
      "source": [
        "The easiest way to read a file in chunks is to use a loop. First we will learn how to read a file line by line and then we will learn how to read it a kilobyte at a time. We will use a for loop for our first example:"
      ],
      "metadata": {
        "id": "Hfzmc33G1JRy"
      }
    },
    {
      "cell_type": "code",
      "source": [
        "handle = open(\"test.txt\", \"r\")\n",
        "\n",
        "for line in handle:\n",
        "    print(line)\n",
        "\n",
        "handle.close()"
      ],
      "metadata": {
        "colab": {
          "base_uri": "https://localhost:8080/"
        },
        "id": "nXRZCYvC1MFe",
        "outputId": "afc1e6b0-441c-4e4d-b379-129f28017c7c"
      },
      "execution_count": 15,
      "outputs": [
        {
          "output_type": "stream",
          "name": "stdout",
          "text": [
            "This is a test!\n"
          ]
        }
      ]
    },
    {
      "cell_type": "markdown",
      "source": [
        "###How to Read a Binary File"
      ],
      "metadata": {
        "id": "vT5aqcsA1Yj4"
      }
    },
    {
      "cell_type": "code",
      "source": [
        "handle = open(\"test.pdf\", \"rb\")"
      ],
      "metadata": {
        "id": "Uzb4ocJ519Le"
      },
      "execution_count": null,
      "outputs": []
    },
    {
      "cell_type": "markdown",
      "source": [
        "###Writing Files in Python"
      ],
      "metadata": {
        "id": "1XV_KVax1qnl"
      }
    },
    {
      "cell_type": "code",
      "source": [
        "handle = open(\"test.txt\", \"w\")\n",
        "handle.write(\"This is a test!\")\n",
        "handle.close()\n",
        "\n",
        "# Now let's read the file that we just wrote\n",
        "handle = open(\"test.txt\", \"r\")\n",
        "for line in handle:\n",
        "    print(line)\n",
        "handle.close()"
      ],
      "metadata": {
        "colab": {
          "base_uri": "https://localhost:8080/"
        },
        "id": "G_pDIg241scp",
        "outputId": "ea2f2f33-a5df-457d-8ecd-d21594651fd6"
      },
      "execution_count": 17,
      "outputs": [
        {
          "output_type": "stream",
          "name": "stdout",
          "text": [
            "This is a test!\n"
          ]
        }
      ]
    },
    {
      "cell_type": "markdown",
      "source": [
        "###Using the with Operator"
      ],
      "metadata": {
        "id": "_W7HZ3rU2iyP"
      }
    },
    {
      "cell_type": "markdown",
      "source": [
        "Python has a neat little builtin called with which you can use to simplify reading and writing files. The with operator creates what is known as a context manager in Python that will automatically close the file for you when you are done processing it. Let’s see how this works:"
      ],
      "metadata": {
        "id": "8vdoXAHH2toO"
      }
    },
    {
      "cell_type": "code",
      "source": [
        "with open(\"test.txt\") as file_handler:\n",
        "    for line in file_handler:\n",
        "        print(line)"
      ],
      "metadata": {
        "colab": {
          "base_uri": "https://localhost:8080/"
        },
        "id": "3fjIkSlk2wIO",
        "outputId": "b653e8b2-2900-4806-db5d-352ea3e4ed8d"
      },
      "execution_count": 18,
      "outputs": [
        {
          "output_type": "stream",
          "name": "stdout",
          "text": [
            "This is a test!\n"
          ]
        }
      ]
    },
    {
      "cell_type": "code",
      "source": [
        "handle = open(\"test.txt\")"
      ],
      "metadata": {
        "id": "SvkEeEm221Wj"
      },
      "execution_count": 19,
      "outputs": []
    },
    {
      "cell_type": "code",
      "source": [
        "with open(\"test.txt\") as file_handler:"
      ],
      "metadata": {
        "id": "S1le66oK26yr"
      },
      "execution_count": null,
      "outputs": []
    },
    {
      "cell_type": "markdown",
      "source": [
        "##Catching Errors in file handling"
      ],
      "metadata": {
        "id": "bXWpzbFc3ANT"
      }
    },
    {
      "cell_type": "markdown",
      "source": [
        "Sometimes when you are working with files, bad things happen. The file is locked because some other process is using it or you have some kind of permission error. When this happens, an IOError will probably occur. In this section, we will look at how to catch errors the normal way and how to catch them using the with operator. Hint: the idea is basically the same in both!"
      ],
      "metadata": {
        "id": "0qycCVQB3UZU"
      }
    },
    {
      "cell_type": "code",
      "source": [
        "file_handler = None\n",
        "try:\n",
        "    file_handler = open(\"test2.txt\")\n",
        "    for line in file_handler:\n",
        "        print(line)\n",
        "except IOError:\n",
        "    print(\"An IOError has occurred!\")\n",
        "finally:\n",
        "    if file_handler is not None:\n",
        "        file_handler.close()"
      ],
      "metadata": {
        "colab": {
          "base_uri": "https://localhost:8080/"
        },
        "id": "wF0uWCjt3W5Y",
        "outputId": "19565fe3-19d6-4f86-d554-0d02084a7f5a"
      },
      "execution_count": 21,
      "outputs": [
        {
          "output_type": "stream",
          "name": "stdout",
          "text": [
            "An IOError has occurred!\n"
          ]
        }
      ]
    },
    {
      "cell_type": "markdown",
      "source": [
        "In the example above, we wrap the usual code inside of a try/except construct. If an error occurs, we print out a message to the screen. Note that we also make sure we close the file using the finally statement. Now we’re ready to look at how we would do this same thing using with:"
      ],
      "metadata": {
        "id": "FUwB7YR_3kFY"
      }
    },
    {
      "cell_type": "code",
      "source": [
        "try:\n",
        "    with open(\"test2.txt\") as file_handler:\n",
        "        for line in file_handler:\n",
        "            print(line)\n",
        "except IOError:\n",
        "    print(\"An IOError has occurred!\")"
      ],
      "metadata": {
        "id": "cApQ8dyp3mdc"
      },
      "execution_count": null,
      "outputs": []
    },
    {
      "cell_type": "markdown",
      "source": [
        "#Importing python modules"
      ],
      "metadata": {
        "id": "ltGV30_-32f9"
      }
    },
    {
      "cell_type": "markdown",
      "source": [
        "Python provides the import keyword for importing modules. Let’s give it a try:"
      ],
      "metadata": {
        "id": "DDJ414K_4IkM"
      }
    },
    {
      "cell_type": "code",
      "source": [
        "import this"
      ],
      "metadata": {
        "colab": {
          "base_uri": "https://localhost:8080/"
        },
        "id": "6iXUR6n64Nax",
        "outputId": "c2f170f9-63ea-48ea-a378-bb59ef1d3a81"
      },
      "execution_count": 22,
      "outputs": [
        {
          "output_type": "stream",
          "name": "stdout",
          "text": [
            "The Zen of Python, by Tim Peters\n",
            "\n",
            "Beautiful is better than ugly.\n",
            "Explicit is better than implicit.\n",
            "Simple is better than complex.\n",
            "Complex is better than complicated.\n",
            "Flat is better than nested.\n",
            "Sparse is better than dense.\n",
            "Readability counts.\n",
            "Special cases aren't special enough to break the rules.\n",
            "Although practicality beats purity.\n",
            "Errors should never pass silently.\n",
            "Unless explicitly silenced.\n",
            "In the face of ambiguity, refuse the temptation to guess.\n",
            "There should be one-- and preferably only one --obvious way to do it.\n",
            "Although that way may not be obvious at first unless you're Dutch.\n",
            "Now is better than never.\n",
            "Although never is often better than *right* now.\n",
            "If the implementation is hard to explain, it's a bad idea.\n",
            "If the implementation is easy to explain, it may be a good idea.\n",
            "Namespaces are one honking great idea -- let's do more of those!\n"
          ]
        }
      ]
    },
    {
      "cell_type": "markdown",
      "source": [
        "You have found an “Easter egg” in Python known as the “Zen of Python”. It’s actually a sort of an unofficial best practices for Python. The this module doesn’t actually do anything, but it provided a fun little way to show how to import something. Let’s actually import something we can use, like the math module:"
      ],
      "metadata": {
        "id": "3YexD9D04Tgs"
      }
    },
    {
      "cell_type": "code",
      "source": [
        "import math\n",
        "print(math.sqrt(4))"
      ],
      "metadata": {
        "colab": {
          "base_uri": "https://localhost:8080/"
        },
        "id": "AJHjFxnl4S8-",
        "outputId": "8778cb91-c4fc-49c3-a368-f3d77d21d3b8"
      },
      "execution_count": 23,
      "outputs": [
        {
          "output_type": "stream",
          "name": "stdout",
          "text": [
            "2.0\n"
          ]
        }
      ]
    },
    {
      "cell_type": "markdown",
      "source": [
        "Here we imported the math module and then we did something kind of new. We called one of its functions, sqrt (i.e. square root). To call a method of an imported module\n",
        "\n",
        "\n",
        "\n",
        "The math module has many other functions that we can use, such as cos (cosine), factorial, log (logarithm), etc. You can call these functions in much the same way you did sqrt."
      ],
      "metadata": {
        "id": "ImNXZ8R34f0P"
      }
    },
    {
      "cell_type": "markdown",
      "source": [
        "Using from to import"
      ],
      "metadata": {
        "id": "0v7gw-w_4sc8"
      }
    },
    {
      "cell_type": "markdown",
      "source": [
        "You can actually import just the functions you want from a module. Let’s pretend that we want to just import the sqrt function:"
      ],
      "metadata": {
        "id": "HVmS2FLd4xLM"
      }
    },
    {
      "cell_type": "code",
      "source": [
        "from math import sqrt\n",
        "print(sqrt(16))"
      ],
      "metadata": {
        "colab": {
          "base_uri": "https://localhost:8080/"
        },
        "id": "3t2_CrT64qxl",
        "outputId": "496862e9-928c-406e-d453-a208c57a80ca"
      },
      "execution_count": 24,
      "outputs": [
        {
          "output_type": "stream",
          "name": "stdout",
          "text": [
            "4.0\n"
          ]
        }
      ]
    },
    {
      "cell_type": "markdown",
      "source": [
        "This works pretty much exactly how it is read: from the math module, import the sqrt function. Let me explain it another way. We use Python’s from keyword to import the sqrt function from the math module. You can also use this method to import multiple functions from the math function:"
      ],
      "metadata": {
        "id": "dmfmHnfQ429V"
      }
    },
    {
      "cell_type": "code",
      "source": [
        "from math import pi, sqrt"
      ],
      "metadata": {
        "id": "MuzFzEtB45ru"
      },
      "execution_count": 25,
      "outputs": []
    },
    {
      "cell_type": "markdown",
      "source": [
        "In this example, we import both pi and sqrt. If you tried to access pi you may have noticed that it’s actually a value and not a function that you can call. It just returns the value of pi. When you do an import, you may end up importing a value, a function or even another module"
      ],
      "metadata": {
        "id": "hbCrqyoK5BXg"
      }
    },
    {
      "cell_type": "markdown",
      "source": [
        "##Importing Everything"
      ],
      "metadata": {
        "id": "goE9iV6-5H2Q"
      }
    },
    {
      "cell_type": "markdown",
      "source": [
        "Python provides a way to import all the functions and values from a module as well. This is actually a bad idea as it can contaminate your namespace. A namespace is where all your variables live during the life of the program. So let’s say you have your own variable named sqrt,"
      ],
      "metadata": {
        "id": "hgZH0Ssh5Poj"
      }
    },
    {
      "cell_type": "code",
      "source": [
        "from math import sqrt\n",
        "sqrt = 5"
      ],
      "metadata": {
        "id": "SGsPwUG05Sg0"
      },
      "execution_count": 26,
      "outputs": []
    },
    {
      "cell_type": "markdown",
      "source": [
        "#Functions"
      ],
      "metadata": {
        "id": "C9lfJ5Km5pKF"
      }
    },
    {
      "cell_type": "markdown",
      "source": [
        "A function is a structure that you define. You get to decide if they have arguments or not. You can add keyword arguments and default arguments too. A function is a block of code that starts with the def keyword, a name for the function and a colon. Here’s a simple example:"
      ],
      "metadata": {
        "id": "hey2RS0r5x25"
      }
    },
    {
      "cell_type": "code",
      "source": [
        "def a_function():\n",
        "    print(\"You just created a function!\")"
      ],
      "metadata": {
        "id": "nteqROns50id"
      },
      "execution_count": 28,
      "outputs": []
    },
    {
      "cell_type": "markdown",
      "source": [
        "This function doesn’t do anything except print out some text. To call a function, you need to type out the name of the function followed by an open and close parentheses:"
      ],
      "metadata": {
        "id": "S62jgYEG55d7"
      }
    },
    {
      "cell_type": "code",
      "source": [
        "def a_function():\n",
        "    print(\"You just created a function!\")\n",
        "a_function()"
      ],
      "metadata": {
        "colab": {
          "base_uri": "https://localhost:8080/"
        },
        "id": "14gMkfYy57fn",
        "outputId": "fd0f09db-3802-4739-805c-a6153fac1820"
      },
      "execution_count": 29,
      "outputs": [
        {
          "output_type": "stream",
          "name": "stdout",
          "text": [
            "You just created a function!\n"
          ]
        }
      ]
    },
    {
      "cell_type": "markdown",
      "source": [
        "###An Empty Function (the stub)"
      ],
      "metadata": {
        "id": "aQCfnMbX6ABR"
      }
    },
    {
      "cell_type": "markdown",
      "source": [
        "Sometimes when you are writing out some code, you just want to write the function definitions without putting any code in them. I’ve done this as kind of an outline. It helps you to see how your application is going to be laid out. Here’s an example:"
      ],
      "metadata": {
        "id": "Zv8BvVn76IQQ"
      }
    },
    {
      "cell_type": "code",
      "source": [
        "def empty_function():\n",
        "    pass"
      ],
      "metadata": {
        "id": "Ttc9Cnz96KOv"
      },
      "execution_count": 30,
      "outputs": []
    },
    {
      "cell_type": "markdown",
      "source": [
        "Here’s something new: the pass statement. It is basically a null operation, which means that when pass is executed, nothing happens."
      ],
      "metadata": {
        "id": "4sBzFg4K6OBL"
      }
    },
    {
      "cell_type": "markdown",
      "source": [
        "##Passing Arguments to a Function"
      ],
      "metadata": {
        "id": "e0bTDQj36TXn"
      }
    },
    {
      "cell_type": "markdown",
      "source": [
        "Now we’re ready to learn about how to create a function that can accept arguments and also learn how to pass said arguments to the function. Let’s create a simple function that can add two numbers together:"
      ],
      "metadata": {
        "id": "K37d_aA_6dse"
      }
    },
    {
      "cell_type": "code",
      "source": [
        "def add(a, b):\n",
        "    return a + b\n",
        "\n",
        "print(add(1, 2))"
      ],
      "metadata": {
        "colab": {
          "base_uri": "https://localhost:8080/"
        },
        "id": "8erc2ymz6geD",
        "outputId": "01b130fc-d5c7-4681-ca3c-78a37517b93e"
      },
      "execution_count": 31,
      "outputs": [
        {
          "output_type": "stream",
          "name": "stdout",
          "text": [
            "3\n"
          ]
        }
      ]
    },
    {
      "cell_type": "code",
      "source": [
        "# You can also call the function by passing the name of the arguments:\n",
        "\n",
        "def add(a, b):\n",
        "    return a + b\n",
        "\n",
        "result = add(a=2, b=3)\n",
        "print(result)\n",
        "\n",
        "total = add(b=4, a=5)\n",
        "print(total)"
      ],
      "metadata": {
        "colab": {
          "base_uri": "https://localhost:8080/"
        },
        "id": "9tNlx0X86udX",
        "outputId": "05347b1b-de48-4914-8499-a3832ac5e118"
      },
      "execution_count": 32,
      "outputs": [
        {
          "output_type": "stream",
          "name": "stdout",
          "text": [
            "5\n",
            "9\n"
          ]
        }
      ]
    },
    {
      "cell_type": "markdown",
      "source": [
        "##Keyword Arguments"
      ],
      "metadata": {
        "id": "jVfXSdW17ao-"
      }
    },
    {
      "cell_type": "markdown",
      "source": [
        "Functions can also accept keyword arguments! They can actually accept both regular arguments and keyword arguments. What this means is that you can specify which keywords are which and pass them in"
      ],
      "metadata": {
        "id": "4LfJ4F9R7mAA"
      }
    },
    {
      "cell_type": "code",
      "source": [
        "def keyword_function(a=1, b=2):\n",
        "    return a+b\n",
        "\n",
        "result = keyword_function(b=4, a=5)\n",
        "print(result)"
      ],
      "metadata": {
        "colab": {
          "base_uri": "https://localhost:8080/"
        },
        "id": "kijg923x7pCW",
        "outputId": "b5543755-09b6-4adf-9e6d-c8224b91b425"
      },
      "execution_count": 33,
      "outputs": [
        {
          "output_type": "stream",
          "name": "stdout",
          "text": [
            "9\n"
          ]
        }
      ]
    },
    {
      "cell_type": "markdown",
      "source": [
        "You could have also called this function without specifying the keywords. This function also demonstrates the concept of default arguments."
      ],
      "metadata": {
        "id": "5sx3FxD_70lR"
      }
    },
    {
      "cell_type": "code",
      "source": [
        "def keyword_function(a=1, b=2):\n",
        "    return a+b\n",
        "\n",
        "result = keyword_function()\n",
        "print(result)"
      ],
      "metadata": {
        "colab": {
          "base_uri": "https://localhost:8080/"
        },
        "id": "1lcOwTnz7zDg",
        "outputId": "011f3a70-8a5c-42c2-eb38-4770e4459ff0"
      },
      "execution_count": 34,
      "outputs": [
        {
          "output_type": "stream",
          "name": "stdout",
          "text": [
            "3\n"
          ]
        }
      ]
    }
  ]
}