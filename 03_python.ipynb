{
  "nbformat": 4,
  "nbformat_minor": 0,
  "metadata": {
    "colab": {
      "provenance": [],
      "authorship_tag": "ABX9TyOcGEoWdTX/kT20S7XPV+Xe",
      "include_colab_link": true
    },
    "kernelspec": {
      "name": "python3",
      "display_name": "Python 3"
    },
    "language_info": {
      "name": "python"
    }
  },
  "cells": [
    {
      "cell_type": "markdown",
      "metadata": {
        "id": "view-in-github",
        "colab_type": "text"
      },
      "source": [
        "<a href=\"https://colab.research.google.com/github/Sindhuhar/code_python/blob/main/03_python.ipynb\" target=\"_parent\"><img src=\"https://colab.research.google.com/assets/colab-badge.svg\" alt=\"Open In Colab\"/></a>"
      ]
    },
    {
      "cell_type": "markdown",
      "source": [
        "##configobj in Python"
      ],
      "metadata": {
        "id": "P3aZ8XC_Gx1U"
      }
    },
    {
      "cell_type": "markdown",
      "source": [
        "Python comes with a handy module called ConfigParser. It’s good for creating and reading configuration files\n",
        "\n",
        "need to go and get ConfigObj."
      ],
      "metadata": {
        "id": "yAs1N4JXG2ua"
      }
    },
    {
      "cell_type": "code",
      "source": [
        "pip install configobj"
      ],
      "metadata": {
        "colab": {
          "base_uri": "https://localhost:8080/"
        },
        "id": "IFTHKnnaG-Li",
        "outputId": "5f44b49a-cf09-4b28-9f3e-28ba52427984"
      },
      "execution_count": null,
      "outputs": [
        {
          "output_type": "stream",
          "name": "stdout",
          "text": [
            "Collecting configobj\n",
            "  Downloading configobj-5.0.9-py2.py3-none-any.whl.metadata (3.2 kB)\n",
            "Downloading configobj-5.0.9-py2.py3-none-any.whl (35 kB)\n",
            "Installing collected packages: configobj\n",
            "Successfully installed configobj-5.0.9\n"
          ]
        }
      ]
    },
    {
      "cell_type": "code",
      "source": [
        "product = \"Sony PS3\"\n",
        "accessories = \"controller, eye, memory stick\"\n",
        "\n",
        "# This is a comment that will be ignored\n",
        "retail_price = 400\n",
        "\n",
        "print(product)\n",
        "print(accessories)\n",
        "print(retail_price)\n"
      ],
      "metadata": {
        "colab": {
          "base_uri": "https://localhost:8080/"
        },
        "id": "oqiK5KVZHKS0",
        "outputId": "a4c19a6f-129e-4bf8-f461-cda798f065ad"
      },
      "execution_count": null,
      "outputs": [
        {
          "output_type": "stream",
          "name": "stdout",
          "text": [
            "Sony PS3\n",
            "controller, eye, memory stick\n",
            "400\n"
          ]
        }
      ]
    },
    {
      "cell_type": "markdown",
      "source": [
        "If you need to create a sub-section in the file, then use extra square brackets. For example, [Sony] is the top section, [[Playstation]] is the sub-section and [[[PS3]]] is the sub-section of the sub-section."
      ],
      "metadata": {
        "id": "qEOJv815IOiy"
      }
    },
    {
      "cell_type": "code",
      "source": [
        "import configobj\n",
        "\n",
        "def createConfig(path):\n",
        "    config = configobj.ConfigObj()\n",
        "    config.filename = path\n",
        "    config[\"Sony\"] = {}\n",
        "    config[\"Sony\"][\"product\"] = \"Sony PS3\"\n",
        "    config[\"Sony\"][\"accessories\"] = ['controller', 'eye', 'memory stick']\n",
        "    config[\"Sony\"][\"retail price\"] = \"$400\"\n",
        "    config.write()\n",
        "\n",
        "if __name__ == \"__main__\":\n",
        "    createConfig(\"config.ini\")"
      ],
      "metadata": {
        "id": "FMYFKUThIWmQ"
      },
      "execution_count": null,
      "outputs": []
    },
    {
      "cell_type": "markdown",
      "source": [
        "##Python Code Analysis\n",
        "\n",
        "###pylint"
      ],
      "metadata": {
        "id": "nOfeZMk7MnqX"
      }
    },
    {
      "cell_type": "markdown",
      "source": [
        " pylint is probably the most popular. It’s very configurable, customizable and pluggable too. It also checks your code to see if it conforms to PEP8, the official style guide of Python Core and it looks for programming errors too."
      ],
      "metadata": {
        "id": "eHmC1PaMMnOZ"
      }
    },
    {
      "cell_type": "code",
      "source": [
        "pip install pylint"
      ],
      "metadata": {
        "colab": {
          "base_uri": "https://localhost:8080/"
        },
        "id": "pipu-f-nMwu-",
        "outputId": "eaca5e6f-d7f3-4c7a-af00-7aa477c6c461"
      },
      "execution_count": null,
      "outputs": [
        {
          "output_type": "stream",
          "name": "stdout",
          "text": [
            "Collecting pylint\n",
            "  Downloading pylint-3.3.7-py3-none-any.whl.metadata (12 kB)\n",
            "Collecting astroid<=3.4.0.dev0,>=3.3.8 (from pylint)\n",
            "  Downloading astroid-3.3.10-py3-none-any.whl.metadata (4.4 kB)\n",
            "Requirement already satisfied: dill>=0.3.6 in /usr/local/lib/python3.11/dist-packages (from pylint) (0.3.7)\n",
            "Collecting isort!=5.13,<7,>=4.2.5 (from pylint)\n",
            "  Downloading isort-6.0.1-py3-none-any.whl.metadata (11 kB)\n",
            "Collecting mccabe<0.8,>=0.6 (from pylint)\n",
            "  Downloading mccabe-0.7.0-py2.py3-none-any.whl.metadata (5.0 kB)\n",
            "Requirement already satisfied: platformdirs>=2.2 in /usr/local/lib/python3.11/dist-packages (from pylint) (4.3.8)\n",
            "Requirement already satisfied: tomlkit>=0.10.1 in /usr/local/lib/python3.11/dist-packages (from pylint) (0.13.2)\n",
            "Downloading pylint-3.3.7-py3-none-any.whl (522 kB)\n",
            "\u001b[2K   \u001b[90m━━━━━━━━━━━━━━━━━━━━━━━━━━━━━━━━━━━━━━━━\u001b[0m \u001b[32m522.6/522.6 kB\u001b[0m \u001b[31m6.2 MB/s\u001b[0m eta \u001b[36m0:00:00\u001b[0m\n",
            "\u001b[?25hDownloading astroid-3.3.10-py3-none-any.whl (275 kB)\n",
            "\u001b[2K   \u001b[90m━━━━━━━━━━━━━━━━━━━━━━━━━━━━━━━━━━━━━━━━\u001b[0m \u001b[32m275.4/275.4 kB\u001b[0m \u001b[31m18.3 MB/s\u001b[0m eta \u001b[36m0:00:00\u001b[0m\n",
            "\u001b[?25hDownloading isort-6.0.1-py3-none-any.whl (94 kB)\n",
            "\u001b[2K   \u001b[90m━━━━━━━━━━━━━━━━━━━━━━━━━━━━━━━━━━━━━━━━\u001b[0m \u001b[32m94.2/94.2 kB\u001b[0m \u001b[31m7.3 MB/s\u001b[0m eta \u001b[36m0:00:00\u001b[0m\n",
            "\u001b[?25hDownloading mccabe-0.7.0-py2.py3-none-any.whl (7.3 kB)\n",
            "Installing collected packages: mccabe, isort, astroid, pylint\n",
            "Successfully installed astroid-3.3.10 isort-6.0.1 mccabe-0.7.0 pylint-3.3.7\n"
          ]
        }
      ]
    },
    {
      "cell_type": "markdown",
      "source": [
        "###Analyzing Your Code"
      ],
      "metadata": {
        "id": "jhxYtnA3M-s3"
      }
    },
    {
      "cell_type": "code",
      "source": [
        "import sys\n",
        "\n",
        "class CarClass:\n",
        "    \"\"\"\"\"\"\n",
        "\n",
        "    def __init__(self, color, make, model, year):\n",
        "        \"\"\"Constructor\"\"\"\n",
        "        self.color = color\n",
        "        self.make = make\n",
        "        self.model = model\n",
        "        self.year = year\n",
        "\n",
        "        if \"Windows\" in platform.platform():\n",
        "            print(\"You're using Windows!\")\n",
        "\n",
        "        self.weight = self.getWeight(1, 2, 3)\n",
        "\n",
        "    def getWeight(this):\n",
        "        \"\"\"\"\"\"\n",
        "        return \"2000 lbs\""
      ],
      "metadata": {
        "id": "Lnx4CHo7NEOi"
      },
      "execution_count": null,
      "outputs": []
    },
    {
      "cell_type": "code",
      "source": [
        "# crummy_code_fixed.py\n",
        "import platform\n",
        "\n",
        "class CarClass:\n",
        "    \"\"\"\"\"\"\n",
        "    def __init__(self, color, make, model, year):\n",
        "        \"\"\"Constructor\"\"\"\n",
        "        self.color = color\n",
        "        self.make = make\n",
        "        self.model = model\n",
        "        self.year = year\n",
        "\n",
        "        if \"Windows\" in platform.platform():\n",
        "            print(\"You're using Windows!\")\n",
        "\n",
        "        self.weight = self.get_weight(3)\n",
        "\n",
        "    def get_weight(self, this):\n",
        "        \"\"\"\"\"\"\n",
        "        return \"2000 lbs\""
      ],
      "metadata": {
        "id": "DfbfwTHKNVRr"
      },
      "execution_count": null,
      "outputs": []
    },
    {
      "cell_type": "markdown",
      "source": [
        "##What is a 'requests' package?"
      ],
      "metadata": {
        "id": "Afa0VLBVOC55"
      }
    },
    {
      "cell_type": "markdown",
      "source": [
        "The requests package is a more Pythonic replacement for Python’s own urllib. You will find that requests package’s API is quite a bit simpler to work with. You can install the requests library by using pip or easy_install or from source."
      ],
      "metadata": {
        "id": "xTEFeKQcOOeq"
      }
    },
    {
      "cell_type": "markdown",
      "source": [
        "###Using requests\n",
        "Let’s take a look at a few examples of how to use the requests package. We will use a series of small code snippets to help explain how to use this library."
      ],
      "metadata": {
        "id": "2Us7rbfXOVum"
      }
    },
    {
      "cell_type": "code",
      "source": [
        "import requests\n",
        "r = requests.get(\"http://www.google.com\")"
      ],
      "metadata": {
        "id": "aKxsm00lOeas"
      },
      "execution_count": null,
      "outputs": []
    },
    {
      "cell_type": "markdown",
      "source": [
        "This example returns a Response object. You can use the Response object’s methods to learn a lot about how you can use requests. Let’s use Python’s dir function to find out what methods we have available:"
      ],
      "metadata": {
        "id": "FLgxIAP1On_K"
      }
    },
    {
      "cell_type": "code",
      "source": [
        "print(dir(r))"
      ],
      "metadata": {
        "colab": {
          "base_uri": "https://localhost:8080/"
        },
        "id": "evtDNpwDOnk5",
        "outputId": "4f8db11c-0c11-474f-b38d-393ab3e070a4"
      },
      "execution_count": null,
      "outputs": [
        {
          "output_type": "stream",
          "name": "stdout",
          "text": [
            "['__attrs__', '__bool__', '__class__', '__delattr__', '__dict__', '__dir__', '__doc__', '__enter__', '__eq__', '__exit__', '__format__', '__ge__', '__getattribute__', '__getstate__', '__gt__', '__hash__', '__init__', '__init_subclass__', '__iter__', '__le__', '__lt__', '__module__', '__ne__', '__new__', '__nonzero__', '__reduce__', '__reduce_ex__', '__repr__', '__setattr__', '__setstate__', '__sizeof__', '__str__', '__subclasshook__', '__weakref__', '_content', '_content_consumed', '_next', 'apparent_encoding', 'close', 'connection', 'content', 'cookies', 'elapsed', 'encoding', 'headers', 'history', 'is_permanent_redirect', 'is_redirect', 'iter_content', 'iter_lines', 'json', 'links', 'next', 'ok', 'raise_for_status', 'raw', 'reason', 'request', 'status_code', 'text', 'url']\n"
          ]
        }
      ]
    },
    {
      "cell_type": "code",
      "source": [
        "print(r.content)"
      ],
      "metadata": {
        "colab": {
          "base_uri": "https://localhost:8080/"
        },
        "id": "O-toWGH2Ouy9",
        "outputId": "84188dc2-89a5-4643-d862-20b60efe114d"
      },
      "execution_count": null,
      "outputs": [
        {
          "output_type": "stream",
          "name": "stdout",
          "text": [
            "b'<!doctype html><html itemscope=\"\" itemtype=\"http://schema.org/WebPage\" lang=\"en\"><head><meta content=\"Search the world\\'s information, including webpages, images, videos and more. Google has many special features to help you find exactly what you\\'re looking for.\" name=\"description\"><meta content=\"noodp, \" name=\"robots\"><meta content=\"text/html; charset=UTF-8\" http-equiv=\"Content-Type\"><meta content=\"/images/branding/googleg/1x/googleg_standard_color_128dp.png\" itemprop=\"image\"><title>Google</title><script nonce=\"aOBt4RsRW9tkM6loWdgTPQ\">(function(){var _g={kEI:\\'qodJaIvZGJT5kPIP-9bH8Ak\\',kEXPI:\\'0,202791,63,2,610013,301,740,490081,2396317,641,435,538661,14112,34679,390923,228119,19201,23156,19568,5241681,364,36812279,25228681,119775,7,4206,14280,14115,57739,9,4759,2656,3438,3319,21349,9,2521,9138,4600,328,6225,54190,9266,709,15049,8210,3286,4134,30380,28333,52955,1258,352,11059,1281,6540,5870,3100,756,3851,7,5773,4311,10610,1382,8647,1,3,2658,12163,4361,3261,4319,2126,2115,748,1,2882,3088,4650,2360,88,9659,656,5027,3604,11409,1738,3,4615,7,1,2729,1784,79,1,12,4555,118,1018,181,1,2,2259,2,88,3704,2098,649,3716,506,1,4,3554,1247,385,560,3,304,681,485,4424,1187,1163,1191,1267,591,627,1,255,1,491,2530,186,2,78,1216,388,835,537,4,659,471,3,4,480,890,365,236,874,158,1579,364,1543,1,2949,1094,2046,1099,115,1615,24,422,327,614,417,610,268,144,206,742,520,128,226,1772,86,12,5,4,1,264,77,6,1164,30,872,692,3,1982,333,661,6,34,57,1265,48,936,7,38,116,86,300,147,2,609,531,912,1,8,1,182,1327,2380,769,475,1446,3,2,2,2,131,1060,140,218,250,62,116,1243,31,562,174,345,1,1,1,1305,1,467,2,137,4,111,307,21,27,273,110,9,33,198,133,279,707,1,42,6,88,167,1,172,45,118,49,204,574,934,330,33,35,97,711,583,5,12,846,1076,2,245,1,2,975,107,397,578,455,407,18,115,47,598,239,871,635,100,27,331,799,123,71,336,3,180,1,2,617,331,3,169,164,95,907,448,454,92,4,24,20,4,183,1,114,1237,174,576,206,25,312,3,1295,594,718,279,2,122,231,35,147,159,725,500,129,5,112,4,40,6,376,27,4,84,409,436,3531,21246609,1717,5234,4,2397,5,2992,4,2434,526,3,1272,203,1371,1072,3,96,316,15,711,3432,2,1461,275,821,2173,73,62,3631459,4864736,138911,336025\\',kBL:\\'pI84\\',kOPI:89978449};(function(){var a;((a=window.google)==null?0:a.stvsc)?google.kEI=_g.kEI:window.google=_g;}).call(this);})();(function(){google.sn=\\'webhp\\';google.kHL=\\'en\\';})();(function(){\\nvar g=this||self;function k(){return window.google&&window.google.kOPI||null};var l,m=[];function n(a){for(var b;a&&(!a.getAttribute||!(b=a.getAttribute(\"eid\")));)a=a.parentNode;return b||l}function p(a){for(var b=null;a&&(!a.getAttribute||!(b=a.getAttribute(\"leid\")));)a=a.parentNode;return b}function q(a){/^http:/i.test(a)&&window.location.protocol===\"https:\"&&(google.ml&&google.ml(Error(\"a\"),!1,{src:a,glmm:1}),a=\"\");return a}\\nfunction r(a,b,d,c,h){var e=\"\";b.search(\"&ei=\")===-1&&(e=\"&ei=\"+n(c),b.search(\"&lei=\")===-1&&(c=p(c))&&(e+=\"&lei=\"+c));var f=b.search(\"&cshid=\")===-1&&a!==\"slh\";c=\"&zx=\"+Date.now().toString();g._cshid&&f&&(c+=\"&cshid=\"+g._cshid);(d=d())&&(c+=\"&opi=\"+d);return\"/\"+(h||\"gen_204\")+\"?atyp=i&ct=\"+String(a)+\"&cad=\"+(b+e+c)};l=google.kEI;google.getEI=n;google.getLEI=p;google.ml=function(){return null};google.log=function(a,b,d,c,h,e){e=e===void 0?k:e;d||(d=r(a,b,e,c,h));if(d=q(d)){a=new Image;var f=m.length;m[f]=a;a.onerror=a.onload=a.onabort=function(){delete m[f]};a.src=d}};google.logUrl=function(a,b){b=b===void 0?k:b;return r(\"\",a,b)};}).call(this);(function(){google.y={};google.sy=[];var d;(d=google).x||(d.x=function(a,b){if(a)var c=a.id;else{do c=Math.random();while(google.y[c])}google.y[c]=[a,b];return!1});var e;(e=google).sx||(e.sx=function(a){google.sy.push(a)});google.lm=[];var f;(f=google).plm||(f.plm=function(a){google.lm.push.apply(google.lm,a)});google.lq=[];var g;(g=google).load||(g.load=function(a,b,c){google.lq.push([[a],b,c])});var h;(h=google).loadAll||(h.loadAll=function(a,b){google.lq.push([a,b])});google.bx=!1;var k;(k=google).lx||(k.lx=function(){});var l=[],m;(m=google).fce||(m.fce=function(a,b,c,n){l.push([a,b,c,n])});google.qce=l;}).call(this);google.f={};(function(){\\ndocument.documentElement.addEventListener(\"submit\",function(b){var a;if(a=b.target){var c=a.getAttribute(\"data-submitfalse\");a=c===\"1\"||c===\"q\"&&!a.elements.q.value?!0:!1}else a=!1;a&&(b.preventDefault(),b.stopPropagation())},!0);document.documentElement.addEventListener(\"click\",function(b){var a;a:{for(a=b.target;a&&a!==document.documentElement;a=a.parentElement)if(a.tagName===\"A\"){a=a.getAttribute(\"data-nohref\")===\"1\";break a}a=!1}a&&b.preventDefault()},!0);}).call(this);</script><style>#gbar,#guser{font-size:13px;padding-top:1px !important;}#gbar{height:22px}#guser{padding-bottom:7px !important;text-align:right}.gbh,.gbd{border-top:1px solid #c9d7f1;font-size:1px}.gbh{height:0;position:absolute;top:24px;width:100%}@media all{.gb1{height:22px;margin-right:.5em;vertical-align:top}#gbar{float:left}}a.gb1,a.gb4{text-decoration:underline !important}a.gb1,a.gb4{color:#00c !important}.gbi .gb4{color:#dd8e27 !important}.gbf .gb4{color:#900 !important}\\n</style><style>body,td,a,p,.h{font-family:sans-serif}body{margin:0;overflow-y:scroll}#gog{padding:3px 8px 0}td{line-height:.8em}.gac_m td{line-height:17px}form{margin-bottom:20px}.h{color:#1967d2}em{font-weight:bold;font-style:normal}.lst{height:25px;width:496px}.gsfi,.lst{font:18px sans-serif}.gsfs{font:17px sans-serif}.ds{display:inline-box;display:inline-block;margin:3px 0 4px;margin-left:4px}input{font-family:inherit}body{background:#fff;color:#000}a{color:#681da8;text-decoration:none}a:hover,a:active{text-decoration:underline}.fl a{color:#1967d2}a:visited{color:#681da8}.sblc{padding-top:5px}.sblc a{display:block;margin:2px 0;margin-left:13px;font-size:11px}.lsbb{background:#f8f9fa;border:solid 1px;border-color:#dadce0 #70757a #70757a #dadce0;height:30px}.lsbb{display:block}#WqQANb a{display:inline-block;margin:0 12px}.lsb{background:url(/images/nav_logo229.png) 0 -261px repeat-x;color:#000;border:none;cursor:pointer;height:30px;margin:0;outline:0;font:15px sans-serif;vertical-align:top}.lsb:active{background:#dadce0}.lst:focus{outline:none}</style><script nonce=\"aOBt4RsRW9tkM6loWdgTPQ\">(function(){window.google.erd={jsr:1,bv:2234,de:true,dpf:\\'76ATkEknEUbW3PpYaLSYeN2dV1RHoeqt8PKXt-waU8A\\'};\\nvar g=this||self;var k,l=(k=g.mei)!=null?k:1,m,p=(m=g.diel)!=null?m:0,q,r=(q=g.sdo)!=null?q:!0,t=0,u,w=google.erd,x=w.jsr;google.ml=function(a,b,d,n,e){e=e===void 0?2:e;b&&(u=a&&a.message);d===void 0&&(d={});d.cad=\"ple_\"+google.ple+\".aple_\"+google.aple;if(google.dl)return google.dl(a,e,d,!0),null;b=d;if(x<0){window.console&&console.error(a,b);if(x===-2)throw a;b=!1}else b=!a||!a.message||a.message===\"Error loading script\"||t>=l&&!n?!1:!0;if(!b)return null;t++;d=d||{};b=encodeURIComponent;var c=\"/gen_204?atyp=i&ei=\"+b(google.kEI);google.kEXPI&&(c+=\"&jexpid=\"+b(google.kEXPI));c+=\"&srcpg=\"+b(google.sn)+\"&jsr=\"+b(w.jsr)+\\n\"&bver=\"+b(w.bv);w.dpf&&(c+=\"&dpf=\"+b(w.dpf));var f=a.lineNumber;f!==void 0&&(c+=\"&line=\"+f);var h=a.fileName;h&&(h.indexOf(\"-extension:/\")>0&&(e=3),c+=\"&script=\"+b(h),f&&h===window.location.href&&(f=document.documentElement.outerHTML.split(\"\\\\n\")[f],c+=\"&cad=\"+b(f?f.substring(0,300):\"No script found.\")));google.ple&&google.ple===1&&(e=2);c+=\"&jsel=\"+e;for(var v in d)c+=\"&\",c+=b(v),c+=\"=\",c+=b(d[v]);c=c+\"&emsg=\"+b(a.name+\": \"+a.message);c=c+\"&jsst=\"+b(a.stack||\"N/A\");c.length>=12288&&(c=c.substr(0,12288));a=c;n||google.log(0,\"\",a);return a};window.onerror=function(a,b,d,n,e){u!==a&&(a=e instanceof Error?e:Error(a),d===void 0||\"lineNumber\"in a||(a.lineNumber=d),b===void 0||\"fileName\"in a||(a.fileName=b),google.ml(a,!1,void 0,!1,a.name===\"SyntaxError\"||a.message.substring(0,11)===\"SyntaxError\"||a.message.indexOf(\"Script error\")!==-1?3:p));u=null;r&&t>=l&&(window.onerror=null)};})();</script></head><body bgcolor=\"#fff\"><script nonce=\"aOBt4RsRW9tkM6loWdgTPQ\">(function(){var src=\\'/images/nav_logo229.png\\';var iesg=false;document.body.onload = function(){window.n && window.n();if (document.images){new Image().src=src;}\\nif (!iesg){document.f&&document.f.q.focus();document.gbqf&&document.gbqf.q.focus();}\\n}\\n})();</script><div id=\"mngb\"><div id=gbar><nobr><b class=gb1>Search</b> <a class=gb1 href=\"https://www.google.com/imghp?hl=en&tab=wi\">Images</a> <a class=gb1 href=\"http://maps.google.com/maps?hl=en&tab=wl\">Maps</a> <a class=gb1 href=\"https://play.google.com/?hl=en&tab=w8\">Play</a> <a class=gb1 href=\"https://www.youtube.com/?tab=w1\">YouTube</a> <a class=gb1 href=\"https://news.google.com/?tab=wn\">News</a> <a class=gb1 href=\"https://mail.google.com/mail/?tab=wm\">Gmail</a> <a class=gb1 href=\"https://drive.google.com/?tab=wo\">Drive</a> <a class=gb1 style=\"text-decoration:none\" href=\"https://www.google.com/intl/en/about/products?tab=wh\"><u>More</u> &raquo;</a></nobr></div><div id=guser width=100%><nobr><span id=gbn class=gbi></span><span id=gbf class=gbf></span><span id=gbe></span><a href=\"http://www.google.com/history/optout?hl=en\" class=gb4>Web History</a> | <a  href=\"/preferences?hl=en\" class=gb4>Settings</a> | <a target=_top id=gb_70 href=\"https://accounts.google.com/ServiceLogin?hl=en&passive=true&continue=http://www.google.com/&ec=GAZAAQ\" class=gb4>Sign in</a></nobr></div><div class=gbh style=left:0></div><div class=gbh style=right:0></div></div><center><br clear=\"all\" id=\"lgpd\"><div id=\"XjhHGf\"><img alt=\"Google\" height=\"92\" src=\"/images/branding/googlelogo/1x/googlelogo_white_background_color_272x92dp.png\" style=\"padding:28px 0 14px\" width=\"272\" id=\"hplogo\"><br><br></div><form action=\"/search\" name=\"f\"><table cellpadding=\"0\" cellspacing=\"0\"><tr valign=\"top\"><td width=\"25%\">&nbsp;</td><td align=\"center\" nowrap=\"\"><input name=\"ie\" value=\"ISO-8859-1\" type=\"hidden\"><input value=\"en\" name=\"hl\" type=\"hidden\"><input name=\"source\" type=\"hidden\" value=\"hp\"><input name=\"biw\" type=\"hidden\"><input name=\"bih\" type=\"hidden\"><div class=\"ds\" style=\"height:32px;margin:4px 0\"><input class=\"lst\" style=\"margin:0;padding:5px 8px 0 6px;vertical-align:top;color:#000\" autocomplete=\"off\" value=\"\" title=\"Google Search\" maxlength=\"2048\" name=\"q\" size=\"57\"></div><br style=\"line-height:0\"><span class=\"ds\"><span class=\"lsbb\"><input class=\"lsb\" value=\"Google Search\" name=\"btnG\" type=\"submit\"></span></span><span class=\"ds\"><span class=\"lsbb\"><input class=\"lsb\" id=\"tsuid_qodJaIvZGJT5kPIP-9bH8Ak_1\" value=\"I\\'m Feeling Lucky\" name=\"btnI\" type=\"submit\"><script nonce=\"aOBt4RsRW9tkM6loWdgTPQ\">(function(){var id=\\'tsuid_qodJaIvZGJT5kPIP-9bH8Ak_1\\';document.getElementById(id).onclick = function(){if (this.form.q.value){this.checked = 1;if (this.form.iflsig)this.form.iflsig.disabled = false;}\\nelse top.location=\\'/doodles/\\';};})();</script><input value=\"AOw8s4IAAAAAaEmVuglnjAgHjekzAE6wj_xcfyKLyVqs\" name=\"iflsig\" type=\"hidden\"></span></span></td><td class=\"fl sblc\" align=\"left\" nowrap=\"\" width=\"25%\"><a href=\"/advanced_search?hl=en&amp;authuser=0\">Advanced search</a></td></tr></table><input id=\"gbv\" name=\"gbv\" type=\"hidden\" value=\"1\"><script nonce=\"aOBt4RsRW9tkM6loWdgTPQ\">(function(){var a,b=\"1\";if(document&&document.getElementById)if(typeof XMLHttpRequest!=\"undefined\")b=\"2\";else if(typeof ActiveXObject!=\"undefined\"){var c,d,e=[\"MSXML2.XMLHTTP.6.0\",\"MSXML2.XMLHTTP.3.0\",\"MSXML2.XMLHTTP\",\"Microsoft.XMLHTTP\"];for(c=0;d=e[c++];)try{new ActiveXObject(d),b=\"2\"}catch(h){}}a=b;if(a==\"2\"&&location.search.indexOf(\"&gbv=2\")==-1){var f=google.gbvu,g=document.getElementById(\"gbv\");g&&(g.value=a);f&&window.setTimeout(function(){location.href=f},0)};}).call(this);</script></form><div style=\"font-size:83%;min-height:3.5em\"><br></div><span id=\"footer\"><div style=\"font-size:10pt\"><div style=\"margin:19px auto;text-align:center\" id=\"WqQANb\"><a href=\"/intl/en/ads/\">Advertising</a><a href=\"/services/\">Business Solutions</a><a href=\"/intl/en/about.html\">About Google</a></div></div><p style=\"font-size:8pt;color:#636363\">&copy; 2025 - <a href=\"/intl/en/policies/privacy/\">Privacy</a> - <a href=\"/intl/en/policies/terms/\">Terms</a></p></span></center><script nonce=\"aOBt4RsRW9tkM6loWdgTPQ\">(function(){window.google.cdo={height:757,width:1440};(function(){var a=window.innerWidth,b=window.innerHeight;if(!a||!b){var c=window.document,d=c.compatMode==\"CSS1Compat\"?c.documentElement:c.body;a=d.clientWidth;b=d.clientHeight}if(a&&b&&(a!=google.cdo.width||b!=google.cdo.height)){var e=google,f=e.log,g=\"/client_204?&atyp=i&biw=\"+a+\"&bih=\"+b+\"&ei=\"+google.kEI,h=\"\",k=window.google&&window.google.kOPI||null;k&&(h+=\"&opi=\"+k);f.call(e,\"\",\"\",g+h)};}).call(this);})();(function(){google.xjs={basecomb:\\'/xjs/_/js/k\\\\x3dxjs.hp.en.lvAFeg2lwuU.es5.O/ck\\\\x3dxjs.hp.QI5xWysZ7xI.L.X.O/am\\\\x3dAAAAAAAQAAAAAAAAAAAAAAAAAAAAAAAAAAAAACXAIIEAAAAAAAQAAAAAAAAAACIAQAQAQAAAAAAoSQCIAwEAAGgBACIQADlA6QEAgAAgAAAAAgAEAAAgBABAAAAAgAAAAAAMgPA4JgAAABAACwACAAAAiEc/d\\\\x3d1/ed\\\\x3d1/dg\\\\x3d0/ujg\\\\x3d1/rs\\\\x3dACT90oESJKUUS8uH694VoG-xGPbXjWmelw\\',basecss:\\'/xjs/_/ss/k\\\\x3dxjs.hp.QI5xWysZ7xI.L.X.O/am\\\\x3dAAAAAAAQAAAAAAAAAAAAAAAAAAAAAAAAAAAAACXAIIAAAAAAAAAAAAAAAAAAACAAAAQAQAAAAAAoCQAIAAAAAGgBACIQADlA6QEAgAAgAAAAAgAEAAAgBABAAAAAgAAAAAAAAAAABg/rs\\\\x3dACT90oF7p8G7diN05hknEUBc70P1WWwVog\\',basejs:\\'/xjs/_/js/k\\\\x3dxjs.hp.en.lvAFeg2lwuU.es5.O/am\\\\x3dAAAAAAAAAAAAAAAAAAAAAAAAAAAAAAAAAAAAAAAAAAEAAAAAAAQAAAAAAAAAACIAQAQAAAAAAAAAQACAAwEAAEgBAAAAADgAAAAAAAAgAAAAAAAAAAAAAAAAAAAAAAAAAAAMgPA4JgAAABAACwACAAAAiEc/dg\\\\x3d0/rs\\\\x3dACT90oHpGbKIOaATFL7Ijfua2jb6DZxn0A\\',excm:[]};})();(function(){var u=\\'/xjs/_/js/k\\\\x3dxjs.hp.en.lvAFeg2lwuU.es5.O/am\\\\x3dAAAAAAAAAAAAAAAAAAAAAAAAAAAAAAAAAAAAAAAAAAEAAAAAAAQAAAAAAAAAACIAQAQAAAAAAAAAQACAAwEAAEgBAAAAADgAAAAAAAAgAAAAAAAAAAAAAAAAAAAAAAAAAAAMgPA4JgAAABAACwACAAAAiEc/d\\\\x3d1/ed\\\\x3d1/dg\\\\x3d3/rs\\\\x3dACT90oHpGbKIOaATFL7Ijfua2jb6DZxn0A/m\\\\x3dsb_he,d\\';var st=1;var amd=1000;var mmd=0;var pod=true;var pop=true;var povp=false;var fp=\\'\\';\\nvar e=this||self;function f(){var b,a,d;if(a=b=(a=window.google)==null?void 0:(d=a.ia)==null?void 0:d.r.B2Jtyd)a=b.m,a=a===1||a===5;return a&&b.cbfd!=null&&b.cbvi!=null?b:void 0};function g(){var b=[u];if(!google.dp){for(var a=0;a<b.length;a++){var d=b[a],c=document.createElement(\"link\");c.as=\"script\";c.href=d;c.rel=\"preload\";document.body.appendChild(c)}google.dp=!0}};google.ps===void 0&&(google.ps=[]);function h(){var b=u,a=function(){};google.lx=google.stvsc?a:function(){k(b);google.lx=a};google.bx||google.lx()}function l(b,a){a&&(b.src=a);fp&&(b.fetchPriority=fp);var d=b.onload;b.onload=function(c){d&&d(c);google.ps=google.ps.filter(function(G){return b!==G})};google.ps.push(b);document.body.appendChild(b)}google.as=l;function k(b){google.timers&&google.timers.load&&google.tick&&google.tick(\"load\",\"xjsls\");var a=document.createElement(\"script\");a.onerror=function(){google.ple=1};a.onload=function(){google.ple=0};google.xjsus=void 0;l(a,b);google.aple=-1;google.dp=!0};function m(b){var a=b.getAttribute(\"jscontroller\");return(a===\"UBXHI\"||a===\"R3fhkb\"||a===\"TSZEqd\")&&b.hasAttribute(\"data-src\")}function n(){for(var b=document.getElementsByTagName(\"img\"),a=0,d=b.length;a<d;a++){var c=b[a];if(c.hasAttribute(\"data-lzy_\")&&Number(c.getAttribute(\"data-atf\"))&1&&!m(c))return!0}return!1}for(var p=document.getElementsByTagName(\"img\"),q=0,r=p.length;q<r;++q){var t=p[q];Number(t.getAttribute(\"data-atf\"))&1&&m(t)&&(t.src=t.getAttribute(\"data-src\"))};var w,x,y,z,A,B,C,D,E,F;function H(){google.xjsu=u;e._F_jsUrl=u;A=function(){h()};w=!1;x=(st===1||st===3)&&!!google.caft&&!n();y=f();z=(st===2||st===3)&&!!y&&!n();B=pod;C=pop;D=povp;E=pop&&document.prerendering||povp&&document.hidden;F=D?\"visibilitychange\":\"prerenderingchange\"}function I(){w||x||z||E||(A(),w=!0)}\\nsetTimeout(function(){google&&google.tick&&google.timers&&google.timers.load&&google.tick(\"load\",\"xjspls\");H();if(x||z||E){if(x){var b=function(){x=!1;I()};google.caft(b);window.setTimeout(b,amd)}z&&(b=function(){z=!1;I()},y.cbvi.push(b),window.setTimeout(b,mmd));if(E){var a=function(){(D?document.hidden:document.prerendering)||(E=!1,I(),document.removeEventListener(F,a))};document.addEventListener(F,a,{passive:!0})}if(B||C||D)w||g()}else A()},0);})();window._ = window._ || {};window._DumpException = _._DumpException = function(e){throw e;};window._s = window._s || {};_s._DumpException = _._DumpException;window._qs = window._qs || {};_qs._DumpException = _._DumpException;(function(){var t=[0,16384,0,0,0,0,0,805912576,33056,268435458,17047552,0,10752,354418705,7053,570430282,4264707,167773664,59769090,31568,2164864,524288,64,268435720,20971520,2,252182720,2446,185077760,2048,75005952];window._F_toggles = window._xjs_toggles = t;})();window._F_installCss = window._F_installCss || function(css){};(function(){google.jl={bfl:0,dw:false,eli:false,ine:false,ubm:false,uwp:true,vs:false};})();(function(){var pmc=\\'{\\\\x22d\\\\x22:{},\\\\x22sb_he\\\\x22:{\\\\x22client\\\\x22:\\\\x22heirloom-hp\\\\x22,\\\\x22dh\\\\x22:true,\\\\x22ds\\\\x22:\\\\x22\\\\x22,\\\\x22host\\\\x22:\\\\x22google.com\\\\x22,\\\\x22jsonp\\\\x22:true,\\\\x22msgs\\\\x22:{\\\\x22cibl\\\\x22:\\\\x22Clear Search\\\\x22,\\\\x22dym\\\\x22:\\\\x22Did you mean:\\\\x22,\\\\x22lcky\\\\x22:\\\\x22I\\\\\\\\u0026#39;m Feeling Lucky\\\\x22,\\\\x22lml\\\\x22:\\\\x22Learn more\\\\x22,\\\\x22psrc\\\\x22:\\\\x22This search was removed from your \\\\\\\\u003Ca href\\\\x3d\\\\\\\\\\\\x22/history\\\\\\\\\\\\x22\\\\\\\\u003EWeb History\\\\\\\\u003C/a\\\\\\\\u003E\\\\x22,\\\\x22psrl\\\\x22:\\\\x22Remove\\\\x22,\\\\x22sbit\\\\x22:\\\\x22Search by image\\\\x22,\\\\x22srch\\\\x22:\\\\x22Google Search\\\\x22},\\\\x22ovr\\\\x22:{},\\\\x22pq\\\\x22:\\\\x22\\\\x22,\\\\x22rfs\\\\x22:[],\\\\x22stok\\\\x22:\\\\x224MVCfuzAxvqashgU9QAqp4r5faY\\\\x22}}\\';google.pmc=JSON.parse(pmc);})();</script></body></html>'\n"
          ]
        }
      ]
    },
    {
      "cell_type": "markdown",
      "source": [
        "If you’d like to take a look at the web pages headers, you can run the following:"
      ],
      "metadata": {
        "id": "PW266qDZO3HK"
      }
    },
    {
      "cell_type": "code",
      "source": [
        "print(r.headers)"
      ],
      "metadata": {
        "colab": {
          "base_uri": "https://localhost:8080/"
        },
        "id": "HM-xbRljO5Cl",
        "outputId": "4bbb86aa-ab3e-4f3a-8c32-91a9ae155fbc"
      },
      "execution_count": null,
      "outputs": [
        {
          "output_type": "stream",
          "name": "stdout",
          "text": [
            "{'Date': 'Wed, 11 Jun 2025 13:42:02 GMT', 'Expires': '-1', 'Cache-Control': 'private, max-age=0', 'Content-Type': 'text/html; charset=ISO-8859-1', 'Content-Security-Policy-Report-Only': \"object-src 'none';base-uri 'self';script-src 'nonce-aOBt4RsRW9tkM6loWdgTPQ' 'strict-dynamic' 'report-sample' 'unsafe-eval' 'unsafe-inline' https: http:;report-uri https://csp.withgoogle.com/csp/gws/other-hp\", 'P3P': 'CP=\"This is not a P3P policy! See g.co/p3phelp for more info.\"', 'Content-Encoding': 'gzip', 'Server': 'gws', 'X-XSS-Protection': '0', 'X-Frame-Options': 'SAMEORIGIN', 'Transfer-Encoding': 'chunked', 'Set-Cookie': 'AEC=AVh_V2ixtvvk_oMiTyNRMEs0lmGoOXU6YHlymTrEuJIk0bISHtzj5OGBfn4; expires=Mon, 08-Dec-2025 13:42:02 GMT; path=/; domain=.google.com; Secure; HttpOnly; SameSite=lax, NID=524=RMtSarv5pKWM9q2rw0sPGD-J8MWc38oTLZCn6RVdeM-2c0UowS0qpTEvPCIBxLwGWSXAWDelEQZbH0Plpyw_OXX2teRnnTMEL46CTatsu9S8VrIe18uHL2Q3dRz9RXYyrblFr0meW_dGk2hAbNGY8zzFA091MicxKLLuLvbvIYs-lafKP5i3Y-k-ixdoaNv4LgooNVb0OnBwt7zboiA3rUWx; expires=Thu, 11-Dec-2025 13:42:02 GMT; path=/; domain=.google.com; HttpOnly'}\n"
          ]
        }
      ]
    },
    {
      "cell_type": "markdown",
      "source": [
        "###How to Submit a Web Form\n",
        "\n",
        "we will compare how to submit a web form with requests versus urllib. Let’s start by learning how to submit a web form. We will be doing a web search with duckduckgo.com searching on the term python and saving the result as an HTML file. We’ll start with an example that uses urllib:"
      ],
      "metadata": {
        "id": "3aGXUrrgPkdj"
      }
    },
    {
      "cell_type": "code",
      "source": [
        "import urllib.request\n",
        "import urllib.parse\n",
        "import webbrowser\n",
        "\n",
        "data = urllib.parse.urlencode({'q': 'Python'})\n",
        "url = 'http://duckduckgo.com/html/'\n",
        "full_url = url + '?' + data\n",
        "response = urllib.request.urlopen(full_url)\n",
        "with open(\"results.html\", \"wb\") as f:\n",
        "    f.write(response.read())\n",
        "\n",
        "webbrowser.open(\"results.html\")"
      ],
      "metadata": {
        "colab": {
          "base_uri": "https://localhost:8080/"
        },
        "id": "3eunuSe7PNgN",
        "outputId": "f06f1ed8-420b-4509-b436-56a10644af7b"
      },
      "execution_count": null,
      "outputs": [
        {
          "output_type": "execute_result",
          "data": {
            "text/plain": [
              "False"
            ]
          },
          "metadata": {},
          "execution_count": 19
        }
      ]
    },
    {
      "cell_type": "code",
      "source": [
        "import requests\n",
        "\n",
        "url = 'https://duckduckgo.com/html/'\n",
        "payload = {'q':'python'}\n",
        "r = requests.get(url, params=payload)\n",
        "with open(\"requests_results.html\", \"wb\") as f:\n",
        "    f.write(r.content)"
      ],
      "metadata": {
        "id": "Mo6mZml9PafK"
      },
      "execution_count": null,
      "outputs": []
    },
    {
      "cell_type": "markdown",
      "source": [
        "With requests, you just need to create a dictionary with the field name as the key and the search term as the value. Then you use requests.get to do the search. Finally you use the resulting requests object, “r”, and access its content property which you save to disk."
      ],
      "metadata": {
        "id": "snlP7Jt6PgAp"
      }
    }
  ]
}