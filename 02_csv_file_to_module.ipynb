{
  "nbformat": 4,
  "nbformat_minor": 0,
  "metadata": {
    "colab": {
      "provenance": [],
      "authorship_tag": "ABX9TyPLHZJw/XKo1GoJ3UZtv7yX",
      "include_colab_link": true
    },
    "kernelspec": {
      "name": "python3",
      "display_name": "Python 3"
    },
    "language_info": {
      "name": "python"
    }
  },
  "cells": [
    {
      "cell_type": "markdown",
      "metadata": {
        "id": "view-in-github",
        "colab_type": "text"
      },
      "source": [
        "<a href=\"https://colab.research.google.com/github/Sindhuhar/code_python/blob/main/02_csv_file_to_module.ipynb\" target=\"_parent\"><img src=\"https://colab.research.google.com/assets/colab-badge.svg\" alt=\"Open In Colab\"/></a>"
      ]
    },
    {
      "cell_type": "markdown",
      "source": [
        "##Configuration files and config parser"
      ],
      "metadata": {
        "id": "wSS022b4EMjK"
      }
    },
    {
      "cell_type": "markdown",
      "source": [
        "Configuration files are used by both users and programmers. They are usually used for storing your application’s settings or even your operating system’s settings. Python’s core library includes a module called configparser that you can use for creating and interacting with configuration files."
      ],
      "metadata": {
        "id": "Ux-1c5T4JXLb"
      }
    },
    {
      "cell_type": "code",
      "source": [
        "import configparser\n",
        "\n",
        "def createConfig(path):\n",
        "    \"\"\"\n",
        "    Create a config file\n",
        "    \"\"\"\n",
        "    config = configparser.ConfigParser()\n",
        "    font = \"Courier\"\n",
        "    font_size = 8\n",
        "    config.add_section(\"Settings\")\n",
        "    config.set(\"Settings\", \"font\", \"{font}\".format(font=font))\n",
        "    config.set(\"Settings\", \"font_size\", \"10\")\n",
        "    config.set(\"Settings\", \"font_style\", \"Normal\")\n",
        "    config.set(\"Settings\", \"font_info\",\n",
        "               \"You are using %(font)s at %(font_size)s pt\".format(\n",
        "                   font=font, font_size=font_size))\n",
        "\n",
        "    with open(path, \"w\") as config_file:\n",
        "        config.write(config_file)\n",
        "\n",
        "\n",
        "if __name__ == \"__main__\":\n",
        "    path = \"settings.ini\"\n",
        "    createConfig(path)"
      ],
      "metadata": {
        "id": "XNEVAr7OJUzv"
      },
      "execution_count": 1,
      "outputs": []
    },
    {
      "cell_type": "markdown",
      "source": [
        "The code above will create a config file with one section labelled Settings that will contain four options: font, font_size, font_style and font_info."
      ],
      "metadata": {
        "id": "OIHZO5QSJ_65"
      }
    },
    {
      "cell_type": "code",
      "source": [
        "import configparser\n",
        "import os\n",
        "\n",
        "def createConfig(path):\n",
        "    \"\"\"\n",
        "    Create a config file\n",
        "    \"\"\"\n",
        "    config = configparser.ConfigParser()\n",
        "    config.add_section(\"Settings\")\n",
        "    config.set(\"Settings\", \"font\", \"Courier\")\n",
        "    config.set(\"Settings\", \"font_size\", \"10\")\n",
        "    config.set(\"Settings\", \"font_style\", \"Normal\")\n",
        "    config.set(\"Settings\", \"font_info\",\n",
        "               \"You are using %(font)s at %(font_size)s pt\")\n",
        "\n",
        "    with open(path, \"w\") as config_file:\n",
        "        config.write(config_file)\n",
        "\n",
        "def crudConfig(path):\n",
        "    \"\"\"\n",
        "    Create, read, update, delete config\n",
        "    \"\"\"\n",
        "    if not os.path.exists(path):\n",
        "        createConfig(path)\n",
        "\n",
        "    config = configparser.ConfigParser()\n",
        "    config.read(path)\n",
        "\n",
        "    # read some values from the config\n",
        "    font = config.get(\"Settings\", \"font\")\n",
        "    font_size = config.get(\"Settings\", \"font_size\")\n",
        "\n",
        "    # change a value in the config\n",
        "    config.set(\"Settings\", \"font_size\", \"12\")\n",
        "\n",
        "    # delete a value from the config\n",
        "    config.remove_option(\"Settings\", \"font_style\")\n",
        "\n",
        "    # write changes back to the config file\n",
        "    with open(path, \"w\") as config_file:\n",
        "        config.write(config_file)\n",
        "\n",
        "\n",
        "if __name__ == \"__main__\":\n",
        "    path = \"settings.ini\"\n",
        "    crudConfig(path)"
      ],
      "metadata": {
        "id": "B9T1O-5bKnd_"
      },
      "execution_count": 2,
      "outputs": []
    },
    {
      "cell_type": "markdown",
      "source": [
        "The configparser module also allows interpolation, which means you can use some options to build another option. We actually do this with the font_info option in that its value is based on the font and font_size options. We can change an interpolated value using a Python dictionary."
      ],
      "metadata": {
        "id": "IfS9qzwqLUzE"
      }
    },
    {
      "cell_type": "code",
      "source": [
        "import configparser\n",
        "import os\n",
        "\n",
        "def createConfig(path):\n",
        "    \"\"\"\n",
        "    Create a config file\n",
        "    \"\"\"\n",
        "    config = configparser.ConfigParser()\n",
        "    config.add_section(\"Settings\")\n",
        "    config.set(\"Settings\", \"font\", \"Courier\")\n",
        "    config.set(\"Settings\", \"font_size\", \"10\")\n",
        "    config.set(\"Settings\", \"font_style\", \"Normal\")\n",
        "    config.set(\"Settings\", \"font_info\",\n",
        "               \"You are using %(font)s at %(font_size)s pt\")\n",
        "\n",
        "    with open(path, \"w\") as config_file:\n",
        "        config.write(config_file)\n",
        "\n",
        "def interpolationDemo(path):\n",
        "    if not os.path.exists(path):\n",
        "        createConfig(path)\n",
        "\n",
        "    config = configparser.ConfigParser()\n",
        "    config.read(path)\n",
        "\n",
        "    print(config.get(\"Settings\", \"font_info\"))\n",
        "\n",
        "    print(config.get(\"Settings\", \"font_info\",\n",
        "                     vars={\"font\": \"Arial\", \"font_size\": \"100\"}))\n",
        "\n",
        "\n",
        "if __name__ == \"__main__\":\n",
        "    path = \"settings.ini\"\n",
        "    interpolationDemo(path)"
      ],
      "metadata": {
        "colab": {
          "base_uri": "https://localhost:8080/"
        },
        "id": "CXZN-lSSLUeD",
        "outputId": "fab91ac7-53c4-4ba1-eb3b-4d49bc47f332"
      },
      "execution_count": 3,
      "outputs": [
        {
          "output_type": "stream",
          "name": "stdout",
          "text": [
            "You are using Courier at 12 pt\n",
            "You are using Arial at 100 pt\n"
          ]
        }
      ]
    },
    {
      "cell_type": "markdown",
      "source": [
        "###Python's os module"
      ],
      "metadata": {
        "id": "2RZiC3FDN5z0"
      }
    },
    {
      "cell_type": "code",
      "source": [
        "import os"
      ],
      "metadata": {
        "id": "04IOYAkWN723"
      },
      "execution_count": 6,
      "outputs": []
    },
    {
      "cell_type": "markdown",
      "source": [
        "The os module has both callable functions and normal values. In the case of\n",
        "**os.name**, it is just a value. When you access os.name, you will get information\n",
        "about what platform you are running on."
      ],
      "metadata": {
        "id": "vbzD0ZMqOIMw"
      }
    },
    {
      "cell_type": "code",
      "source": [
        "import os\n",
        "print(os.name)"
      ],
      "metadata": {
        "colab": {
          "base_uri": "https://localhost:8080/"
        },
        "id": "f_MaFry0OaYb",
        "outputId": "87063f14-f7a2-4acd-e946-5da11b29b6f6"
      },
      "execution_count": 7,
      "outputs": [
        {
          "output_type": "stream",
          "name": "stdout",
          "text": [
            "posix\n"
          ]
        }
      ]
    },
    {
      "cell_type": "markdown",
      "source": [
        "os.environ, os.getenv() and os.putenv()"
      ],
      "metadata": {
        "id": "kWeiofmWOm_x"
      }
    },
    {
      "cell_type": "markdown",
      "source": [
        "The os.environ value is known as a mapping object that returns a dictionary of the user’s environmental variables. You may not know this, but every time you use your computer, some environment variables are set. These can give you valuable information, such as number of processors, type of CPU, the computer name,"
      ],
      "metadata": {
        "id": "YKWr-YeROzlB"
      }
    },
    {
      "cell_type": "code",
      "source": [
        "import os\n",
        "print(os.environ)"
      ],
      "metadata": {
        "colab": {
          "base_uri": "https://localhost:8080/"
        },
        "id": "Ia_-Wkj-Ocdl",
        "outputId": "9793c8e1-2dae-4491-9fb5-cd1d91cfa928"
      },
      "execution_count": 8,
      "outputs": [
        {
          "output_type": "stream",
          "name": "stdout",
          "text": [
            "environ({'SHELL': '/bin/bash', 'NV_LIBCUBLAS_VERSION': '12.5.3.2-1', 'NVIDIA_VISIBLE_DEVICES': 'all', 'COLAB_JUPYTER_TRANSPORT': 'ipc', 'NV_NVML_DEV_VERSION': '12.5.82-1', 'NV_CUDNN_PACKAGE_NAME': 'libcudnn9-cuda-12', 'CGROUP_MEMORY_EVENTS': '/sys/fs/cgroup/memory.events /var/colab/cgroup/jupyter-children/memory.events', 'NV_LIBNCCL_DEV_PACKAGE': 'libnccl-dev=2.22.3-1+cuda12.5', 'NV_LIBNCCL_DEV_PACKAGE_VERSION': '2.22.3-1', 'VM_GCE_METADATA_HOST': '169.254.169.253', 'MODEL_PROXY_HOST': 'https://mp.kaggle.net', 'HOSTNAME': '5ceb82b970db', 'LANGUAGE': 'en_US', 'TBE_RUNTIME_ADDR': '172.28.0.1:8011', 'COLAB_TPU_1VM': '', 'GCE_METADATA_TIMEOUT': '3', 'NVIDIA_REQUIRE_CUDA': 'cuda>=12.5 brand=unknown,driver>=470,driver<471 brand=grid,driver>=470,driver<471 brand=tesla,driver>=470,driver<471 brand=nvidia,driver>=470,driver<471 brand=quadro,driver>=470,driver<471 brand=quadrortx,driver>=470,driver<471 brand=nvidiartx,driver>=470,driver<471 brand=vapps,driver>=470,driver<471 brand=vpc,driver>=470,driver<471 brand=vcs,driver>=470,driver<471 brand=vws,driver>=470,driver<471 brand=cloudgaming,driver>=470,driver<471 brand=unknown,driver>=535,driver<536 brand=grid,driver>=535,driver<536 brand=tesla,driver>=535,driver<536 brand=nvidia,driver>=535,driver<536 brand=quadro,driver>=535,driver<536 brand=quadrortx,driver>=535,driver<536 brand=nvidiartx,driver>=535,driver<536 brand=vapps,driver>=535,driver<536 brand=vpc,driver>=535,driver<536 brand=vcs,driver>=535,driver<536 brand=vws,driver>=535,driver<536 brand=cloudgaming,driver>=535,driver<536 brand=unknown,driver>=550,driver<551 brand=grid,driver>=550,driver<551 brand=tesla,driver>=550,driver<551 brand=nvidia,driver>=550,driver<551 brand=quadro,driver>=550,driver<551 brand=quadrortx,driver>=550,driver<551 brand=nvidiartx,driver>=550,driver<551 brand=vapps,driver>=550,driver<551 brand=vpc,driver>=550,driver<551 brand=vcs,driver>=550,driver<551 brand=vws,driver>=550,driver<551 brand=cloudgaming,driver>=550,driver<551', 'NV_LIBCUBLAS_DEV_PACKAGE': 'libcublas-dev-12-5=12.5.3.2-1', 'NV_NVTX_VERSION': '12.5.82-1', 'COLAB_JUPYTER_IP': '172.28.0.12', 'NV_CUDA_CUDART_DEV_VERSION': '12.5.82-1', 'NV_LIBCUSPARSE_VERSION': '12.5.1.3-1', 'COLAB_LANGUAGE_SERVER_PROXY_ROOT_URL': 'http://172.28.0.1:8013/', 'NV_LIBNPP_VERSION': '12.3.0.159-1', 'NCCL_VERSION': '2.22.3-1', 'KMP_LISTEN_PORT': '6000', 'TF_FORCE_GPU_ALLOW_GROWTH': 'true', 'ENV': '/root/.bashrc', 'PWD': '/', 'COLAB_LANGUAGE_SERVER_PROXY_REQUEST_TIMEOUT': '30s', 'TBE_EPHEM_CREDS_ADDR': '172.28.0.1:8009', 'TBE_CREDS_ADDR': '172.28.0.1:8008', 'NV_CUDNN_PACKAGE': 'libcudnn9-cuda-12=9.2.1.18-1', 'NVIDIA_DRIVER_CAPABILITIES': 'compute,utility', 'COLAB_JUPYTER_TOKEN': '', 'LAST_FORCED_REBUILD': '20250509', 'NV_NVPROF_DEV_PACKAGE': 'cuda-nvprof-12-5=12.5.82-1', 'NV_LIBNPP_PACKAGE': 'libnpp-12-5=12.3.0.159-1', 'NV_LIBNCCL_DEV_PACKAGE_NAME': 'libnccl-dev', 'TCLLIBPATH': '/usr/share/tcltk/tcllib1.20', 'NV_LIBCUBLAS_DEV_VERSION': '12.5.3.2-1', 'NVIDIA_PRODUCT_NAME': 'CUDA', 'COLAB_KERNEL_MANAGER_PROXY_HOST': '172.28.0.12', 'UV_BUILD_CONSTRAINT': '', 'NV_LIBCUBLAS_DEV_PACKAGE_NAME': 'libcublas-dev-12-5', 'NV_CUDA_CUDART_VERSION': '12.5.82-1', 'COLAB_WARMUP_DEFAULTS': '1', 'HOME': '/root', 'LANG': 'en_US.UTF-8', 'CUDA_VERSION': '12.5.1', 'CLOUDSDK_CONFIG': '/content/.config', 'NV_LIBCUBLAS_PACKAGE': 'libcublas-12-5=12.5.3.2-1', 'NV_CUDA_NSIGHT_COMPUTE_DEV_PACKAGE': 'cuda-nsight-compute-12-5=12.5.1-1', 'UV_SYSTEM_PYTHON': 'true', 'COLAB_RELEASE_TAG': 'release-colab_20250609-060100_RC00', 'KMP_TARGET_PORT': '9000', 'KMP_EXTRA_ARGS': '--logtostderr --listen_host=172.28.0.12 --target_host=172.28.0.12 --tunnel_background_save_url=https://colab.research.google.com/tun/m/cc48301118ce562b961b3c22d803539adc1e0c19/m-s-3pt7cmkd5ek7r --tunnel_background_save_delay=10s --tunnel_periodic_background_save_frequency=30m0s --enable_output_coalescing=true --output_coalescing_required=true ', 'UV_INSTALL_DIR': '/usr/local/bin', 'NV_LIBNPP_DEV_PACKAGE': 'libnpp-dev-12-5=12.3.0.159-1', 'COLAB_LANGUAGE_SERVER_PROXY_LSP_DIRS': '/datalab/web/pyright/typeshed-fallback/stdlib,/usr/local/lib/python3.10/dist-packages', 'NV_LIBCUBLAS_PACKAGE_NAME': 'libcublas-12-5', 'COLAB_KERNEL_MANAGER_PROXY_PORT': '6000', 'CLOUDSDK_PYTHON': 'python3', 'NV_LIBNPP_DEV_VERSION': '12.3.0.159-1', 'NO_GCE_CHECK': 'False', 'PYTHONPATH': '/env/python', 'NV_LIBCUSPARSE_DEV_VERSION': '12.5.1.3-1', 'LIBRARY_PATH': '/usr/local/cuda/lib64/stubs', 'NV_CUDNN_VERSION': '9.2.1.18-1', 'SHLVL': '0', 'NV_CUDA_LIB_VERSION': '12.5.1-1', 'COLAB_LANGUAGE_SERVER_PROXY': '/usr/colab/bin/language_service', 'NVARCH': 'x86_64', 'UV_CONSTRAINT': '', 'PYTHONUTF8': '1', 'NV_CUDNN_PACKAGE_DEV': 'libcudnn9-dev-cuda-12=9.2.1.18-1', 'NV_LIBNCCL_PACKAGE': 'libnccl2=2.22.3-1+cuda12.5', 'LD_LIBRARY_PATH': '/usr/local/nvidia/lib:/usr/local/nvidia/lib64', 'COLAB_GPU': '', 'NV_CUDA_NSIGHT_COMPUTE_VERSION': '12.5.1-1', 'GCS_READ_CACHE_BLOCK_SIZE_MB': '16', 'NV_NVPROF_VERSION': '12.5.82-1', 'LC_ALL': 'en_US.UTF-8', 'COLAB_FILE_HANDLER_ADDR': 'localhost:3453', 'PATH': '/opt/bin:/usr/local/nvidia/bin:/usr/local/cuda/bin:/usr/local/sbin:/usr/local/bin:/usr/sbin:/usr/bin:/sbin:/bin:/tools/node/bin:/tools/google-cloud-sdk/bin', 'NV_LIBNCCL_PACKAGE_NAME': 'libnccl2', 'COLAB_DEBUG_ADAPTER_MUX_PATH': '/usr/local/bin/dap_multiplexer', 'NV_LIBNCCL_PACKAGE_VERSION': '2.22.3-1', 'PYTHONWARNINGS': 'ignore:::pip._internal.cli.base_command', 'DEBIAN_FRONTEND': 'noninteractive', 'COLAB_BACKEND_VERSION': 'next', 'OLDPWD': '/', '_PYVIZ_COMMS_INSTALLED': '1', 'PYDEVD_USE_FRAME_EVAL': 'NO', 'JPY_PARENT_PID': '85', 'TERM': 'xterm-color', 'CLICOLOR': '1', 'PAGER': 'cat', 'GIT_PAGER': 'cat', 'MPLBACKEND': 'module://matplotlib_inline.backend_inline', 'ENABLE_DIRECTORYPREFETCHER': '1', 'USE_AUTH_EPHEM': '1', 'COLAB_NOTEBOOK_ID': '1RQ2sK6JCpcOPk5eUB_w1SxbIDgO91pGl'})\n"
          ]
        }
      ]
    },
    {
      "cell_type": "markdown",
      "source": [
        "Your output won’t be the same as mine as everyone’s PC configuration is a little different, but you’ll see something similar. As you may have noticed, this returned a dictionary. That means you can access the environmental variables using your normal dictionary methods. Here’s an example:"
      ],
      "metadata": {
        "id": "ONEewE7qPBxg"
      }
    },
    {
      "cell_type": "code",
      "source": [
        "import os\n",
        "print(os.environ[\"HOSTNAME\"])"
      ],
      "metadata": {
        "colab": {
          "base_uri": "https://localhost:8080/"
        },
        "id": "JdYnCh2pPF9i",
        "outputId": "7ba66ac0-0c3d-4dbc-ac9e-881068d90379"
      },
      "execution_count": 9,
      "outputs": [
        {
          "output_type": "stream",
          "name": "stdout",
          "text": [
            "5ceb82b970db\n"
          ]
        }
      ]
    },
    {
      "cell_type": "markdown",
      "source": [
        "You could also use the os.getenv function to access this environmental variable:"
      ],
      "metadata": {
        "id": "v1uhrI4bPJmk"
      }
    },
    {
      "cell_type": "code",
      "source": [
        "import os\n",
        "print(os.getenv(\"HOSTNAME\"))"
      ],
      "metadata": {
        "colab": {
          "base_uri": "https://localhost:8080/"
        },
        "id": "_6aSKSeOPMHB",
        "outputId": "a51c3cba-391a-4e88-c794-f2a37193537e"
      },
      "execution_count": 10,
      "outputs": [
        {
          "output_type": "stream",
          "name": "stdout",
          "text": [
            "5ceb82b970db\n"
          ]
        }
      ]
    },
    {
      "cell_type": "markdown",
      "source": [
        "The benefit of using os.getenv() instead of the os.environ dictionary is that if you happen to try to access an environmental variable that doesn’t exist, the getenv function will just return None. If you did the same thing with os.environ, you would receive an error."
      ],
      "metadata": {
        "id": "OWY4albFPUez"
      }
    },
    {
      "cell_type": "code",
      "source": [
        "import os\n",
        "\n",
        "print(os.getenv(\"TMP2\"))"
      ],
      "metadata": {
        "colab": {
          "base_uri": "https://localhost:8080/"
        },
        "id": "RG5wYVATPbji",
        "outputId": "34206007-5813-45a0-e504-3eee90246d04"
      },
      "execution_count": 11,
      "outputs": [
        {
          "output_type": "stream",
          "name": "stdout",
          "text": [
            "None\n"
          ]
        }
      ]
    },
    {
      "cell_type": "markdown",
      "source": [
        "Python’s os module also provides os.putenv(), which you can use to set an environment variable."
      ],
      "metadata": {
        "id": "sW2ZSOPMPfui"
      }
    },
    {
      "cell_type": "code",
      "source": [
        "import os\n",
        "\n",
        "os.putenv('py_env', 'foo')"
      ],
      "metadata": {
        "id": "1lJ7lGdbPi9Y"
      },
      "execution_count": 12,
      "outputs": []
    },
    {
      "cell_type": "markdown",
      "source": [
        "###Directory and file functions in Python"
      ],
      "metadata": {
        "id": "huiuFT9HP3c0"
      }
    },
    {
      "cell_type": "markdown",
      "source": [
        "os.chdir() and os.getcwd()\n",
        "\n",
        "\n",
        "The os.chdir function allows us to change the directory that we’re currently running our Python session in. If you want to actually know what path you are currently in, then you would call os.getcwd()"
      ],
      "metadata": {
        "id": "YYjF-ZWVP_HP"
      }
    },
    {
      "cell_type": "code",
      "source": [
        "import os\n",
        "\n",
        "print(os.getcwd())\n",
        "# '/usercode'\n",
        "\n",
        "os.chdir('/var')\n",
        "print(os.getcwd())"
      ],
      "metadata": {
        "colab": {
          "base_uri": "https://localhost:8080/"
        },
        "id": "Q_NYPlakQDT-",
        "outputId": "ce25c89a-c4c3-4cf4-9e28-3c532ff8b461"
      },
      "execution_count": 13,
      "outputs": [
        {
          "output_type": "stream",
          "name": "stdout",
          "text": [
            "/content\n",
            "/var\n"
          ]
        }
      ]
    },
    {
      "cell_type": "markdown",
      "source": [
        "os.mkdir() and os.makedirs()\n",
        "\n",
        "The os.makedirs() function will create all the intermediate folders in a path if they don’t already exist. Basically this means that you can created a path that has nested folders in it."
      ],
      "metadata": {
        "id": "0ffxV8xVQmlA"
      }
    },
    {
      "cell_type": "code",
      "source": [
        "import os\n",
        "\n",
        "path = r'/usercode/pytest\\2017\\02\\01'\n",
        "os.makedirs(path)"
      ],
      "metadata": {
        "id": "ajwFH_UBQ4To"
      },
      "execution_count": 15,
      "outputs": []
    },
    {
      "cell_type": "markdown",
      "source": [
        "The os.remove() and os.rmdir() functions are used for deleting files and directories respectively.\n",
        "\n",
        "The os.rename() function will rename a file or folder.\n",
        "\n",
        "The os.startfile() method allows us to “start” a file with its associated program. In other words, we can open a file with it’s associated program, just like when you double-click a PDF and it opens in Adobe Reader.\n",
        "\n",
        "The os.walk() method gives us a way to iterate over a root level path. What this means is that we can pass a path to this function and get access to all its sub-directories and files."
      ],
      "metadata": {
        "id": "2oxyGPUrRQBU"
      }
    },
    {
      "cell_type": "markdown",
      "source": [
        "###os.path.basename\n",
        "\n",
        "\n",
        "The basename function will return just the filename of a path. Here is an example:"
      ],
      "metadata": {
        "id": "i44Ocy-vSFcy"
      }
    },
    {
      "cell_type": "code",
      "source": [
        "import os\n",
        "print(os.path.basename(r'/usercode/test.txt'))"
      ],
      "metadata": {
        "colab": {
          "base_uri": "https://localhost:8080/"
        },
        "id": "loViwyNLSA4X",
        "outputId": "e1a17cb0-e804-46f9-d58a-a7edef4a7c89"
      },
      "execution_count": 17,
      "outputs": [
        {
          "output_type": "stream",
          "name": "stdout",
          "text": [
            "test.txt\n"
          ]
        }
      ]
    },
    {
      "cell_type": "markdown",
      "source": [
        "###os.path.dirname\n",
        "\n",
        "\n",
        "The dirname function will return just the directory portion of the path."
      ],
      "metadata": {
        "id": "5_40OkDtSMiU"
      }
    },
    {
      "cell_type": "code",
      "source": [
        "import os\n",
        "print(os.path.dirname(r'/usercode/test.txt'))"
      ],
      "metadata": {
        "colab": {
          "base_uri": "https://localhost:8080/"
        },
        "id": "jcNb0Jd9SY3o",
        "outputId": "a245e665-f605-458c-cd07-9e8b2c79cebb"
      },
      "execution_count": 18,
      "outputs": [
        {
          "output_type": "stream",
          "name": "stdout",
          "text": [
            "/usercode\n"
          ]
        }
      ]
    },
    {
      "cell_type": "markdown",
      "source": [
        "os.path.exists\n",
        "\n",
        "The exists function will tell you if a path exists or not. All you have to do is pass it a path."
      ],
      "metadata": {
        "id": "37qQMk3uSTuv"
      }
    },
    {
      "cell_type": "code",
      "source": [
        "import os\n",
        "\n",
        "print(os.path.exists(r'/usercode/test.txt'))\n",
        "\n",
        "print(os.path.exists(r'/usercode/test_fake.txt'))"
      ],
      "metadata": {
        "colab": {
          "base_uri": "https://localhost:8080/"
        },
        "id": "Ljb_qK3NSctD",
        "outputId": "8dcb038e-41d6-4a6b-c612-533a0ba89d90"
      },
      "execution_count": 19,
      "outputs": [
        {
          "output_type": "stream",
          "name": "stdout",
          "text": [
            "False\n",
            "False\n"
          ]
        }
      ]
    },
    {
      "cell_type": "markdown",
      "source": [
        "###os.path.join\n",
        "\n",
        "\n",
        "The join method give you the ability to join one or more path components together using the appropriate separator. For example, on Windows, the separator is the backslash, but on Linux, the separator is the forward slash."
      ],
      "metadata": {
        "id": "w7uC9BNgSkTa"
      }
    },
    {
      "cell_type": "code",
      "source": [
        "import os\n",
        "print(os.path.join(r'/usercode', 'test.txt'))"
      ],
      "metadata": {
        "colab": {
          "base_uri": "https://localhost:8080/"
        },
        "id": "EzJigpiASomU",
        "outputId": "e444e2ad-6a23-450d-96d8-8370e79d9313"
      },
      "execution_count": 20,
      "outputs": [
        {
          "output_type": "stream",
          "name": "stdout",
          "text": [
            "/usercode/test.txt\n"
          ]
        }
      ]
    },
    {
      "cell_type": "markdown",
      "source": [
        "###os.path.split\n",
        "The split method will split a path into a tuple that contains the directory and the file."
      ],
      "metadata": {
        "id": "FMvNulsjSwPf"
      }
    },
    {
      "cell_type": "code",
      "source": [
        "import os\n",
        "print(os.path.split(r'/usercode/test.txt'))"
      ],
      "metadata": {
        "colab": {
          "base_uri": "https://localhost:8080/"
        },
        "id": "4I5U2exqS1De",
        "outputId": "ce647791-4c11-433f-f59b-4e9114e2cca1"
      },
      "execution_count": 21,
      "outputs": [
        {
          "output_type": "stream",
          "name": "stdout",
          "text": [
            "('/usercode', 'test.txt')\n"
          ]
        }
      ]
    },
    {
      "cell_type": "markdown",
      "source": [
        "###Python's subprocess module\n",
        "\n",
        "The subprocess module gives the developer the ability to start processes or programs from Python. In other words, you can start applications and pass arguments to them using the subprocess module."
      ],
      "metadata": {
        "id": "e-Z9v634Uf-g"
      }
    },
    {
      "cell_type": "markdown",
      "source": [
        "The subprocess module provides a function named call. This function allows you to call another program, wait for the command to complete and then return the return code. It accepts one or more arguments as well as the following keyword arguments (with their defaults): stdin=None, stdout=None, stderr=None, shell=False."
      ],
      "metadata": {
        "id": "f7gdqehiUp4Q"
      }
    },
    {
      "cell_type": "code",
      "source": [
        "import subprocess\n",
        "subprocess.call(\"notepad\")"
      ],
      "metadata": {
        "id": "c-PEnY-XU1Su"
      },
      "execution_count": null,
      "outputs": []
    },
    {
      "cell_type": "markdown",
      "source": [
        "###The Popen Class\n",
        "\n",
        "The Popen class executes a child program in a new process. Unlike the call method, it does not wait for the called process to end unless you tell it to using by using the wait method."
      ],
      "metadata": {
        "id": "632naIRXVQtR"
      }
    },
    {
      "cell_type": "code",
      "source": [
        "import subprocess\n",
        "subprocess.Popen(\"du\")"
      ],
      "metadata": {
        "colab": {
          "base_uri": "https://localhost:8080/"
        },
        "id": "Pfzj4tzLVP32",
        "outputId": "a4de6c3d-d8c7-43da-aac5-274b2c6c0f23"
      },
      "execution_count": 24,
      "outputs": [
        {
          "output_type": "execute_result",
          "data": {
            "text/plain": [
              "<Popen: returncode: None args: 'du'>"
            ]
          },
          "metadata": {},
          "execution_count": 24
        }
      ]
    },
    {
      "cell_type": "markdown",
      "source": [
        "###Python's sys module"
      ],
      "metadata": {
        "id": "qXIZVbprV47U"
      }
    },
    {
      "cell_type": "markdown",
      "source": [
        "The sys module provides system specific parameters and functions. We will be narrowing our study down to the following:\n",
        "\n",
        "\n",
        "\n",
        "*   sys.argv\n",
        "*   sys.executable\n",
        "\n",
        "*   sys.exit\n",
        "*   sys.modules\n",
        "\n",
        "\n",
        "*   sys.path\n",
        "*   sys.platform\n",
        "\n",
        "*   sys.stdin/stdout/stderr\n",
        "*   List item\n",
        "\n",
        "\n",
        "\n",
        "\n",
        "\n",
        "\n"
      ],
      "metadata": {
        "id": "RDzh4YUDV_fe"
      }
    },
    {
      "cell_type": "markdown",
      "source": [
        "###sys.argv\n",
        "The value of sys.argv is a Python list of command line arguments that were passed to the Python script. The first argument, argv[0] is the name of the Python script itself. Depending on the platform that you are running on, the first argument may contain the full path to the script or just the file name."
      ],
      "metadata": {
        "id": "XeaoQdGqefeo"
      }
    },
    {
      "cell_type": "code",
      "source": [
        "import sys\n",
        "print(sys.argv)"
      ],
      "metadata": {
        "colab": {
          "base_uri": "https://localhost:8080/"
        },
        "id": "6gniQnimesVb",
        "outputId": "c845fb53-0daa-4403-a2b3-3f96c27879b6"
      },
      "execution_count": 25,
      "outputs": [
        {
          "output_type": "stream",
          "name": "stdout",
          "text": [
            "['/usr/local/lib/python3.11/dist-packages/colab_kernel_launcher.py', '-f', '/root/.local/share/jupyter/runtime/kernel-be8f88ac-1c8d-4f70-b71e-d0994ca5809b.json']\n"
          ]
        }
      ]
    },
    {
      "cell_type": "markdown",
      "source": [
        "###sys.executable\n",
        "The value of sys.executable is the absolute path to the Python interpreter. This is useful when you are using someone else’s machine and need to know where Python is installed. On some systems, this command will fail and it will return an empty string or None."
      ],
      "metadata": {
        "id": "W80uIv3He1DF"
      }
    },
    {
      "cell_type": "code",
      "source": [
        "import sys\n",
        "print(sys.executable)"
      ],
      "metadata": {
        "colab": {
          "base_uri": "https://localhost:8080/"
        },
        "id": "W_o6FcoUe6Bg",
        "outputId": "c58b9161-140b-4367-d403-5c06564cb0d4"
      },
      "execution_count": 26,
      "outputs": [
        {
          "output_type": "stream",
          "name": "stdout",
          "text": [
            "/usr/bin/python3\n"
          ]
        }
      ]
    },
    {
      "cell_type": "markdown",
      "source": [
        "###sys.exit\n",
        "The sys.exit() function allows the developer to exit from Python. The exit function takes an optional argument, typically an integer, that gives an exit status. Zero is considered a “successful termination”. Be sure to check if your operating system has any special meanings for its exit statuses so that you can follow them in your own application. Note that when you call exit, it will raise the SystemExit exception, which allows cleanup functions to work in the finally clauses of try / except blocks."
      ],
      "metadata": {
        "id": "JUZVIkSefGA9"
      }
    },
    {
      "cell_type": "code",
      "source": [
        "import sys\n",
        "sys.exit(0)"
      ],
      "metadata": {
        "id": "fRmOIABYfM4W"
      },
      "execution_count": null,
      "outputs": []
    },
    {
      "cell_type": "markdown",
      "source": [
        "###sys.path\n",
        "The sys module’s path value is a list of strings that specifies the search path for modules. Basically this tells Python what locations to look in when it tries to import a module. According to the Python documentation, sys.path is initialized from an environment variable called PYTHONPATH, plus an installation-dependent default"
      ],
      "metadata": {
        "id": "Ijmh3K8Vfbjr"
      }
    },
    {
      "cell_type": "code",
      "source": [
        "import sys\n",
        "print(sys.path)"
      ],
      "metadata": {
        "colab": {
          "base_uri": "https://localhost:8080/"
        },
        "id": "zVNVdCvBffHj",
        "outputId": "e9d86fc8-fa96-43ce-d943-84200ddc6550"
      },
      "execution_count": 28,
      "outputs": [
        {
          "output_type": "stream",
          "name": "stdout",
          "text": [
            "['/content', '/env/python', '/usr/lib/python311.zip', '/usr/lib/python3.11', '/usr/lib/python3.11/lib-dynload', '', '/usr/local/lib/python3.11/dist-packages', '/usr/lib/python3/dist-packages', '/usr/local/lib/python3.11/dist-packages/IPython/extensions', '/usr/local/lib/python3.11/dist-packages/setuptools/_vendor', '/root/.ipython']\n"
          ]
        }
      ]
    },
    {
      "cell_type": "markdown",
      "source": [
        "###sys.platform\n",
        "The sys.platform value is a platform identifier. You can use this to append platform specific modules to sys.path, import different modules depending on platform or run different pieces of code"
      ],
      "metadata": {
        "id": "qXi-bPWffqCX"
      }
    },
    {
      "cell_type": "code",
      "source": [
        "import sys\n",
        "print(sys.platform)"
      ],
      "metadata": {
        "colab": {
          "base_uri": "https://localhost:8080/"
        },
        "id": "spzP5nOGftJo",
        "outputId": "285e89a6-f9fb-4f5d-dbeb-9c6a9f30845e"
      },
      "execution_count": 29,
      "outputs": [
        {
          "output_type": "stream",
          "name": "stdout",
          "text": [
            "linux\n"
          ]
        }
      ]
    },
    {
      "cell_type": "markdown",
      "source": [
        "This tells us that Python is running on a Windows machine. Here’s an example of how we might use this information:"
      ],
      "metadata": {
        "id": "W8uCLq0Gf9fZ"
      }
    },
    {
      "cell_type": "code",
      "source": [
        "import sys\n",
        "os = sys.platform\n",
        "if os == \"win32\":\n",
        "    # use Window-related code here\n",
        "    import _winreg\n",
        "elif os.startswith('linux'):\n",
        "    # do something Linux specific\n",
        "    import subprocess\n",
        "    subprocess.Popen([\"ls\", \"-l\"])"
      ],
      "metadata": {
        "id": "fxWXMWLCf0_M"
      },
      "execution_count": 30,
      "outputs": []
    },
    {
      "cell_type": "markdown",
      "source": [
        "sys.stdin / stdout / stderr#\n",
        "The stdin, stdout and stderr map to file objects that correspond to the interpreter’s standard input, output and error streams, respectively. stdin is used for all input given to the interpreter except for scripts whereas stdout is used for the output of print and expression statements"
      ],
      "metadata": {
        "id": "4rihynTegHLu"
      }
    },
    {
      "cell_type": "markdown",
      "source": [
        "##The datetime Module"
      ],
      "metadata": {
        "id": "oSC6vCCng5bI"
      }
    },
    {
      "cell_type": "markdown",
      "source": [
        "###datetime.date\n",
        "Python can represent dates several different ways. We’re going to look at the datetime.date format first as it happens to be one of the simpler date objects."
      ],
      "metadata": {
        "id": "Z__5jUehhFX7"
      }
    },
    {
      "cell_type": "code",
      "source": [
        "import datetime\n",
        "\n",
        "print(datetime.date(2012, 12, 14))"
      ],
      "metadata": {
        "colab": {
          "base_uri": "https://localhost:8080/"
        },
        "id": "QqJWKLr1hLjn",
        "outputId": "078a8f47-f368-43cf-c549-0bb28673d93a"
      },
      "execution_count": 32,
      "outputs": [
        {
          "output_type": "stream",
          "name": "stdout",
          "text": [
            "2012-12-14\n"
          ]
        }
      ]
    },
    {
      "cell_type": "markdown",
      "source": [
        "This code shows how to create a simple date object. The date class accepts three arguments: the year, the month and the day."
      ],
      "metadata": {
        "id": "a9X2zqvChd5g"
      }
    },
    {
      "cell_type": "code",
      "source": [
        "import datetime\n",
        "d = datetime.date(2012, 12, 14)\n",
        "print(d.year)\n",
        "\n",
        "print(d.day)\n",
        "\n",
        "print(d.month)"
      ],
      "metadata": {
        "colab": {
          "base_uri": "https://localhost:8080/"
        },
        "id": "b7L6VFfZhgLn",
        "outputId": "e4a3215d-c9e5-4b04-ebbc-2aba807bfe74"
      },
      "execution_count": 33,
      "outputs": [
        {
          "output_type": "stream",
          "name": "stdout",
          "text": [
            "2012\n",
            "14\n",
            "12\n"
          ]
        }
      ]
    },
    {
      "cell_type": "markdown",
      "source": [
        "Here we assign the date object to the variable d. Now we can access the various date components by name, such as d.year or d.month"
      ],
      "metadata": {
        "id": "XTorS7Zwhr_Z"
      }
    },
    {
      "cell_type": "code",
      "source": [
        "import datetime\n",
        "\n",
        "datetime.date.today()\n",
        "print(datetime.date(2014, 3, 5))"
      ],
      "metadata": {
        "colab": {
          "base_uri": "https://localhost:8080/"
        },
        "id": "zI6UvRqdhrCg",
        "outputId": "0c3841b0-ad4f-4c87-de15-adb812214a7f"
      },
      "execution_count": 34,
      "outputs": [
        {
          "output_type": "stream",
          "name": "stdout",
          "text": [
            "2014-03-05\n"
          ]
        }
      ]
    },
    {
      "cell_type": "code",
      "source": [
        "import datetime\n",
        "\n",
        "print(datetime.datetime(2014, 3, 5))\n",
        "\n",
        "print(datetime.datetime(2014, 3, 5, 12, 30, 10))\n",
        "\n",
        "d = datetime.datetime(2014, 3, 5, 12, 30, 10)\n",
        "print(d.year)\n",
        "\n",
        "print(d.second)\n",
        "\n",
        "print(d.hour)"
      ],
      "metadata": {
        "colab": {
          "base_uri": "https://localhost:8080/"
        },
        "id": "XQiXO-fRh9n6",
        "outputId": "44316c78-3312-4672-d2f5-c1d4cc7fa99e"
      },
      "execution_count": 36,
      "outputs": [
        {
          "output_type": "stream",
          "name": "stdout",
          "text": [
            "2014-03-05 00:00:00\n",
            "2014-03-05 12:30:10\n",
            "2014\n",
            "10\n",
            "12\n"
          ]
        }
      ]
    },
    {
      "cell_type": "markdown",
      "source": [
        "Here we can see that datetime.datetime accepts several additional arguments: year, month, day, hour, minute and second. It also allows you to specify microsecond and timezone information too."
      ],
      "metadata": {
        "id": "9PCSlN2piOEu"
      }
    },
    {
      "cell_type": "code",
      "source": [
        "import datetime\n",
        "\n",
        "print(datetime.datetime.today())\n",
        "\n",
        "\n",
        "print(datetime.datetime.now())"
      ],
      "metadata": {
        "colab": {
          "base_uri": "https://localhost:8080/"
        },
        "id": "845AVSMBiQr8",
        "outputId": "4fc765f3-c8e8-4d57-f3f3-e47b1bf801b5"
      },
      "execution_count": 37,
      "outputs": [
        {
          "output_type": "stream",
          "name": "stdout",
          "text": [
            "2025-06-11 05:49:18.375530\n",
            "2025-06-11 05:49:18.375657\n"
          ]
        }
      ]
    },
    {
      "cell_type": "markdown",
      "source": [
        "The datetime module has another method that you should be aware of called strftime. This method allows the developer to create a string that represents the time in a more human readable format."
      ],
      "metadata": {
        "id": "Jh0LgbM4ibmn"
      }
    },
    {
      "cell_type": "code",
      "source": [
        "import datetime\n",
        "\n",
        "print(datetime.datetime.today().strftime(\"%Y%m%d\"))\n",
        "#20161230\n",
        "\n",
        "today = datetime.datetime.today()\n",
        "print(today.strftime(\"%m/%d/%Y\"))\n",
        "#12/30/2016\n",
        "\n",
        "print(today.strftime(\"%Y-%m-%d-%H.%M.%S\"))"
      ],
      "metadata": {
        "colab": {
          "base_uri": "https://localhost:8080/"
        },
        "id": "y9HgUX4BipRY",
        "outputId": "9a7d0702-d1c5-4bdf-b005-225f3abaf2f5"
      },
      "execution_count": 38,
      "outputs": [
        {
          "output_type": "stream",
          "name": "stdout",
          "text": [
            "20250611\n",
            "06/11/2025\n",
            "2025-06-11-05.50.55\n"
          ]
        }
      ]
    },
    {
      "cell_type": "markdown",
      "source": [
        "###datetime.timedelta\n",
        "The datetime.timedelta object represents a time duration. In other words, it is the difference between two dates or times."
      ],
      "metadata": {
        "id": "qH3Bbsdji02m"
      }
    },
    {
      "cell_type": "code",
      "source": [
        "import datetime\n",
        "\n",
        "now = datetime.datetime.now()\n",
        "print(now)\n",
        "\n",
        "then = datetime.datetime(2014, 2, 26)\n",
        "delta = now - then\n",
        "print(type(delta))\n",
        "\n",
        "print(delta.days)\n",
        "\n",
        "print(delta.seconds)"
      ],
      "metadata": {
        "colab": {
          "base_uri": "https://localhost:8080/"
        },
        "id": "Uw9ovUaPi5sH",
        "outputId": "6df8aaab-a05e-4837-c83a-b45129afb814"
      },
      "execution_count": 39,
      "outputs": [
        {
          "output_type": "stream",
          "name": "stdout",
          "text": [
            "2025-06-11 05:52:11.997363\n",
            "<class 'datetime.timedelta'>\n",
            "4123\n",
            "21131\n"
          ]
        }
      ]
    },
    {
      "cell_type": "markdown",
      "source": [
        "We create two datetime objects here. One for today and one for a week ago. Then we take the difference between them. This returns a timedelta object which we can then use to find out the number of days or seconds between the two dates. If you need to know the number of hours or minutes between the two, you’ll have to use some math to figure it out. Here’s one way to do it:"
      ],
      "metadata": {
        "id": "Mxx1A_qOjL9i"
      }
    },
    {
      "cell_type": "code",
      "source": [
        "import datetime\n",
        "\n",
        "now = datetime.datetime.now()\n",
        "then = datetime.datetime(2014, 2, 26)\n",
        "delta = now - then\n",
        "\n",
        "seconds = delta.total_seconds()\n",
        "hours = seconds // 3600\n",
        "print(hours)\n",
        "\n",
        "minutes = (seconds % 3600) // 60\n",
        "print(minutes)"
      ],
      "metadata": {
        "colab": {
          "base_uri": "https://localhost:8080/"
        },
        "id": "Z09hl_fzjORF",
        "outputId": "e96aae19-0641-4fce-fcbc-5611fdb855bd"
      },
      "execution_count": 41,
      "outputs": [
        {
          "output_type": "stream",
          "name": "stdout",
          "text": [
            "98957.0\n",
            "53.0\n"
          ]
        }
      ]
    },
    {
      "cell_type": "markdown",
      "source": [
        "###The time Module"
      ],
      "metadata": {
        "id": "hUlYAf8o7rO5"
      }
    },
    {
      "cell_type": "markdown",
      "source": [
        "The time module provides the Python developer access to various time-related functions. The time module is based around what it known as an epoch, the point when time starts. For Unix systems, the epoch was in 1970. To find out what the epoch is on your system,"
      ],
      "metadata": {
        "id": "qC12ulhB8MLb"
      }
    },
    {
      "cell_type": "code",
      "source": [
        "import time\n",
        "print(time.gmtime(0))"
      ],
      "metadata": {
        "colab": {
          "base_uri": "https://localhost:8080/"
        },
        "id": "nTJT07888Odr",
        "outputId": "c57bd643-e85f-4cc4-ef71-5ab6f3e50f2b"
      },
      "execution_count": 43,
      "outputs": [
        {
          "output_type": "stream",
          "name": "stdout",
          "text": [
            "time.struct_time(tm_year=1970, tm_mon=1, tm_mday=1, tm_hour=0, tm_min=0, tm_sec=0, tm_wday=3, tm_yday=1, tm_isdst=0)\n"
          ]
        }
      ]
    },
    {
      "cell_type": "markdown",
      "source": [
        "###time.ctime\n",
        "The time.ctime function will convert a time in seconds since the epoch to a string representing local time. If you don’t pass it anything, then the current time is returned."
      ],
      "metadata": {
        "id": "hWUf_aOd9rfG"
      }
    },
    {
      "cell_type": "code",
      "source": [
        "import time\n",
        "print(time.ctime())\n",
        "\n",
        "print(time.ctime(1384112639))"
      ],
      "metadata": {
        "colab": {
          "base_uri": "https://localhost:8080/"
        },
        "id": "EUx6plGi9v-e",
        "outputId": "b90dbcd0-801f-4444-a9d7-f3452baabade"
      },
      "execution_count": 44,
      "outputs": [
        {
          "output_type": "stream",
          "name": "stdout",
          "text": [
            "Wed Jun 11 07:49:25 2025\n",
            "Sun Nov 10 19:43:59 2013\n"
          ]
        }
      ]
    },
    {
      "cell_type": "markdown",
      "source": [
        "###time.sleep\n",
        "The time.sleep function gives the developer the ability to suspend execution of your script a given number of seconds. It’s like adding a pause to your program. I have found this personally useful when I need to wait a second for a file to finish closing or a database commit to finish committing."
      ],
      "metadata": {
        "id": "FR3mdhx-NnJb"
      }
    },
    {
      "cell_type": "code",
      "source": [
        "import time\n",
        "\n",
        "for x in range(5):\n",
        "    time.sleep(2)\n",
        "    print(\"%s: Slept for 2 seconds\" % time.ctime())"
      ],
      "metadata": {
        "colab": {
          "base_uri": "https://localhost:8080/"
        },
        "id": "pN0sz0BqNqyf",
        "outputId": "e270d0d8-d42a-46dc-b2db-bb796b82eec9"
      },
      "execution_count": 45,
      "outputs": [
        {
          "output_type": "stream",
          "name": "stdout",
          "text": [
            "Wed Jun 11 08:58:55 2025: Slept for 2 seconds\n",
            "Wed Jun 11 08:58:57 2025: Slept for 2 seconds\n",
            "Wed Jun 11 08:58:59 2025: Slept for 2 seconds\n",
            "Wed Jun 11 08:59:01 2025: Slept for 2 seconds\n",
            "Wed Jun 11 08:59:03 2025: Slept for 2 seconds\n"
          ]
        }
      ]
    },
    {
      "cell_type": "markdown",
      "source": [
        "###time.strftime\n",
        "The time module has a strftime function that works in pretty much the same manner as the datetime version. The difference is mainly in what it accepts for input: a tuple or a struct_time object, like those that are returned when you call time.gmtime() or time.localtime()."
      ],
      "metadata": {
        "id": "6fsY6gKWOAtC"
      }
    },
    {
      "cell_type": "code",
      "source": [
        "import time\n",
        "\n",
        "print(time.strftime(\"%Y-%m-%d-%H.%M.%S\",time.localtime()))"
      ],
      "metadata": {
        "colab": {
          "base_uri": "https://localhost:8080/"
        },
        "id": "GLN3bLnTOGBt",
        "outputId": "d5eda52c-b0be-48f3-d087-d1cca47879e3"
      },
      "execution_count": 46,
      "outputs": [
        {
          "output_type": "stream",
          "name": "stdout",
          "text": [
            "2025-06-11-09.01.03\n"
          ]
        }
      ]
    },
    {
      "cell_type": "markdown",
      "source": [
        "###time.time\n",
        "The time.time function will return the time in seconds since the epoch as a floating point number."
      ],
      "metadata": {
        "id": "sT9lI9dUO6i0"
      }
    },
    {
      "cell_type": "code",
      "source": [
        "import time\n",
        "\n",
        "print(time.time())"
      ],
      "metadata": {
        "colab": {
          "base_uri": "https://localhost:8080/"
        },
        "id": "xyFPVZRMO-mz",
        "outputId": "587bba9b-aed1-486d-e2ec-1f335ea0d1ba"
      },
      "execution_count": 47,
      "outputs": [
        {
          "output_type": "stream",
          "name": "stdout",
          "text": [
            "1749632676.7788093\n"
          ]
        }
      ]
    },
    {
      "cell_type": "markdown",
      "source": [
        "That was pretty simple. You could use this when you want to save the current time to a database but you didn’t want to bother converting it to the database’s datetime method. You might also recall that the ctime method accepts the time in seconds, so we could use time.time to get the number of seconds to pass to ctime,"
      ],
      "metadata": {
        "id": "07PHb-YpPRbM"
      }
    },
    {
      "cell_type": "code",
      "source": [
        "import time\n",
        "\n",
        "print(time.ctime(time.time()))"
      ],
      "metadata": {
        "colab": {
          "base_uri": "https://localhost:8080/"
        },
        "id": "ARzFh_J5PUKP",
        "outputId": "268907b3-9783-46cc-90b7-0a5cac22f4fc"
      },
      "execution_count": 48,
      "outputs": [
        {
          "output_type": "stream",
          "name": "stdout",
          "text": [
            "Wed Jun 11 09:06:05 2025\n"
          ]
        }
      ]
    },
    {
      "cell_type": "markdown",
      "source": [
        "###Debugger module in Python"
      ],
      "metadata": {
        "id": "aLYrdEq3QMSh"
      }
    },
    {
      "cell_type": "markdown",
      "source": [
        "Let’s start by creating a quick piece of code to attempt debugging with."
      ],
      "metadata": {
        "id": "ZfpQV-C1QbBq"
      }
    },
    {
      "cell_type": "code",
      "source": [
        "# debug_test.py\n",
        "\n",
        "def doubler(a):\n",
        "    \"\"\"\"\"\"\n",
        "    result = a*2\n",
        "    print(result)\n",
        "    return result\n",
        "\n",
        "def main():\n",
        "    \"\"\"\"\"\"\n",
        "    for i in range(1,10):\n",
        "        doubler(i)\n",
        "\n",
        "if __name__ == \"__main__\":\n",
        "    main()"
      ],
      "metadata": {
        "colab": {
          "base_uri": "https://localhost:8080/"
        },
        "id": "NXW56tfgQmE1",
        "outputId": "f4803775-1abb-43cf-a98e-96f8372464c3"
      },
      "execution_count": 49,
      "outputs": [
        {
          "output_type": "stream",
          "name": "stdout",
          "text": [
            "2\n",
            "4\n",
            "6\n",
            "8\n",
            "10\n",
            "12\n",
            "14\n",
            "16\n",
            "18\n"
          ]
        }
      ]
    },
    {
      "cell_type": "markdown",
      "source": [
        "###Decorators"
      ],
      "metadata": {
        "id": "Z3bu1XfvRtxa"
      }
    },
    {
      "cell_type": "markdown",
      "source": [
        "A decorator in Python is a function that accepts another function as an argument.The decorator will usually modify or enhance the function it accepted and return the modified function. This means that when you call a decorated function, you will get a function that may be a little different that may have additional features compared with the base definition."
      ],
      "metadata": {
        "id": "I86hAnyMR1Q3"
      }
    },
    {
      "cell_type": "markdown",
      "source": [
        "A function is a block of code that begins with the Python keyword def followed by the actual name of the function. A function can accept zero or more arguments, keyword arguments or a mixture of the two. A function always returns something. If you do not specify what a function should return, it will return None."
      ],
      "metadata": {
        "id": "h9nOCCoBSQyZ"
      }
    },
    {
      "cell_type": "code",
      "source": [
        "def a_function():\n",
        "    \"\"\"A pretty useless function\"\"\"\n",
        "    return \"1+1\"\n",
        "\n",
        "if __name__ == \"__main__\":\n",
        "    value = a_function()\n",
        "    print(value)"
      ],
      "metadata": {
        "colab": {
          "base_uri": "https://localhost:8080/"
        },
        "id": "Ip22gqBaSTok",
        "outputId": "8cbd72c6-4356-458f-c034-3cab29c9bce6"
      },
      "execution_count": 51,
      "outputs": [
        {
          "output_type": "stream",
          "name": "stdout",
          "text": [
            "1+1\n"
          ]
        }
      ]
    },
    {
      "cell_type": "code",
      "source": [
        "def another_function(func):\n",
        "    \"\"\"\n",
        "    A function that accepts another function\n",
        "    \"\"\"\n",
        "    def other_func():\n",
        "        val = \"The result of %s is %s\" % (func(),\n",
        "                                          eval(func())\n",
        "                                          )\n",
        "        return val\n",
        "    return other_func"
      ],
      "metadata": {
        "id": "C0EI-qM4SeaL"
      },
      "execution_count": 52,
      "outputs": []
    },
    {
      "cell_type": "markdown",
      "source": [
        "This function accepts one argument and that argument has to be a function or callable. In fact, it really should only be called using the previously defined function. You will note that this function has a nested function inside of it that we are calling other_func."
      ],
      "metadata": {
        "id": "SF7U3jvSSqKR"
      }
    },
    {
      "cell_type": "code",
      "source": [
        "def another_function(func):\n",
        "    \"\"\"\n",
        "    A function that accepts another function\n",
        "    \"\"\"\n",
        "\n",
        "    def other_func():\n",
        "        val = \"The result of %s is %s\" % (func(),\n",
        "                                          eval(func())\n",
        "                                          )\n",
        "        return val\n",
        "    return other_func\n",
        "\n",
        "\n",
        "def a_function():\n",
        "    \"\"\"A pretty useless function\"\"\"\n",
        "    return \"1+1\"\n",
        "\n",
        "if __name__ == \"__main__\":\n",
        "    value = a_function()\n",
        "    print(value)\n",
        "    decorator = another_function(a_function)\n",
        "    print(decorator())"
      ],
      "metadata": {
        "colab": {
          "base_uri": "https://localhost:8080/"
        },
        "id": "se-N9wY0StQn",
        "outputId": "3590709b-74d3-461d-ce1d-b97c57391f5f"
      },
      "execution_count": 55,
      "outputs": [
        {
          "output_type": "stream",
          "name": "stdout",
          "text": [
            "1+1\n",
            "The result of 1+1 is 2\n"
          ]
        }
      ]
    },
    {
      "cell_type": "code",
      "source": [
        "# Let’s change the code slightly to turn another_function into a decorator:\n",
        "\n",
        "def another_function(func):\n",
        "    \"\"\"\n",
        "    A function that accepts another function\n",
        "    \"\"\"\n",
        "\n",
        "    def other_func():\n",
        "        val = \"The result of %s is %s\" % (func(),\n",
        "                                          eval(func())\n",
        "                                          )\n",
        "        return val\n",
        "    return other_func\n",
        "\n",
        "@another_function\n",
        "def a_function():\n",
        "    \"\"\"A pretty useless function\"\"\"\n",
        "    return \"1+1\"\n",
        "\n",
        "if __name__ == \"__main__\":\n",
        "    value = a_function()\n",
        "    print(value)"
      ],
      "metadata": {
        "colab": {
          "base_uri": "https://localhost:8080/"
        },
        "id": "hemqPDmzS96d",
        "outputId": "9507cde1-3cac-4d8d-f3f8-714046527780"
      },
      "execution_count": 56,
      "outputs": [
        {
          "output_type": "stream",
          "name": "stdout",
          "text": [
            "The result of 1+1 is 2\n"
          ]
        }
      ]
    },
    {
      "cell_type": "markdown",
      "source": [
        "The <*@staticmethod>* decorator is just a function inside of a class. You can call it both with and without instantiating the class."
      ],
      "metadata": {
        "id": "pgGPYHTST78r"
      }
    },
    {
      "cell_type": "code",
      "source": [
        "class DecoratorTest(object):\n",
        "    \"\"\"\n",
        "    Test regular method vs @classmethod vs @staticmethod\n",
        "    \"\"\"\n",
        "\n",
        "    def __init__(self):\n",
        "        \"\"\"Constructor\"\"\"\n",
        "        pass\n",
        "\n",
        "    def doubler(self, x):\n",
        "        \"\"\"\"\"\"\n",
        "        print(\"running doubler\")\n",
        "        return x*2\n",
        "\n",
        "    @classmethod\n",
        "    def class_tripler(klass, x):\n",
        "        \"\"\"\"\"\"\n",
        "        print(\"running tripler: %s\" % klass)\n",
        "        return x*3\n",
        "\n",
        "    @staticmethod\n",
        "    def static_quad(x):\n",
        "        \"\"\"\"\"\"\n",
        "        print(\"running quad\")\n",
        "        return x*4\n",
        "\n",
        "if __name__ == \"__main__\":\n",
        "    decor = DecoratorTest()\n",
        "    print(decor.doubler(5))\n",
        "    print(decor.class_tripler(3))\n",
        "    print(DecoratorTest.class_tripler(3))\n",
        "    print(DecoratorTest.static_quad(2))\n",
        "    print(decor.static_quad(3))\n",
        "\n",
        "    print(decor.doubler)\n",
        "    print(decor.class_tripler)\n",
        "    print(decor.static_quad)"
      ],
      "metadata": {
        "colab": {
          "base_uri": "https://localhost:8080/"
        },
        "id": "F9ug_FwnUKT0",
        "outputId": "059de378-ebe3-4df6-f957-f41fc7c21fc5"
      },
      "execution_count": 57,
      "outputs": [
        {
          "output_type": "stream",
          "name": "stdout",
          "text": [
            "running doubler\n",
            "10\n",
            "running tripler: <class '__main__.DecoratorTest'>\n",
            "9\n",
            "running tripler: <class '__main__.DecoratorTest'>\n",
            "9\n",
            "running quad\n",
            "8\n",
            "running quad\n",
            "12\n",
            "<bound method DecoratorTest.doubler of <__main__.DecoratorTest object at 0x7a160d237510>>\n",
            "<bound method DecoratorTest.class_tripler of <class '__main__.DecoratorTest'>>\n",
            "<function DecoratorTest.static_quad at 0x7a160c80af20>\n"
          ]
        }
      ]
    },
    {
      "cell_type": "markdown",
      "source": [
        "###Python Properties\n",
        "Python has a neat little concept called a property that can do several useful things. We will be looking into how to do the following:\n",
        "\n",
        "*   Convert class methods into read-only attributes\n",
        "*   Reimplement setters and getters into an attribute\n",
        "\n"
      ],
      "metadata": {
        "id": "qv8A3QmAURoH"
      }
    },
    {
      "cell_type": "markdown",
      "source": [
        "One of the simplest ways to use a property is to use it as a decorator of a method. This allows you to turn a class method into a class attribute. I find this useful when I need to do some kind of combination of values. Others have found it useful for writing conversion methods that they want to have access to as methods."
      ],
      "metadata": {
        "id": "t2GWfxFPUjs-"
      }
    },
    {
      "cell_type": "code",
      "source": [
        "class Person(object):\n",
        "    \"\"\"\"\"\"\n",
        "\n",
        "    def __init__(self, first_name, last_name):\n",
        "        \"\"\"Constructor\"\"\"\n",
        "        self.first_name = first_name\n",
        "        self.last_name = last_name\n",
        "\n",
        "    @property\n",
        "    def full_name(self):\n",
        "        \"\"\"\n",
        "        Return the full name\n",
        "        \"\"\"\n",
        "        return \"%s %s\" % (self.first_name, self.last_name)"
      ],
      "metadata": {
        "id": "XLSabXp9UmXH"
      },
      "execution_count": 58,
      "outputs": []
    },
    {
      "cell_type": "markdown",
      "source": [
        "##Lambda statement in Python"
      ],
      "metadata": {
        "id": "ZrICQHS6VxoC"
      }
    },
    {
      "cell_type": "markdown",
      "source": [
        "The Python lambda statement is an anonymous or unbound function and a pretty limited function at that. Let’s take a look at a few typical examples and see if we can find a use case for it. The typical examples that one normally sees for teaching the lambda are some sort of boring doubling function."
      ],
      "metadata": {
        "id": "RL_NelS5XTX6"
      }
    },
    {
      "cell_type": "code",
      "source": [
        "import math\n",
        "\n",
        "def sqroot(x):\n",
        "    \"\"\"\n",
        "    Finds the square root of the number passed in\n",
        "    \"\"\"\n",
        "    return math.sqrt(x)\n",
        "\n",
        "square_rt = lambda x: math.sqrt(x)\n",
        "print(square_rt)\n",
        "\n",
        "print(sqroot)\n",
        "print(sqroot(49))\n",
        "\n",
        "print(square_rt(64))"
      ],
      "metadata": {
        "colab": {
          "base_uri": "https://localhost:8080/"
        },
        "id": "-L7Id-tTXXM-",
        "outputId": "53178a3b-c8cf-43e5-d00a-768a0b9b2f5d"
      },
      "execution_count": 62,
      "outputs": [
        {
          "output_type": "stream",
          "name": "stdout",
          "text": [
            "<function <lambda> at 0x7a15d5041ee0>\n",
            "<function sqroot at 0x7a15d5041da0>\n",
            "7.0\n",
            "8.0\n"
          ]
        }
      ]
    },
    {
      "cell_type": "markdown",
      "source": [
        "###Introduction to Code Profiling\n",
        "Code profiling is an attempt to find bottlenecks in your code. Profiling is supposed to find what parts of your code take the longest. Once you know that, then you can look at those pieces of your code and try to find ways to optimize it. Python comes with three profilers built in: cProfile, profile and hotshot. According to the Python documentation, hotshot is “no longer maintained and may be dropped in a future version of Python”. The profile module is a pure Python module, but adds a lot of overhead to profiled programs. Thus we will be focusing on cProfile, which has an interface that mimics the profile module."
      ],
      "metadata": {
        "id": "_UNQLnXWYlnB"
      }
    },
    {
      "cell_type": "markdown",
      "source": [
        "####Profiling Your Code with cProfile\n",
        "Profiling code with cProfile is really quite easy. All you need to do is import the module and call its run function"
      ],
      "metadata": {
        "id": "H4CqW4BkYtxl"
      }
    },
    {
      "cell_type": "code",
      "source": [
        "import hashlib\n",
        "import cProfile\n",
        "cProfile.run(\"hashlib.md5(b'abcdefghijkl').digest()\")"
      ],
      "metadata": {
        "colab": {
          "base_uri": "https://localhost:8080/"
        },
        "id": "ltTwqjAgYyKU",
        "outputId": "c99cdbff-17cd-425b-ea00-2d7b2be955ae"
      },
      "execution_count": 64,
      "outputs": [
        {
          "output_type": "stream",
          "name": "stdout",
          "text": [
            "         5 function calls in 0.000 seconds\n",
            "\n",
            "   Ordered by: standard name\n",
            "\n",
            "   ncalls  tottime  percall  cumtime  percall filename:lineno(function)\n",
            "        1    0.000    0.000    0.000    0.000 <string>:1(<module>)\n",
            "        1    0.000    0.000    0.000    0.000 {built-in method _hashlib.openssl_md5}\n",
            "        1    0.000    0.000    0.000    0.000 {built-in method builtins.exec}\n",
            "        1    0.000    0.000    0.000    0.000 {method 'digest' of '_hashlib.HASH' objects}\n",
            "        1    0.000    0.000    0.000    0.000 {method 'disable' of '_lsprof.Profiler' objects}\n",
            "\n",
            "\n"
          ]
        }
      ]
    },
    {
      "cell_type": "markdown",
      "source": [
        "Here we import the hashlib module and use cProfile to profile the creation of an MD5 hash. The first line shows that there were 4 function calls. The next line tells us how the results are ordered. According to the documentation, standard name refers to the far right column."
      ],
      "metadata": {
        "id": "IufFC_IjZJA-"
      }
    },
    {
      "cell_type": "markdown",
      "source": [
        "\n",
        "\n",
        "*   ncalls is the number of calls made.\n",
        "\n",
        "*   tottime is a total of the time spent in the given function.\n",
        "*   percall refers to the quotient of tottime divided by ncalls\n",
        "\n",
        "*   cumtime is the cumulative time spent in this and all subfunctions. It’s even accurate for recursive functions!\n",
        "*   The second percall column is the quotient of cumtime divided by primitive calls\n",
        "\n",
        "\n",
        "\n",
        "\n",
        "\n",
        "\n",
        "\n",
        "\n",
        "\n",
        "*   filename:lineno(function) provides the respective data of each function\n",
        "\n"
      ],
      "metadata": {
        "id": "Q20FahRsZMr6"
      }
    },
    {
      "cell_type": "code",
      "source": [
        "import time\n",
        "\n",
        "def fast():\n",
        "    \"\"\"\"\"\"\n",
        "    print(\"I run fast!\")\n",
        "\n",
        "def slow():\n",
        "    \"\"\"\"\"\"\n",
        "    time.sleep(3)\n",
        "    print(\"I run slow!\")\n",
        "\n",
        "def medium():\n",
        "    \"\"\"\"\"\"\n",
        "    time.sleep(0.5)\n",
        "    print(\"I run a little slowly...\")\n",
        "\n",
        "def main():\n",
        "    \"\"\"\"\"\"\n",
        "    fast()\n",
        "    slow()\n",
        "    medium()\n",
        "\n",
        "if __name__ == '__main__':\n",
        "    main()\n"
      ],
      "metadata": {
        "colab": {
          "base_uri": "https://localhost:8080/"
        },
        "id": "ZkCWeRbyZuFU",
        "outputId": "832a357b-6b47-4c5d-850e-8d50ddfca9e2"
      },
      "execution_count": 66,
      "outputs": [
        {
          "output_type": "stream",
          "name": "stdout",
          "text": [
            "I run fast!\n",
            "I run slow!\n",
            "I run a little slowly...\n"
          ]
        }
      ]
    },
    {
      "cell_type": "markdown",
      "source": [
        "##An Intro to Testing"
      ],
      "metadata": {
        "id": "dqm2JjRGae0E"
      }
    },
    {
      "cell_type": "markdown",
      "source": [
        "###doctest and unittest\n",
        "Python includes a couple of built-in modules for testing your code. They two methods are called doctest and unittest."
      ],
      "metadata": {
        "id": "VIClkxMBaiMH"
      }
    },
    {
      "cell_type": "markdown",
      "source": [
        "####Testing with doctest\n",
        "The doctest module will search for pieces of text in your code that resemble interactive Python sessions. It will then execute those sessions to verify that they work exactly as written. This means that if you wrote an example in a docstring that showed the output with a trailing space or tab, then the actual output of the function has to have that trailing whitespace too. Most of the time, the docstring is where you will want to put your tests."
      ],
      "metadata": {
        "id": "rmxsqDCSbbm0"
      }
    },
    {
      "cell_type": "markdown",
      "source": [
        "Running doctest via the Terminal\n",
        "\n",
        "\n",
        "We will start by creating a really simple function that will double whatever is given to it. We will include a couple of tests inside the function’s docstring."
      ],
      "metadata": {
        "id": "IEaiCkR1boQ2"
      }
    },
    {
      "cell_type": "code",
      "source": [
        "# dtest1.py\n",
        "\n",
        "def double(a):\n",
        "    \"\"\"\n",
        "    >>> double(4)\n",
        "    8\n",
        "    >>> double(9)\n",
        "    18\n",
        "    \"\"\"\n",
        "    return a*2"
      ],
      "metadata": {
        "id": "RmE2X_qNbhLL"
      },
      "execution_count": 68,
      "outputs": []
    },
    {
      "cell_type": "markdown",
      "source": [
        "Running doctest Inside a Module\n",
        "\n",
        "\n",
        "Let’s modify the example slightly so that we import the doctest module and use its testmod function"
      ],
      "metadata": {
        "id": "jyDeTBj-b3Am"
      }
    },
    {
      "cell_type": "code",
      "source": [
        "def double(a):\n",
        "    \"\"\"\n",
        "    >>> double(4)\n",
        "    8\n",
        "    >>> double(9)\n",
        "    18\n",
        "    \"\"\"\n",
        "    return a*2\n",
        "\n",
        "if __name__ == \"__main__\":\n",
        "    import doctest\n",
        "    doctest.testmod(verbose=True)"
      ],
      "metadata": {
        "colab": {
          "base_uri": "https://localhost:8080/"
        },
        "id": "e8ITvOKwbwqZ",
        "outputId": "385a7b84-142e-4ab4-ede5-9dee4d0ee680"
      },
      "execution_count": 69,
      "outputs": [
        {
          "output_type": "stream",
          "name": "stderr",
          "text": [
            "\n",
            "PYDEV DEBUGGER WARNING:\n",
            "sys.settrace() should not be used when the debugger is being used.\n",
            "This may cause the debugger to stop working correctly.\n",
            "If this is needed, please check: \n",
            "http://pydev.blogspot.com/2007/06/why-cant-pydev-debugger-work-with.html\n",
            "to see how to restore the debug tracing back correctly.\n",
            "Call Location:\n",
            "  File \"/usr/lib/python3.11/doctest.py\", line 1523, in run\n",
            "    sys.settrace(save_trace)\n",
            "\n"
          ]
        },
        {
          "output_type": "stream",
          "name": "stdout",
          "text": [
            "Trying:\n",
            "    double(4)\n",
            "Expecting:\n",
            "    8\n",
            "ok\n",
            "Trying:\n",
            "    double(9)\n",
            "Expecting:\n",
            "    18\n",
            "ok\n",
            "25 items had no tests:\n",
            "    __main__\n",
            "    __main__.App\n",
            "    __main__.App.__init__\n",
            "    __main__.App.printNum\n",
            "    __main__.DecoratorTest\n",
            "    __main__.DecoratorTest.__init__\n",
            "    __main__.DecoratorTest.class_tripler\n",
            "    __main__.DecoratorTest.doubler\n",
            "    __main__.DecoratorTest.static_quad\n",
            "    __main__.Person\n",
            "    __main__.Person.__init__\n",
            "    __main__.Person.full_name\n",
            "    __main__.a_function\n",
            "    __main__.another_function\n",
            "    __main__.createConfig\n",
            "    __main__.crudConfig\n",
            "    __main__.decorator\n",
            "    __main__.doubler\n",
            "    __main__.fast\n",
            "    __main__.interpolationDemo\n",
            "    __main__.main\n",
            "    __main__.medium\n",
            "    __main__.slow\n",
            "    __main__.sqroot\n",
            "    __main__.square_rt\n",
            "1 items passed all tests:\n",
            "   2 tests in __main__.double\n",
            "2 tests in 26 items.\n",
            "2 passed and 0 failed.\n",
            "Test passed.\n"
          ]
        }
      ]
    },
    {
      "cell_type": "markdown",
      "source": [
        "Running doctest From a Separate File\n",
        "\n",
        "\n",
        "The doctest module also supports putting the testing into a separate file. This allows us to separate the tests from the code."
      ],
      "metadata": {
        "id": "iBvJzoN9cCT5"
      }
    },
    {
      "cell_type": "code",
      "source": [
        "#The following are tests for dtest2.py\n",
        "\n",
        "print(double(4))\n",
        "\n",
        "print(double(9))"
      ],
      "metadata": {
        "colab": {
          "base_uri": "https://localhost:8080/"
        },
        "id": "A-S4HJKhcGEG",
        "outputId": "5cabe89f-811d-45de-a869-478490eb0c9d"
      },
      "execution_count": 70,
      "outputs": [
        {
          "output_type": "stream",
          "name": "stdout",
          "text": [
            "8\n",
            "18\n"
          ]
        }
      ]
    },
    {
      "cell_type": "markdown",
      "source": [
        "###Test Driven Development with unittest"
      ],
      "metadata": {
        "id": "7IfICCEAcnes"
      }
    },
    {
      "cell_type": "markdown",
      "source": [
        "The First Test\n",
        "\n",
        "\n",
        "Our first test will be to test our game object and see if it can calculate the correct total if we roll eleven times and only knock over one pin each time. This should give us a total of eleven."
      ],
      "metadata": {
        "id": "nBlKaOuLcnUG"
      }
    },
    {
      "cell_type": "code",
      "source": [
        "import unittest\n",
        "\n",
        "class TestBowling(unittest.TestCase):\n",
        "    \"\"\"\"\"\"\n",
        "\n",
        "    def test_all_ones(self):\n",
        "        \"\"\"Constructor\"\"\"\n",
        "        game = Game()\n",
        "        game.roll(11, 1)\n",
        "        self.assertEqual(game.score, 11)"
      ],
      "metadata": {
        "id": "2LKA1Rmich7j"
      },
      "execution_count": 71,
      "outputs": []
    },
    {
      "cell_type": "markdown",
      "source": [
        "We create a game object and then call its roll method eleven times with a score of one each time. Then we use the assertEqual method from the unittest module to test if the game object’s score is correct (i.e. eleven). The next step is to write the simplest code you can think of to make the test pass."
      ],
      "metadata": {
        "id": "FCkjPxDfdD4n"
      }
    },
    {
      "cell_type": "code",
      "source": [
        "class Game:\n",
        "    \"\"\"\"\"\"\n",
        "\n",
        "    def __init__(self):\n",
        "        \"\"\"Constructor\"\"\"\n",
        "        self.score = 0\n",
        "\n",
        "    def roll(self, numOfRolls, pins):\n",
        "        \"\"\"\"\"\"\n",
        "        for roll in numOfRolls:\n",
        "            self.score += pins"
      ],
      "metadata": {
        "id": "t8dMLGkZdHYK"
      },
      "execution_count": 72,
      "outputs": []
    },
    {
      "cell_type": "markdown",
      "source": [
        "Let’s run the test and see if it passes! The easiest way to run the tests is to add the following two lines of code to the bottom of the file:"
      ],
      "metadata": {
        "id": "g2axQhcxdGlu"
      }
    },
    {
      "cell_type": "code",
      "source": [
        "if __name__ == '__main__':\n",
        "    unittest.main()"
      ],
      "metadata": {
        "id": "XFCLtxNOddoL"
      },
      "execution_count": null,
      "outputs": []
    },
    {
      "cell_type": "markdown",
      "source": [
        "Oops! We’ve got a mistake in there somewhere. It looks like we’re passing an Integer and then trying to iterate over it. That doesn’t work! We need to change our Game object’s roll method to the following to make it work:"
      ],
      "metadata": {
        "id": "lj8KdUODdh6H"
      }
    },
    {
      "cell_type": "code",
      "source": [
        "def roll(self, numOfRolls, pins):\n",
        "    \"\"\"\"\"\"\n",
        "    for roll in range(numOfRolls):\n",
        "        self.score += pins"
      ],
      "metadata": {
        "id": "xKZlRoqXdltS"
      },
      "execution_count": 74,
      "outputs": []
    }
  ]
}