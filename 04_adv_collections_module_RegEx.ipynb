{
  "nbformat": 4,
  "nbformat_minor": 0,
  "metadata": {
    "colab": {
      "provenance": [],
      "authorship_tag": "ABX9TyOEPAZoUKJCxpqVcH1Ry40p",
      "include_colab_link": true
    },
    "kernelspec": {
      "name": "python3",
      "display_name": "Python 3"
    },
    "language_info": {
      "name": "python"
    }
  },
  "cells": [
    {
      "cell_type": "markdown",
      "metadata": {
        "id": "view-in-github",
        "colab_type": "text"
      },
      "source": [
        "<a href=\"https://colab.research.google.com/github/Sindhuhar/code_python/blob/main/04_adv_collections_module_RegEx.ipynb\" target=\"_parent\"><img src=\"https://colab.research.google.com/assets/colab-badge.svg\" alt=\"Open In Colab\"/></a>"
      ]
    },
    {
      "cell_type": "markdown",
      "source": [
        "##Collections Module in Python\n",
        "\n",
        "Python’s collections module has specialized container datatypes that can be used to replace Python’s general-purpose containers (dict, tuple, list, and set)."
      ],
      "metadata": {
        "id": "mjWokveHz6Dw"
      }
    },
    {
      "cell_type": "markdown",
      "source": [
        "###Overview of ChainMap\n",
        "A ChainMap is a class that provides the ability to link multiple mappings together such that they end up being a single unit. If we look at the example below, we will notice that it accepts maps, which means that a ChainMap will accept any number of mappings or dictionaries and turn them into a single view that we can update."
      ],
      "metadata": {
        "id": "scDLiZyJ0J3v"
      }
    },
    {
      "cell_type": "code",
      "source": [
        "from collections import ChainMap\n",
        "\n",
        "car_parts = {\"hood\": 500, \"engine\": 5000, \"front_door\": 750}\n",
        "car_options = {\"A/C\": 1000, \"Turbo\": 2500, \"rollbar\": 300}\n",
        "car_accessories = {\"cover\": 100, \"hood_ornament\": 150, \"seat_cover\": 99}\n",
        "car_pricing = ChainMap(car_accessories, car_options, car_parts)\n",
        "print(car_pricing[\"hood\"])"
      ],
      "metadata": {
        "colab": {
          "base_uri": "https://localhost:8080/"
        },
        "id": "Z8uGHLBO0MLl",
        "outputId": "2c95a8bd-3cf8-4344-9ce7-deff26b13fd5"
      },
      "execution_count": 1,
      "outputs": [
        {
          "output_type": "stream",
          "name": "stdout",
          "text": [
            "500\n"
          ]
        }
      ]
    },
    {
      "cell_type": "markdown",
      "source": [
        "###Counter\n",
        "\n",
        "The collections module also provides us with a neat little tool that supports convenient and fast tallies. This tool is called Counter."
      ],
      "metadata": {
        "id": "yogBFITCI9vq"
      }
    },
    {
      "cell_type": "code",
      "source": [
        "from collections import Counter\n",
        "\n",
        "print(Counter(\"superfluous\"))\n",
        "\n",
        "\n",
        "counter = Counter(\"superfluous\")\n",
        "print(counter[\"u\"])"
      ],
      "metadata": {
        "colab": {
          "base_uri": "https://localhost:8080/"
        },
        "id": "mEh_PLCSJhll",
        "outputId": "1ebd685a-c8bf-48ac-bcbd-8d5ae9b8d309"
      },
      "execution_count": 3,
      "outputs": [
        {
          "output_type": "stream",
          "name": "stdout",
          "text": [
            "Counter({'u': 3, 's': 2, 'p': 1, 'e': 1, 'r': 1, 'f': 1, 'l': 1, 'o': 1})\n",
            "3\n"
          ]
        }
      ]
    },
    {
      "cell_type": "markdown",
      "source": [
        "###Simple example of counter.elements()\n",
        "The Counter provides a few methods that might be of our interest. For example, we can call elements which will be an iterator over the elements that are in the dictionary, but in an arbitrary order. We can kind of think of this function as a “scrambler” as the output in this case is a scrambled version of the string."
      ],
      "metadata": {
        "id": "eEXCvJdbJ4Ct"
      }
    },
    {
      "cell_type": "code",
      "source": [
        "from collections import Counter\n",
        "\n",
        "Counter(\"superfluous\")\n",
        "counter = Counter(\"superfluous\")\n",
        "print(list(counter.elements()))"
      ],
      "metadata": {
        "colab": {
          "base_uri": "https://localhost:8080/"
        },
        "id": "JvshvPG-J9Cq",
        "outputId": "d1dd62b0-2e01-4452-fc8c-c53d55e70f70"
      },
      "execution_count": 4,
      "outputs": [
        {
          "output_type": "stream",
          "name": "stdout",
          "text": [
            "['s', 's', 'u', 'u', 'u', 'p', 'e', 'r', 'f', 'l', 'o']\n"
          ]
        }
      ]
    },
    {
      "cell_type": "markdown",
      "source": [
        "Testing counter.most_common() function#\n",
        "Another useful method is most_common. We can ask the Counter what the most common items are by passing in a number that represents the top recurring “n” items:"
      ],
      "metadata": {
        "id": "1v_TuX4yKFUN"
      }
    },
    {
      "cell_type": "code",
      "source": [
        "from collections import Counter\n",
        "\n",
        "Counter(\"superfluous\")\n",
        "counter = Counter(\"superfluous\")\n",
        "print(counter.most_common(2))"
      ],
      "metadata": {
        "colab": {
          "base_uri": "https://localhost:8080/"
        },
        "id": "wxqf7ZnwKGK8",
        "outputId": "47fba4c5-7337-4286-ca12-19411f60cbfd"
      },
      "execution_count": 8,
      "outputs": [
        {
          "output_type": "stream",
          "name": "stdout",
          "text": [
            "[('u', 3), ('s', 2)]\n"
          ]
        }
      ]
    },
    {
      "cell_type": "markdown",
      "source": [
        "Here we just ask our Counter what the top two most recurring items were. As we can see, it produced a list of tuples that tells us “u” occurred thrice and “s” occurred twice."
      ],
      "metadata": {
        "id": "cYYdYCIeKRET"
      }
    },
    {
      "cell_type": "markdown",
      "source": [
        "###subtract() method\n",
        "\n",
        "The subtract method accepts an iterable or a mapping and then uses that argument to subtract"
      ],
      "metadata": {
        "id": "EgajiPTQKVyg"
      }
    },
    {
      "cell_type": "code",
      "source": [
        "from collections import Counter\n",
        "\n",
        "counter_one = Counter(\"superfluous\")\n",
        "print(counter_one)\n",
        "\n",
        "\n",
        "counter_two = Counter(\"super\")\n",
        "print(counter_one.subtract(counter_two))\n",
        "\n",
        "\n",
        "print(counter_one)"
      ],
      "metadata": {
        "colab": {
          "base_uri": "https://localhost:8080/"
        },
        "id": "VIR0oQV7KcKb",
        "outputId": "01f03c1d-d271-4d83-e58f-f12e781217f6"
      },
      "execution_count": 9,
      "outputs": [
        {
          "output_type": "stream",
          "name": "stdout",
          "text": [
            "Counter({'u': 3, 's': 2, 'p': 1, 'e': 1, 'r': 1, 'f': 1, 'l': 1, 'o': 1})\n",
            "None\n",
            "Counter({'u': 2, 's': 1, 'f': 1, 'l': 1, 'o': 1, 'p': 0, 'e': 0, 'r': 0})\n"
          ]
        }
      ]
    },
    {
      "cell_type": "markdown",
      "source": [
        "###defaultdict\n",
        "\n",
        "The collections module has a handy tool called defaultdict. The defaultdict is a subclass of Python’s dict that accepts a default_factory as its primary argument. The default_factory is usually a Python type, such as int or list, but we can also use a function or a lambda"
      ],
      "metadata": {
        "id": "3elJRZ5OK8kf"
      }
    },
    {
      "cell_type": "markdown",
      "source": [
        "Simple example of counting the occurrence of words\n",
        "\n",
        "\n",
        "Let’s start by creating a regular Python dictionary that counts the number of times each word is used in a sentence:"
      ],
      "metadata": {
        "id": "BD1UioimLT83"
      }
    },
    {
      "cell_type": "code",
      "source": [
        "sentence = \"The red for jumped over the fence and ran to the zoo for food\"\n",
        "words = sentence.split(' ')\n",
        "\n",
        "reg_dict = {}\n",
        "for word in words:\n",
        "    if word in reg_dict:\n",
        "        reg_dict[word] += 1\n",
        "    else:\n",
        "        reg_dict[word] = 1\n",
        "\n",
        "print(reg_dict)"
      ],
      "metadata": {
        "colab": {
          "base_uri": "https://localhost:8080/"
        },
        "id": "ufhwCbQQLZMe",
        "outputId": "64e200d8-ee60-4a56-9bb4-a61692b02d42"
      },
      "execution_count": 10,
      "outputs": [
        {
          "output_type": "stream",
          "name": "stdout",
          "text": [
            "{'The': 1, 'red': 1, 'for': 2, 'jumped': 1, 'over': 1, 'the': 2, 'fence': 1, 'and': 1, 'ran': 1, 'to': 1, 'zoo': 1, 'food': 1}\n"
          ]
        }
      ]
    },
    {
      "cell_type": "markdown",
      "source": [
        "Now let’s try doing the same thing with defaultdict!"
      ],
      "metadata": {
        "id": "dKIrawWmL2H9"
      }
    },
    {
      "cell_type": "code",
      "source": [
        "from collections import defaultdict\n",
        "\n",
        "sentence = \"The red for jumped over the fence and ran to the zoo for food\"\n",
        "words = sentence.split(' ')\n",
        "\n",
        "d = defaultdict(int)\n",
        "for word in words:\n",
        "    d[word] += 1\n",
        "\n",
        "print(d)"
      ],
      "metadata": {
        "colab": {
          "base_uri": "https://localhost:8080/"
        },
        "id": "OTkqWzwqL4pz",
        "outputId": "e1eb3e2a-ea1a-4171-f521-34642631be54"
      },
      "execution_count": 11,
      "outputs": [
        {
          "output_type": "stream",
          "name": "stdout",
          "text": [
            "defaultdict(<class 'int'>, {'The': 1, 'red': 1, 'for': 2, 'jumped': 1, 'over': 1, 'the': 2, 'fence': 1, 'and': 1, 'ran': 1, 'to': 1, 'zoo': 1, 'food': 1})\n"
          ]
        }
      ]
    },
    {
      "cell_type": "markdown",
      "source": [
        "Trying Python list type as default_factory"
      ],
      "metadata": {
        "id": "ubH3kdi8MKvl"
      }
    },
    {
      "cell_type": "code",
      "source": [
        "my_list = [(1234, 100.23), (345, 10.45), (1234, 75.00),\n",
        "           (345, 222.66), (678, 300.25), (1234, 35.67)]\n",
        "\n",
        "reg_dict = {}\n",
        "for acct_num, value in my_list:\n",
        "    if acct_num in reg_dict:\n",
        "        reg_dict[acct_num].append(value)\n",
        "    else:\n",
        "        reg_dict[acct_num] = [value]\n",
        "\n",
        "print(reg_dict)"
      ],
      "metadata": {
        "colab": {
          "base_uri": "https://localhost:8080/"
        },
        "id": "9MEjKMzjMO4R",
        "outputId": "7d8e85fd-c7ec-4d38-83ee-0dcc63e3607d"
      },
      "execution_count": 12,
      "outputs": [
        {
          "output_type": "stream",
          "name": "stdout",
          "text": [
            "{1234: [100.23, 75.0, 35.67], 345: [10.45, 222.66], 678: [300.25]}\n"
          ]
        }
      ]
    },
    {
      "cell_type": "markdown",
      "source": [
        "Using lambda as default_factory"
      ],
      "metadata": {
        "id": "arXJNJgqMqD9"
      }
    },
    {
      "cell_type": "code",
      "source": [
        "from collections import defaultdict\n",
        "\n",
        "animal = defaultdict(lambda: \"Monkey\")\n",
        "animal['Sam'] = 'Tiger'\n",
        "\n",
        "print (animal['Nick'])\n",
        "\n",
        "print (animal)"
      ],
      "metadata": {
        "colab": {
          "base_uri": "https://localhost:8080/"
        },
        "id": "HGMMpkgIMpar",
        "outputId": "3855c325-95f1-456c-8553-49a43af59943"
      },
      "execution_count": 13,
      "outputs": [
        {
          "output_type": "stream",
          "name": "stdout",
          "text": [
            "Monkey\n",
            "defaultdict(<function <lambda> at 0x7e3264b8b920>, {'Sam': 'Tiger', 'Nick': 'Monkey'})\n"
          ]
        }
      ]
    },
    {
      "cell_type": "markdown",
      "source": [
        "Here we create a defaultdict that will assign ‘Monkey’ as the default value to any key. We set the first key to ‘Tiger’, then we don’t set the next key at all. If we print the second key, we will see that ‘Monkey’ is assigned to it. In case we haven’t noticed yet, it’s basically impossible to cause a KeyError to happen as long as we set the default_factory to something that does not make sense. If we happen to set the default_factory to None, then we will receive a KeyError."
      ],
      "metadata": {
        "id": "MafdKjrrNmNx"
      }
    },
    {
      "cell_type": "code",
      "source": [
        "from collections import defaultdict\n",
        "\n",
        "x = defaultdict(None)\n",
        "x['Mike']"
      ],
      "metadata": {
        "colab": {
          "base_uri": "https://localhost:8080/",
          "height": 176
        },
        "id": "RP2Y7XoFNpSC",
        "outputId": "69456994-bdb6-45d1-98b3-d07fcd688f18"
      },
      "execution_count": 14,
      "outputs": [
        {
          "output_type": "error",
          "ename": "KeyError",
          "evalue": "'Mike'",
          "traceback": [
            "\u001b[0;31m---------------------------------------------------------------------------\u001b[0m",
            "\u001b[0;31mKeyError\u001b[0m                                  Traceback (most recent call last)",
            "\u001b[0;32m<ipython-input-14-3992668408>\u001b[0m in \u001b[0;36m<cell line: 0>\u001b[0;34m()\u001b[0m\n\u001b[1;32m      2\u001b[0m \u001b[0;34m\u001b[0m\u001b[0m\n\u001b[1;32m      3\u001b[0m \u001b[0mx\u001b[0m \u001b[0;34m=\u001b[0m \u001b[0mdefaultdict\u001b[0m\u001b[0;34m(\u001b[0m\u001b[0;32mNone\u001b[0m\u001b[0;34m)\u001b[0m\u001b[0;34m\u001b[0m\u001b[0;34m\u001b[0m\u001b[0m\n\u001b[0;32m----> 4\u001b[0;31m \u001b[0mx\u001b[0m\u001b[0;34m[\u001b[0m\u001b[0;34m'Mike'\u001b[0m\u001b[0;34m]\u001b[0m\u001b[0;34m\u001b[0m\u001b[0;34m\u001b[0m\u001b[0m\n\u001b[0m",
            "\u001b[0;31mKeyError\u001b[0m: 'Mike'"
          ]
        }
      ]
    },
    {
      "cell_type": "markdown",
      "source": [
        "###deque\n",
        "\n",
        "According to the Python documentation, “deques are a generalization of stacks and queues”. They are pronounced “deck” which is short for “double-ended queue”. They are a replacement container for the Python list. Deques are thread-safe and support memory efficient appends and pops from either side of the deque. A list is optimized for fast fixed-length operations. A deque accepts a maxlen argument which sets the bounds for the deque. Otherwise the deque will grow to an arbitrary size. When a bounded deque is full, any new items added will cause the same number of items to be popped off the other end."
      ],
      "metadata": {
        "id": "uyUtd1iKOUm7"
      }
    },
    {
      "cell_type": "code",
      "source": [
        "from collections import deque\n",
        "import string\n",
        "\n",
        "d = deque(string.ascii_lowercase)\n",
        "for letter in d:\n",
        "    print(letter)"
      ],
      "metadata": {
        "colab": {
          "base_uri": "https://localhost:8080/"
        },
        "id": "s77L25ZLO6IV",
        "outputId": "6cd27940-bbd1-497f-d114-46fe7f0eb599"
      },
      "execution_count": 15,
      "outputs": [
        {
          "output_type": "stream",
          "name": "stdout",
          "text": [
            "a\n",
            "b\n",
            "c\n",
            "d\n",
            "e\n",
            "f\n",
            "g\n",
            "h\n",
            "i\n",
            "j\n",
            "k\n",
            "l\n",
            "m\n",
            "n\n",
            "o\n",
            "p\n",
            "q\n",
            "r\n",
            "s\n",
            "t\n",
            "u\n",
            "v\n",
            "w\n",
            "x\n",
            "y\n",
            "z\n"
          ]
        }
      ]
    },
    {
      "cell_type": "markdown",
      "source": [
        "###Testing different deque methods\n",
        "\n"
      ],
      "metadata": {
        "id": "NlOBkaoiPU0o"
      }
    },
    {
      "cell_type": "code",
      "source": [
        "from collections import deque\n",
        "import string\n",
        "\n",
        "d = deque(string.ascii_lowercase)\n",
        "for letter in d:\n",
        "    letter\n",
        "\n",
        "d.append(\"bork\")\n",
        "print(d)\n",
        "\n",
        "d.appendleft(\"test\")\n",
        "print(d)\n",
        "\n",
        "d.rotate(1)\n",
        "print(d)"
      ],
      "metadata": {
        "colab": {
          "base_uri": "https://localhost:8080/"
        },
        "id": "xrcqO20XPcm9",
        "outputId": "ccc3d267-3b11-4623-eeaa-839f4cb74250"
      },
      "execution_count": 17,
      "outputs": [
        {
          "output_type": "stream",
          "name": "stdout",
          "text": [
            "deque(['a', 'b', 'c', 'd', 'e', 'f', 'g', 'h', 'i', 'j', 'k', 'l', 'm', 'n', 'o', 'p', 'q', 'r', 's', 't', 'u', 'v', 'w', 'x', 'y', 'z', 'bork'])\n",
            "deque(['test', 'a', 'b', 'c', 'd', 'e', 'f', 'g', 'h', 'i', 'j', 'k', 'l', 'm', 'n', 'o', 'p', 'q', 'r', 's', 't', 'u', 'v', 'w', 'x', 'y', 'z', 'bork'])\n",
            "deque(['bork', 'test', 'a', 'b', 'c', 'd', 'e', 'f', 'g', 'h', 'i', 'j', 'k', 'l', 'm', 'n', 'o', 'p', 'q', 'r', 's', 't', 'u', 'v', 'w', 'x', 'y', 'z'])\n"
          ]
        }
      ]
    },
    {
      "cell_type": "markdown",
      "source": [
        "###namedtuple"
      ],
      "metadata": {
        "id": "9VePAXUGQ5IK"
      }
    },
    {
      "cell_type": "markdown",
      "source": [
        "Creating namedtuple"
      ],
      "metadata": {
        "id": "6dz3ciuiRXiD"
      }
    },
    {
      "cell_type": "code",
      "source": [
        "from collections import namedtuple\n",
        "\n",
        "Parts = namedtuple(\"Parts\", \"id_num desc cost amount\")\n",
        "auto_parts = Parts(id_num=\"1234\", desc=\"Ford Engine\", cost=1200.00, amount=10)\n",
        "print(auto_parts.id_num)"
      ],
      "metadata": {
        "colab": {
          "base_uri": "https://localhost:8080/"
        },
        "id": "-6pnrLd7RbNF",
        "outputId": "96b9fd19-db20-43b2-be50-388eb46cc592"
      },
      "execution_count": 18,
      "outputs": [
        {
          "output_type": "stream",
          "name": "stdout",
          "text": [
            "1234\n"
          ]
        }
      ]
    },
    {
      "cell_type": "markdown",
      "source": [
        "One of the benefits of using a namedtuple over a regular tuple is that we no longer have to keep track of each item’s index because now each item is named and accessed via a class property."
      ],
      "metadata": {
        "id": "_bWfr7LXSEuh"
      }
    },
    {
      "cell_type": "code",
      "source": [
        "from collections import Counter\n",
        "\n",
        "auto_parts = (\"1234\", \"Ford Engine\", 1200.00, 10)\n",
        "print(auto_parts[0])\n",
        "\n",
        "id_num, desc, cost, amount = auto_parts\n",
        "print(desc)"
      ],
      "metadata": {
        "colab": {
          "base_uri": "https://localhost:8080/"
        },
        "id": "zpEoRHMkSHMr",
        "outputId": "dad785d7-4ab6-490a-83c6-dd1e6169adc6"
      },
      "execution_count": 20,
      "outputs": [
        {
          "output_type": "stream",
          "name": "stdout",
          "text": [
            "1234\n",
            "Ford Engine\n"
          ]
        }
      ]
    },
    {
      "cell_type": "code",
      "source": [
        "# Here is a code to convert a Python dictionary into an object\n",
        "\n",
        "from collections import namedtuple\n",
        "\n",
        "Parts = {'id_num':'1234', 'desc':'Ford Engine',\n",
        "     'cost':1200.00, 'amount':10}\n",
        "parts = namedtuple('Parts', Parts.keys())(**Parts)\n",
        "print (parts)"
      ],
      "metadata": {
        "colab": {
          "base_uri": "https://localhost:8080/"
        },
        "id": "JTpX_PttSYu2",
        "outputId": "8537f767-c6d1-4021-8e84-cd0f8c12cb3b"
      },
      "execution_count": 21,
      "outputs": [
        {
          "output_type": "stream",
          "name": "stdout",
          "text": [
            "Parts(id_num='1234', desc='Ford Engine', cost=1200.0, amount=10)\n"
          ]
        }
      ]
    },
    {
      "cell_type": "markdown",
      "source": [
        "###OrderedDict"
      ],
      "metadata": {
        "id": "w2myyn9-Svvn"
      }
    },
    {
      "cell_type": "markdown",
      "source": [
        "Python’s collections module has another great subclass of dict known as OrderedDict. As the name implies, this dictionary keeps track of the order of the keys as they are added. If we create a regular dict, we will note that it is an unordered data collection"
      ],
      "metadata": {
        "id": "zlvnNpC_SzNh"
      }
    },
    {
      "cell_type": "code",
      "source": [
        "from collections import Counter\n",
        "\n",
        "Counter(\"superfluous\")\n",
        "counter = Counter(\"superfluous\")\n",
        "d = {\"banana\": 3, \"apple\": 4, \"pear\": 1, \"orange\": 2}\n",
        "print(d)"
      ],
      "metadata": {
        "colab": {
          "base_uri": "https://localhost:8080/"
        },
        "id": "-K7zlQNZS8NF",
        "outputId": "d65e6fd5-e0c5-40d4-c80c-809d6a58a6c3"
      },
      "execution_count": 25,
      "outputs": [
        {
          "output_type": "stream",
          "name": "stdout",
          "text": [
            "{'banana': 3, 'apple': 4, 'pear': 1, 'orange': 2}\n"
          ]
        }
      ]
    },
    {
      "cell_type": "markdown",
      "source": [
        "Every time we print it out, the order may be different. There are times when we will need to loop over the keys of our dictionary in a specific order. For example, we have a use case where we needed the keys sorted so we could loop over them in order."
      ],
      "metadata": {
        "id": "qPmEfC8xTLOR"
      }
    },
    {
      "cell_type": "code",
      "source": [
        "d = {\"banana\": 3, \"apple\": 4, \"pear\": 1, \"orange\": 2}\n",
        "keys = d.keys()\n",
        "print(keys)\n",
        "\n",
        "\n",
        "keys = sorted(keys)\n",
        "print(keys)\n",
        "\n",
        "\n",
        "for key in keys:\n",
        "    print(key, d[key])"
      ],
      "metadata": {
        "colab": {
          "base_uri": "https://localhost:8080/"
        },
        "id": "yN9dBS0iTPVn",
        "outputId": "0fab88d6-9310-4ffc-8257-29cba6d83f2c"
      },
      "execution_count": 26,
      "outputs": [
        {
          "output_type": "stream",
          "name": "stdout",
          "text": [
            "dict_keys(['banana', 'apple', 'pear', 'orange'])\n",
            "['apple', 'banana', 'orange', 'pear']\n",
            "apple 4\n",
            "banana 3\n",
            "orange 2\n",
            "pear 1\n"
          ]
        }
      ]
    },
    {
      "cell_type": "code",
      "source": [
        "#Sorting the dictionary's keys using OrderedDict\n",
        "\n",
        "from collections import OrderedDict\n",
        "\n",
        "d = {\"banana\": 3, \"apple\": 4, \"pear\": 1, \"orange\": 2}\n",
        "new_d = OrderedDict(sorted(d.items()))\n",
        "print(new_d)\n",
        "\n",
        "\n",
        "for key in new_d:\n",
        "    print(key, new_d[key])"
      ],
      "metadata": {
        "colab": {
          "base_uri": "https://localhost:8080/"
        },
        "id": "i-0VXWPeTiv_",
        "outputId": "2338f3f2-87eb-4351-cd54-23f89b840b29"
      },
      "execution_count": 27,
      "outputs": [
        {
          "output_type": "stream",
          "name": "stdout",
          "text": [
            "OrderedDict([('apple', 4), ('banana', 3), ('orange', 2), ('pear', 1)])\n",
            "apple 4\n",
            "banana 3\n",
            "orange 2\n",
            "pear 1\n"
          ]
        }
      ]
    },
    {
      "cell_type": "code",
      "source": [
        "# Testing reverse iteration using OrderedDict\n",
        "\n",
        "from collections import OrderedDict\n",
        "\n",
        "d = {\"banana\": 3, \"apple\": 4, \"pear\": 1, \"orange\": 2}\n",
        "new_d = OrderedDict(sorted(d.items()))\n",
        "new_d\n",
        "\n",
        "for key in new_d:\n",
        "    key, new_d[key]\n",
        "for key in reversed(new_d):\n",
        "    print(key, new_d[key])"
      ],
      "metadata": {
        "colab": {
          "base_uri": "https://localhost:8080/"
        },
        "id": "zoEMP02AT3yl",
        "outputId": "5ca840a0-5104-44a7-e89e-2ca2450f31ae"
      },
      "execution_count": 28,
      "outputs": [
        {
          "output_type": "stream",
          "name": "stdout",
          "text": [
            "pear 1\n",
            "orange 2\n",
            "banana 3\n",
            "apple 4\n"
          ]
        }
      ]
    },
    {
      "cell_type": "markdown",
      "source": [
        "###How list is not an iterator?"
      ],
      "metadata": {
        "id": "btvdIQ16X1sP"
      }
    },
    {
      "cell_type": "code",
      "source": [
        "my_list = [1, 2, 3]\n",
        "next(my_list)"
      ],
      "metadata": {
        "colab": {
          "base_uri": "https://localhost:8080/",
          "height": 158
        },
        "id": "OWO4IVmMX5ZB",
        "outputId": "2d57c2dc-a334-4162-a898-34061961bead"
      },
      "execution_count": 29,
      "outputs": [
        {
          "output_type": "error",
          "ename": "TypeError",
          "evalue": "'list' object is not an iterator",
          "traceback": [
            "\u001b[0;31m---------------------------------------------------------------------------\u001b[0m",
            "\u001b[0;31mTypeError\u001b[0m                                 Traceback (most recent call last)",
            "\u001b[0;32m<ipython-input-29-149012055>\u001b[0m in \u001b[0;36m<cell line: 0>\u001b[0;34m()\u001b[0m\n\u001b[1;32m      1\u001b[0m \u001b[0mmy_list\u001b[0m \u001b[0;34m=\u001b[0m \u001b[0;34m[\u001b[0m\u001b[0;36m1\u001b[0m\u001b[0;34m,\u001b[0m \u001b[0;36m2\u001b[0m\u001b[0;34m,\u001b[0m \u001b[0;36m3\u001b[0m\u001b[0;34m]\u001b[0m\u001b[0;34m\u001b[0m\u001b[0;34m\u001b[0m\u001b[0m\n\u001b[0;32m----> 2\u001b[0;31m \u001b[0mnext\u001b[0m\u001b[0;34m(\u001b[0m\u001b[0mmy_list\u001b[0m\u001b[0;34m)\u001b[0m\u001b[0;34m\u001b[0m\u001b[0;34m\u001b[0m\u001b[0m\n\u001b[0m",
            "\u001b[0;31mTypeError\u001b[0m: 'list' object is not an iterator"
          ]
        }
      ]
    },
    {
      "cell_type": "code",
      "source": [
        "print (iter(my_list))\n",
        "\n",
        "\n",
        "list_iterator = iter(my_list)\n",
        "print (next(list_iterator))\n",
        "\n",
        "\n",
        "print (next(list_iterator))\n",
        "\n",
        "\n",
        "print (next(list_iterator))\n",
        "\n",
        "\n",
        "print (next(list_iterator))"
      ],
      "metadata": {
        "colab": {
          "base_uri": "https://localhost:8080/",
          "height": 245
        },
        "id": "NiFpMBYzYIpx",
        "outputId": "b68faecf-9408-427e-a620-d0c2ec9e062b"
      },
      "execution_count": 30,
      "outputs": [
        {
          "output_type": "stream",
          "name": "stdout",
          "text": [
            "<list_iterator object at 0x7e326548f0d0>\n",
            "1\n",
            "2\n",
            "3\n"
          ]
        },
        {
          "output_type": "error",
          "ename": "StopIteration",
          "evalue": "",
          "traceback": [
            "\u001b[0;31m---------------------------------------------------------------------------\u001b[0m",
            "\u001b[0;31mStopIteration\u001b[0m                             Traceback (most recent call last)",
            "\u001b[0;32m<ipython-input-30-3106955535>\u001b[0m in \u001b[0;36m<cell line: 0>\u001b[0;34m()\u001b[0m\n\u001b[1;32m     12\u001b[0m \u001b[0;34m\u001b[0m\u001b[0m\n\u001b[1;32m     13\u001b[0m \u001b[0;34m\u001b[0m\u001b[0m\n\u001b[0;32m---> 14\u001b[0;31m \u001b[0mprint\u001b[0m \u001b[0;34m(\u001b[0m\u001b[0mnext\u001b[0m\u001b[0;34m(\u001b[0m\u001b[0mlist_iterator\u001b[0m\u001b[0;34m)\u001b[0m\u001b[0;34m)\u001b[0m\u001b[0;34m\u001b[0m\u001b[0;34m\u001b[0m\u001b[0m\n\u001b[0m",
            "\u001b[0;31mStopIteration\u001b[0m: "
          ]
        }
      ]
    },
    {
      "cell_type": "code",
      "source": [
        "# Trying loops with iterator\n",
        "my_list = [1, 2, 3]\n",
        "for item in iter(my_list):\n",
        "    print(item)"
      ],
      "metadata": {
        "colab": {
          "base_uri": "https://localhost:8080/"
        },
        "id": "Hd-Ghf6wYQq-",
        "outputId": "e5b36784-10a2-4704-fc7e-194785b37c87"
      },
      "execution_count": 31,
      "outputs": [
        {
          "output_type": "stream",
          "name": "stdout",
          "text": [
            "1\n",
            "2\n",
            "3\n"
          ]
        }
      ]
    },
    {
      "cell_type": "code",
      "source": [
        "# Creating an iterator for string of letters\n",
        "\n",
        "class MyIterator:\n",
        "\n",
        "    def __init__(self, letters):\n",
        "        \"\"\"\n",
        "        Constructor\n",
        "        \"\"\"\n",
        "\n",
        "        self.letters = letters\n",
        "        self.position = 0\n",
        "\n",
        "    def __iter__(self):\n",
        "        \"\"\"\n",
        "        Returns itself as an iterator\n",
        "        \"\"\"\n",
        "\n",
        "        return self\n",
        "\n",
        "    def __next__(self):\n",
        "        \"\"\"\n",
        "        Returns the next letter in the sequence or\n",
        "        raises StopIteration\n",
        "        \"\"\"\n",
        "\n",
        "        if self.position >= len(self.letters):\n",
        "            raise StopIteration\n",
        "        letter = self.letters[self.position]\n",
        "        self.position += 1\n",
        "        return letter\n",
        "\n",
        "\n",
        "if __name__ == '__main__':\n",
        "    i = MyIterator('abcd')\n",
        "    for item in i:\n",
        "        print (item)"
      ],
      "metadata": {
        "colab": {
          "base_uri": "https://localhost:8080/"
        },
        "id": "s-E7WWumYUEN",
        "outputId": "a7398e3e-cb3d-4a42-e34c-1c275c933349"
      },
      "execution_count": 32,
      "outputs": [
        {
          "output_type": "stream",
          "name": "stdout",
          "text": [
            "a\n",
            "b\n",
            "c\n",
            "d\n"
          ]
        }
      ]
    },
    {
      "cell_type": "code",
      "source": [
        "# Creating an infinite iterator\n",
        "\n",
        "class Doubler:\n",
        "\n",
        "    \"\"\"\n",
        "    An infinite iterator\n",
        "    \"\"\"\n",
        "\n",
        "    def __init__(self):\n",
        "        \"\"\"\n",
        "        Constructor\n",
        "        \"\"\"\n",
        "\n",
        "        self.number = 0\n",
        "\n",
        "    def __iter__(self):\n",
        "        \"\"\"\n",
        "        Returns itself as an iterator\n",
        "        \"\"\"\n",
        "\n",
        "        return self\n",
        "\n",
        "    def __next__(self):\n",
        "        \"\"\"\n",
        "        Doubles the number each time next is called\n",
        "        and returns it.\n",
        "        \"\"\"\n",
        "\n",
        "        self.number += 1\n",
        "        return self.number * self.number\n",
        "\n",
        "\n",
        "if __name__ == '__main__':\n",
        "    doubler = Doubler()\n",
        "    count = 0\n",
        "\n",
        "    for number in doubler:\n",
        "        print (number)\n",
        "        if count > 5:\n",
        "            break\n",
        "        count += 1"
      ],
      "metadata": {
        "colab": {
          "base_uri": "https://localhost:8080/"
        },
        "id": "4COVj_04cbVx",
        "outputId": "1a8ab67e-0749-44ba-9f82-b79cf8ef94f8"
      },
      "execution_count": 33,
      "outputs": [
        {
          "output_type": "stream",
          "name": "stdout",
          "text": [
            "1\n",
            "4\n",
            "9\n",
            "16\n",
            "25\n",
            "36\n",
            "49\n"
          ]
        }
      ]
    },
    {
      "cell_type": "markdown",
      "source": [
        "##Generators\n",
        "\n",
        "A normal Python function will always return one value, whether it be a list, an integer or some other object. But what if we call a function and it yields a series of values? That is where generators come in. A generator works by “saving” where it last left off (or yielding) and giving the calling function a value. So instead of returning the execution to the caller, it just gives temporary control back. To do this magic, a generator function requires Python’s yield statement."
      ],
      "metadata": {
        "id": "rG66pXyrdAib"
      }
    },
    {
      "cell_type": "code",
      "source": [
        "#Creating a simple generator\n",
        "\n",
        "def doubler_generator():\n",
        "    number = 2\n",
        "    while True:\n",
        "        yield number\n",
        "        number *= number\n",
        "\n",
        "doubler = doubler_generator()\n",
        "print (next(doubler))\n",
        "\n",
        "\n",
        "print (next(doubler))\n",
        "\n",
        "\n",
        "print (next(doubler))\n",
        "\n",
        "\n",
        "print (type(doubler))"
      ],
      "metadata": {
        "colab": {
          "base_uri": "https://localhost:8080/"
        },
        "id": "ZKP6RavNdMdj",
        "outputId": "4539aa38-b0bd-4d15-9feb-23e6dcf6d293"
      },
      "execution_count": 34,
      "outputs": [
        {
          "output_type": "stream",
          "name": "stdout",
          "text": [
            "2\n",
            "4\n",
            "16\n",
            "<class 'generator'>\n"
          ]
        }
      ]
    },
    {
      "cell_type": "code",
      "source": [
        "# Generator with three items\n",
        "\n",
        "def silly_generator():\n",
        "    yield 'Python'\n",
        "    yield 'Rocks'\n",
        "    yield 'So do you!'\n",
        "\n",
        "\n",
        "gen = silly_generator()\n",
        "print (next(gen))\n",
        "\n",
        "print (next(gen))\n",
        "\n",
        "print (next(gen))\n",
        "\n",
        "print (next(gen))"
      ],
      "metadata": {
        "colab": {
          "base_uri": "https://localhost:8080/",
          "height": 228
        },
        "id": "J9v5IaFodj17",
        "outputId": "45882a7f-97a3-4c66-bf8e-27e1abaac4d5"
      },
      "execution_count": 35,
      "outputs": [
        {
          "output_type": "stream",
          "name": "stdout",
          "text": [
            "Python\n",
            "Rocks\n",
            "So do you!\n"
          ]
        },
        {
          "output_type": "error",
          "ename": "StopIteration",
          "evalue": "",
          "traceback": [
            "\u001b[0;31m---------------------------------------------------------------------------\u001b[0m",
            "\u001b[0;31mStopIteration\u001b[0m                             Traceback (most recent call last)",
            "\u001b[0;32m<ipython-input-35-14327080>\u001b[0m in \u001b[0;36m<cell line: 0>\u001b[0;34m()\u001b[0m\n\u001b[1;32m     14\u001b[0m \u001b[0mprint\u001b[0m \u001b[0;34m(\u001b[0m\u001b[0mnext\u001b[0m\u001b[0;34m(\u001b[0m\u001b[0mgen\u001b[0m\u001b[0;34m)\u001b[0m\u001b[0;34m)\u001b[0m\u001b[0;34m\u001b[0m\u001b[0;34m\u001b[0m\u001b[0m\n\u001b[1;32m     15\u001b[0m \u001b[0;34m\u001b[0m\u001b[0m\n\u001b[0;32m---> 16\u001b[0;31m \u001b[0mprint\u001b[0m \u001b[0;34m(\u001b[0m\u001b[0mnext\u001b[0m\u001b[0;34m(\u001b[0m\u001b[0mgen\u001b[0m\u001b[0;34m)\u001b[0m\u001b[0;34m)\u001b[0m\u001b[0;34m\u001b[0m\u001b[0;34m\u001b[0m\u001b[0m\n\u001b[0m",
            "\u001b[0;31mStopIteration\u001b[0m: "
          ]
        }
      ]
    },
    {
      "cell_type": "markdown",
      "source": [
        "###Generator and loops"
      ],
      "metadata": {
        "id": "7gdzBTV2eANs"
      }
    },
    {
      "cell_type": "code",
      "source": [
        "def silly_generator():\n",
        "    yield 'Python'\n",
        "    yield 'Rocks'\n",
        "    yield 'So do you!'\n",
        "\n",
        "\n",
        "gen = silly_generator()\n",
        "for item in gen:\n",
        "    print (item)"
      ],
      "metadata": {
        "colab": {
          "base_uri": "https://localhost:8080/"
        },
        "id": "N24XWt7HeDDm",
        "outputId": "cd7b59eb-d4f3-4df3-9623-96987bff708d"
      },
      "execution_count": 36,
      "outputs": [
        {
          "output_type": "stream",
          "name": "stdout",
          "text": [
            "Python\n",
            "Rocks\n",
            "So do you!\n"
          ]
        }
      ]
    },
    {
      "cell_type": "markdown",
      "source": [
        "##Regular expressions"
      ],
      "metadata": {
        "id": "r72i19gweoHQ"
      }
    },
    {
      "cell_type": "markdown",
      "source": [
        "Let’s spend a few moments looking at how some of these work."
      ],
      "metadata": {
        "id": "vtvYtApEe7AP"
      }
    },
    {
      "cell_type": "markdown",
      "source": [
        "##[ and ]\n",
        "One of the most common pairs of metacharacters we will encounter are the square braces: [ and ]. They are used for creating a “character class”, which is a set of characters that we would like to match. We may list the characters individually like this: [xyz]. This will match any of the characters listed between the braces. We can also use a dash to express a range of characters to match against: [a-g]. In this example, we would match against any of the letters a through g."
      ],
      "metadata": {
        "id": "8NcUlxTbfGnd"
      }
    },
    {
      "cell_type": "markdown",
      "source": [
        "##*\n",
        "To actually do a search though, we would need to add a beginning character to look for and an ending character. To make this easier, we can use the asterisk which allows repetitions. Instead of matching *, the * will tell the regular expression that the previous character may be matched zero or more times."
      ],
      "metadata": {
        "id": "abAiK_pafU9O"
      }
    },
    {
      "cell_type": "code",
      "source": [
        "# Simple example of character matching\n",
        "\n",
        "import re\n",
        "text = 'abcdfghijk'\n",
        "parser = re.search('a[b-f]*f', text)\n",
        "print (parser)\n",
        "\n",
        "\n",
        "print (parser.group())"
      ],
      "metadata": {
        "colab": {
          "base_uri": "https://localhost:8080/"
        },
        "id": "nBiB_ZjhfaAl",
        "outputId": "810945ca-ae3c-40f4-e0ca-3bfc00360ce6"
      },
      "execution_count": 37,
      "outputs": [
        {
          "output_type": "stream",
          "name": "stdout",
          "text": [
            "<re.Match object; span=(0, 5), match='abcdf'>\n",
            "abcdf\n"
          ]
        }
      ]
    },
    {
      "cell_type": "markdown",
      "source": [
        "##+\n",
        "There’s another repeating metacharacter which is similar to *. It is +, which will match one or more times. This is a subtle difference from * which matches zero or more times. The + requires at least one occurrence of the character it is looking for."
      ],
      "metadata": {
        "id": "beLfEo92f4vO"
      }
    },
    {
      "cell_type": "markdown",
      "source": [
        "##?\n",
        "\n",
        "The last two repeating metacharacters work a bit differently. There is the question mark, ?, which will match either once or zero times. It sort of marks the character before it as optional. A simple example would be “co-?op”. This would match both “coop” and “co-op”."
      ],
      "metadata": {
        "id": "Q0khO2UYgHHX"
      }
    },
    {
      "cell_type": "markdown",
      "source": [
        "##{ and }\n",
        "The final repeated metacharacter is {a,b} where a and b are decimal integers. What this means is that there must be at least a repetitions and at most b.\n",
        "\n",
        "\n",
        "example:                xb{1,4}z"
      ],
      "metadata": {
        "id": "eZgvp-3BgP5C"
      }
    },
    {
      "cell_type": "markdown",
      "source": [
        "### Pattern Matching Using Search and Escape Codes"
      ],
      "metadata": {
        "id": "S3MsgXq1gvt3"
      }
    },
    {
      "cell_type": "markdown",
      "source": [
        "Pattern matching with search()"
      ],
      "metadata": {
        "id": "ULnA_PnLhGf3"
      }
    },
    {
      "cell_type": "code",
      "source": [
        "import re\n",
        "\n",
        "text = \"The ants go marching one by one\"\n",
        "\n",
        "strings = ['the', 'one']\n",
        "\n",
        "for string in strings:\n",
        "    match = re.search(string, text)\n",
        "    if match:\n",
        "        print('Found \"{}\" in \"{}\"'.format(string, text))\n",
        "        text_pos = match.span()\n",
        "        print(text[match.start():match.end()])\n",
        "    else:\n",
        "        print('Did not find \"{}\"'.format(string))"
      ],
      "metadata": {
        "colab": {
          "base_uri": "https://localhost:8080/"
        },
        "id": "CthBkf5dhJzX",
        "outputId": "88ac2526-72f9-442c-c5bb-b6eb380602c8"
      },
      "execution_count": 38,
      "outputs": [
        {
          "output_type": "stream",
          "name": "stdout",
          "text": [
            "Did not find \"the\"\n",
            "Found \"one\" in \"The ants go marching one by one\"\n",
            "one\n"
          ]
        }
      ]
    },
    {
      "cell_type": "markdown",
      "source": [
        "###Example of compiling using re module"
      ],
      "metadata": {
        "id": "qcIrA3thh8W-"
      }
    },
    {
      "cell_type": "code",
      "source": [
        "import re\n",
        "\n",
        "text = \"The ants go marching one by one\"\n",
        "\n",
        "strings = ['the', 'one']\n",
        "\n",
        "for string in strings:\n",
        "    regex = re.compile(string)\n",
        "    match = re.search(regex, text)\n",
        "    if match:\n",
        "        print('Found \"{}\" in \"{}\"'.format(string, text))\n",
        "        text_pos = match.span()"
      ],
      "metadata": {
        "colab": {
          "base_uri": "https://localhost:8080/"
        },
        "id": "qJ0O5V28iBA6",
        "outputId": "e53bc795-f9be-4810-c9bc-806596a9b0d9"
      },
      "execution_count": 39,
      "outputs": [
        {
          "output_type": "stream",
          "name": "stdout",
          "text": [
            "Found \"one\" in \"The ants go marching one by one\"\n"
          ]
        }
      ]
    },
    {
      "cell_type": "markdown",
      "source": [
        "###re.A / re.ASCII\n",
        "The ASCII flag tells Python to only match against ASCII instead of using full Unicode matching when coupled with the following escape codes: w, W, b, B, d, D, s and S. There is a re.U / re.UNICODE flag too that is for backward compatibility purposes; however, those flags are redundant since Python 3 already matches Unicode by default."
      ],
      "metadata": {
        "id": "kw1BgTifiAiW"
      }
    },
    {
      "cell_type": "markdown",
      "source": [
        "###re.DEBUG\n",
        "This will display debug information about our compiled expression."
      ],
      "metadata": {
        "id": "YH6MeQ__iVpM"
      }
    },
    {
      "cell_type": "markdown",
      "source": [
        "###re.I / re.IGNORECASE\n",
        "If we’d like to perform case-insensitive matching, then this is the flag for us. If our expression was [a-z] and we compiled it with this flag, our pattern will also match uppercase letters too! This also works for Unicode, and it’s not affected by the current locale."
      ],
      "metadata": {
        "id": "D5X6rF78iZ8S"
      }
    },
    {
      "cell_type": "markdown",
      "source": [
        "###re.M / re.MULTILINE\n",
        "When we use this flag, we are telling Python to make the ^ pattern character match at both the beginning of the string and at the beginning of each line. It also tells Python that $ should match at the end of the string and the end of each line, which is subtly different from their defaults."
      ],
      "metadata": {
        "id": "tPEwpiATidcz"
      }
    },
    {
      "cell_type": "markdown",
      "source": [
        "###re.S / re.DOTALL\n",
        "This fun flag will make the . (period) metacharacter match any character at all. Without the flag, it would match anything except a newline."
      ],
      "metadata": {
        "id": "LhIc4mzhigUs"
      }
    },
    {
      "cell_type": "markdown",
      "source": [
        "###re.X / re.VERBOSE#\n",
        "If we find our regular expressions hard to read, then this flag is just what we need. It will allow us to visually separate logical sections of our regular expressions and even add comments! Whitespace within the pattern will be ignored except when in a character class or when the whitespace is preceded by an unescaped backslash."
      ],
      "metadata": {
        "id": "iYe9-kr2ijLk"
      }
    },
    {
      "cell_type": "code",
      "source": [
        "# Using a compilation flag\n",
        "\n",
        "import re\n",
        "\n",
        "def validate_input(input_email):\n",
        "\n",
        "\n",
        "\tre_compilation=re.compile(r\"\"\"\n",
        "                           ^([a-z0-9_\\.-]+)      #it will pick the first local part\n",
        "                           @                     # will pick the @ sign\n",
        "                            ([0-9a-z\\.-]+)       # will pick the domain name\n",
        "                           \\.                    # will have single \".\"\n",
        "                            ([a-z]{2,6})$        # it will pick the top level Domain (last part)\n",
        "                           \"\"\",\n",
        "           re.VERBOSE)\n",
        "\n",
        "\tresult=re_compilation.fullmatch(input_email)\n",
        "\n",
        "\tif result:\n",
        "\t\tprint(\"{} is Valid.\".format(input_email))\n",
        "\n",
        "\telse:\n",
        "\t\tprint(\"{} is Invalid\".format(input_email))\n",
        "\n",
        "\n",
        "validate_input(\"name@gmail.com\")\n",
        "validate_input(\"name@.com\")"
      ],
      "metadata": {
        "colab": {
          "base_uri": "https://localhost:8080/"
        },
        "id": "nFSaCGELjWc1",
        "outputId": "57cb9564-b4f8-4c16-bf8a-f8e422bfc31f"
      },
      "execution_count": 42,
      "outputs": [
        {
          "output_type": "stream",
          "name": "stdout",
          "text": [
            "name@gmail.com is Valid.\n",
            "name@.com is Invalid\n"
          ]
        }
      ]
    },
    {
      "cell_type": "code",
      "source": [
        "# Finding multiple matches using findall()\n",
        "\n",
        "import re\n",
        "silly_string = \"the cat in the hat\"\n",
        "pattern = \"the\"\n",
        "print (re.findall(pattern, silly_string))"
      ],
      "metadata": {
        "colab": {
          "base_uri": "https://localhost:8080/"
        },
        "id": "MFlc9SG6kC3Y",
        "outputId": "aa2469e5-8d58-430f-b938-73fd24dbb0e9"
      },
      "execution_count": 43,
      "outputs": [
        {
          "output_type": "stream",
          "name": "stdout",
          "text": [
            "['the', 'the']\n"
          ]
        }
      ]
    },
    {
      "cell_type": "code",
      "source": [
        "# Finding multiple matches using finditer()\n",
        "\n",
        "import re\n",
        "\n",
        "silly_string = \"the cat in the hat\"\n",
        "pattern = \"the\"\n",
        "\n",
        "for match in re.finditer(pattern, silly_string):\n",
        "    s = \"Found '{group}' at {begin}:{end}\".format(\n",
        "        group=match.group(), begin=match.start(),\n",
        "        end=match.end())\n",
        "    print(s)"
      ],
      "metadata": {
        "colab": {
          "base_uri": "https://localhost:8080/"
        },
        "id": "RRVqUsHjkLkl",
        "outputId": "5f80fe6e-d018-468d-d23e-f55aae5f8a66"
      },
      "execution_count": 44,
      "outputs": [
        {
          "output_type": "stream",
          "name": "stdout",
          "text": [
            "Found 'the' at 0:3\n",
            "Found 'the' at 11:14\n"
          ]
        }
      ]
    },
    {
      "cell_type": "markdown",
      "source": [
        "To search for this in a regular expression, we will need to escape the backslash but because Python also uses the backslash, then that backslash also has to be escaped so we’ll end up with the following search pattern: “\\\\python”."
      ],
      "metadata": {
        "id": "h-vZeqhWkyvE"
      }
    },
    {
      "cell_type": "code",
      "source": [],
      "metadata": {
        "id": "M5tCHzOjFk5M"
      },
      "execution_count": null,
      "outputs": []
    },
    {
      "cell_type": "code",
      "source": [
        "testing_string = 'python \"\\\"'\n",
        "print(testing_string)"
      ],
      "metadata": {
        "colab": {
          "base_uri": "https://localhost:8080/"
        },
        "id": "d38EBPZKk1N6",
        "outputId": "a825a32a-caa1-4c9e-d6bd-eed39be83fdb"
      },
      "execution_count": 45,
      "outputs": [
        {
          "output_type": "stream",
          "name": "stdout",
          "text": [
            "python \"\"\n"
          ]
        }
      ]
    },
    {
      "cell_type": "code",
      "source": [
        "testing_string = 'python \"\\\\\"'\n",
        "print(testing_string)"
      ],
      "metadata": {
        "colab": {
          "base_uri": "https://localhost:8080/"
        },
        "id": "ho2fwux7k3_Z",
        "outputId": "1eb2a26c-a300-4d5b-d9dd-c0be53ee4d7f"
      },
      "execution_count": 46,
      "outputs": [
        {
          "output_type": "stream",
          "name": "stdout",
          "text": [
            "python \"\\\"\n"
          ]
        }
      ]
    },
    {
      "cell_type": "code",
      "source": [
        "# Python supports raw strings by pre-pending the string with the letter ‘r’. So we can make this more readable by doing the following: r\"\\python\".\n",
        "\n",
        "testing_string = r'python \"\\\"'\n",
        "print(testing_string)"
      ],
      "metadata": {
        "colab": {
          "base_uri": "https://localhost:8080/"
        },
        "id": "pVTcoqDEk7f6",
        "outputId": "b2f955bf-e83f-4662-a1eb-4115ea45ab77"
      },
      "execution_count": 47,
      "outputs": [
        {
          "output_type": "stream",
          "name": "stdout",
          "text": [
            "python \"\\\"\n"
          ]
        }
      ]
    }
  ]
}